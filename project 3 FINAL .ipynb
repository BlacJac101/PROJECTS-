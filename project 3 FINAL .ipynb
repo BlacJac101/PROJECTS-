{
 "cells": [
  {
   "cell_type": "markdown",
   "metadata": {},
   "source": [
    "<img src=\"http://imgur.com/1ZcRyrc.png\" style=\"float: left; margin: 15px; height: 80px\">\n",
    "\n",
    "# Project 3\n",
    "\n",
    "### Regression and Classification with the Ames Housing Data\n",
    "\n",
    "You work for a real estate company interested in using data science to determine the best properties to buy and re-sell. Specifically, your company would like to identify the characteristics of residential houses that estimate the sale price and the cost-effectiveness of doing renovations.\n",
    "\n",
    "There are three components to the project:\n",
    "\n",
    "1. Estimate the sale price of properties based on their \"fixed\" characteristics, such as neighborhood, lot size, number of stories, etc.\n",
    "\n",
    "\n",
    "2. Estimate the impact of possible renovations to properties from the variation in sale price not explained by the fixed characteristics.  \n",
    "\n",
    "3. Bonus Question: Determine the features in the housing data that best predict \"abnormal\" sales (foreclosures, etc.).\n",
    "\n",
    "#### The full description of the data features can be found in a separate file in the project-3 repo: data_description.txt\n",
    "\n",
    "#### For question one and two you will likely need to test different models to arrive at your \"best model\" for each question. This should not be an exhaustive exercise as the cleaning and eda ahead is significant enough by itself.  \n",
    "\n",
    "\n",
    "\n",
    "#### This project uses the [Ames housing data recently made available on kaggle](https://www.kaggle.com/c/house-prices-advanced-regression-techniques).\n",
    "\n"
   ]
  },
  {
   "cell_type": "code",
   "execution_count": 1,
   "metadata": {},
   "outputs": [],
   "source": [
    "import numpy as np\n",
    "import scipy.stats as stats\n",
    "import seaborn as sns\n",
    "import matplotlib.pyplot as plt\n",
    "import pandas as pd\n",
    "import dtale \n",
    "\n",
    "sns.set_style('whitegrid')\n",
    "import patsy\n",
    "from sklearn.linear_model import Ridge, Lasso, ElasticNet, LinearRegression, RidgeCV, LassoCV, ElasticNetCV\n",
    "from sklearn.model_selection import cross_val_score\n",
    "from sklearn.preprocessing import StandardScaler\n",
    "import statsmodels.api as sm\n",
    "from sklearn.model_selection import train_test_split\n",
    "from sklearn.feature_selection import SelectKBest, f_classif, chi2\n",
    "from sklearn.metrics import mean_squared_error\n",
    "from sklearn.feature_selection import RFECV\n",
    "from sklearn.linear_model import LogisticRegression\n",
    "from sklearn.model_selection import cross_val_score, cross_val_predict\n",
    "from sklearn import metrics\n",
    "from sklearn.metrics import r2_score\n",
    "from numpy import mean\n",
    "from numpy import std\n",
    "from numpy import absolute\n",
    "from pandas import read_csv\n",
    "from sklearn.model_selection import cross_val_score\n",
    "from sklearn.model_selection import RepeatedKFold\n",
    "from sklearn.linear_model import Ridge\n",
    "from sklearn import metrics\n",
    "from sklearn.linear_model import RidgeCV\n",
    "from sklearn.model_selection import RepeatedKFold\n",
    "from sklearn.model_selection import cross_val_score, cross_val_predict\n",
    "from sklearn import metrics\n",
    "from sklearn.metrics import r2_score\n",
    "# initialize the Scaler\n",
    "ss = StandardScaler()\n",
    "\n",
    "\n",
    "plt.style.use('fivethirtyeight')\n",
    "\n",
    "\n",
    "%config InlineBackend.figure_format = 'retina'\n",
    "%matplotlib inline"
   ]
  },
  {
   "cell_type": "markdown",
   "metadata": {},
   "source": [
    "<img src=\"http://imgur.com/l5NasQj.png\" style=\"float: left; margin: 25px 15px 0px 0px; height: 25px\">\n",
    "\n",
    "## 1. Estimating the value of homes from fixed characteristics.\n",
    "\n",
    "---\n",
    " \n",
    "\n",
    "#### Q1. You need to build a reliable estimator/model for the price of the house given characteristics of the house that CANNOT be renovated. \n",
    "\n",
    "\n",
    "#### Some examples of fixed and renovateble featurs include:\n",
    "\n",
    "#### Fixed features\n",
    "- The neighborhood\n",
    "- Square feet\n",
    "- Bedrooms, bathrooms\n",
    "- Basement and garage space\n",
    "\n",
    " \n",
    "\n",
    "#### Renovateable features:(these are some examples of renovateable features that you will include in your model for question two)\n",
    "- Roof and exterior features\n",
    "- \"Quality\" metrics, such as kitchen quality\n",
    "- \"Condition\" metrics, such as condition of garage\n",
    "- Heating and electrical components\n",
    "\n",
    " \n",
    "\n",
    "### **Your goals for question one:**\n",
    " - Perform any cleaning, feature engineering, and EDA you deem necessary.\n",
    " - Be sure to remove any houses that are not residential from the dataset.\n",
    " - Identify **fixed** features that can predict price.\n",
    " - Train a model on pre-2010 data and evaluate its performance on the 2010 houses.\n",
    " - Characterize your model. How well does it perform? What are the best estimates of price?\n",
    "\n",
    " "
   ]
  },
  {
   "cell_type": "markdown",
   "metadata": {},
   "source": [
    "# Lets start off with some EDA "
   ]
  },
  {
   "cell_type": "code",
   "execution_count": 2,
   "metadata": {},
   "outputs": [],
   "source": [
    "# Load the data\n",
    "houseall = pd.read_csv('./housing.csv')"
   ]
  },
  {
   "cell_type": "code",
   "execution_count": 3,
   "metadata": {},
   "outputs": [],
   "source": [
    "#Lets get rid of non-residential \n",
    "houseall = houseall[houseall.MSZoning!= \"A\"]\n",
    "houseall = houseall[houseall.MSZoning!= \"C\"]\n",
    "houseall = houseall[houseall.MSZoning!= \"FV\"]\n",
    "houseall = houseall[houseall.MSZoning!= \"I\"]\n",
    "\n",
    "#Done!\n"
   ]
  },
  {
   "cell_type": "code",
   "execution_count": 4,
   "metadata": {},
   "outputs": [],
   "source": [
    "#For these, replace the \"NaN\" values with \"NA\" so that they can be represented as categorical data through binarisation\n"
   ]
  },
  {
   "cell_type": "code",
   "execution_count": 5,
   "metadata": {},
   "outputs": [
    {
     "data": {
      "text/plain": [
       "Id                 0\n",
       "MSSubClass         0\n",
       "MSZoning           0\n",
       "LotFrontage      251\n",
       "LotArea            0\n",
       "                ... \n",
       "MoSold             0\n",
       "YrSold             0\n",
       "SaleType           0\n",
       "SaleCondition      0\n",
       "SalePrice          0\n",
       "Length: 81, dtype: int64"
      ]
     },
     "execution_count": 5,
     "metadata": {},
     "output_type": "execute_result"
    }
   ],
   "source": [
    "\n",
    "houseall[\"Alley\"] = houseall[\"Alley\"].fillna(\"NA\")\n",
    "\n",
    "houseall[\"FireplaceQu\"] = houseall[\"FireplaceQu\"].fillna(\"NA\")\n",
    "\n",
    "houseall[\"GarageQual\"] = houseall[\"GarageQual\"].fillna(\"NA\")\n",
    "\n",
    "houseall[\"GarageFinish\"] = houseall[\"GarageFinish\"].fillna(\"NA\")\n",
    "\n",
    "houseall[\"GarageCond\"] = houseall[\"GarageCond\"].fillna(\"NA\")\n",
    "\n",
    "houseall[\"GarageType\"] = houseall[\"GarageType\"].fillna(\"NA\")\n",
    "\n",
    "houseall[\"PoolQC\"] = houseall[\"PoolQC\"].fillna(\"NA\")\n",
    "\n",
    "houseall[\"Fence\"] = houseall[\"Fence\"].fillna(\"NA\")\n",
    "\n",
    "houseall[\"MiscFeature\"] = houseall[\"MiscFeature\"].fillna(\"NA\")\n",
    "\n",
    "houseall[\"BsmtQual\"] = houseall[\"BsmtQual\"].fillna(\"NA\")\n",
    "\n",
    "houseall[\"BsmtCond\"] = houseall[\"BsmtCond\"].fillna(\"NA\")\n",
    "\n",
    "houseall[\"BsmtFinType1\"]= houseall[\"BsmtCond\"].fillna(\"NA\")\n",
    "\n",
    "houseall[\"BsmtQual\"] = houseall[\"BsmtQual\"].fillna(\"NA\")\n",
    "\n",
    "houseall[\"BsmtExposure\"] = houseall[\"BsmtExposure\"].fillna(\"NA\")\n",
    "\n",
    "houseall.isnull().sum()"
   ]
  },
  {
   "cell_type": "code",
   "execution_count": 6,
   "metadata": {},
   "outputs": [],
   "source": [
    "\n",
    "#Don't really underdstand how they dont have electricy- since only one house will drop the row\n",
    "\n",
    "houseall[\"Electrical\"] = houseall[\"Electrical\"].dropna"
   ]
  },
  {
   "cell_type": "code",
   "execution_count": 7,
   "metadata": {},
   "outputs": [
    {
     "data": {
      "text/plain": [
       "0       196.0\n",
       "1         0.0\n",
       "2       162.0\n",
       "3         0.0\n",
       "4       350.0\n",
       "        ...  \n",
       "1455      0.0\n",
       "1456    119.0\n",
       "1457      0.0\n",
       "1458      0.0\n",
       "1459      0.0\n",
       "Name: MasVnrArea, Length: 1395, dtype: float64"
      ]
     },
     "execution_count": 7,
     "metadata": {},
     "output_type": "execute_result"
    }
   ],
   "source": [
    "houseall[\"MasVnrArea\"]#.unique()"
   ]
  },
  {
   "cell_type": "code",
   "execution_count": 8,
   "metadata": {},
   "outputs": [
    {
     "name": "stdout",
     "output_type": "stream",
     "text": [
      "<class 'pandas.core.frame.DataFrame'>\n",
      "Int64Index: 1395 entries, 0 to 1459\n",
      "Data columns (total 81 columns):\n",
      " #   Column         Non-Null Count  Dtype  \n",
      "---  ------         --------------  -----  \n",
      " 0   Id             1395 non-null   int64  \n",
      " 1   MSSubClass     1395 non-null   int64  \n",
      " 2   MSZoning       1395 non-null   object \n",
      " 3   LotFrontage    1144 non-null   float64\n",
      " 4   LotArea        1395 non-null   int64  \n",
      " 5   Street         1395 non-null   object \n",
      " 6   Alley          1395 non-null   object \n",
      " 7   LotShape       1395 non-null   object \n",
      " 8   LandContour    1395 non-null   object \n",
      " 9   Utilities      1395 non-null   object \n",
      " 10  LotConfig      1395 non-null   object \n",
      " 11  LandSlope      1395 non-null   object \n",
      " 12  Neighborhood   1395 non-null   object \n",
      " 13  Condition1     1395 non-null   object \n",
      " 14  Condition2     1395 non-null   object \n",
      " 15  BldgType       1395 non-null   object \n",
      " 16  HouseStyle     1395 non-null   object \n",
      " 17  OverallQual    1395 non-null   int64  \n",
      " 18  OverallCond    1395 non-null   int64  \n",
      " 19  YearBuilt      1395 non-null   int64  \n",
      " 20  YearRemodAdd   1395 non-null   int64  \n",
      " 21  RoofStyle      1395 non-null   object \n",
      " 22  RoofMatl       1395 non-null   object \n",
      " 23  Exterior1st    1395 non-null   object \n",
      " 24  Exterior2nd    1395 non-null   object \n",
      " 25  MasVnrType     1390 non-null   object \n",
      " 26  MasVnrArea     1390 non-null   float64\n",
      " 27  ExterQual      1395 non-null   object \n",
      " 28  ExterCond      1395 non-null   object \n",
      " 29  Foundation     1395 non-null   object \n",
      " 30  BsmtQual       1395 non-null   object \n",
      " 31  BsmtCond       1395 non-null   object \n",
      " 32  BsmtExposure   1395 non-null   object \n",
      " 33  BsmtFinType1   1395 non-null   object \n",
      " 34  BsmtFinSF1     1395 non-null   int64  \n",
      " 35  BsmtFinType2   1357 non-null   object \n",
      " 36  BsmtFinSF2     1395 non-null   int64  \n",
      " 37  BsmtUnfSF      1395 non-null   int64  \n",
      " 38  TotalBsmtSF    1395 non-null   int64  \n",
      " 39  Heating        1395 non-null   object \n",
      " 40  HeatingQC      1395 non-null   object \n",
      " 41  CentralAir     1395 non-null   object \n",
      " 42  Electrical     1395 non-null   object \n",
      " 43  1stFlrSF       1395 non-null   int64  \n",
      " 44  2ndFlrSF       1395 non-null   int64  \n",
      " 45  LowQualFinSF   1395 non-null   int64  \n",
      " 46  GrLivArea      1395 non-null   int64  \n",
      " 47  BsmtFullBath   1395 non-null   int64  \n",
      " 48  BsmtHalfBath   1395 non-null   int64  \n",
      " 49  FullBath       1395 non-null   int64  \n",
      " 50  HalfBath       1395 non-null   int64  \n",
      " 51  BedroomAbvGr   1395 non-null   int64  \n",
      " 52  KitchenAbvGr   1395 non-null   int64  \n",
      " 53  KitchenQual    1395 non-null   object \n",
      " 54  TotRmsAbvGrd   1395 non-null   int64  \n",
      " 55  Functional     1395 non-null   object \n",
      " 56  Fireplaces     1395 non-null   int64  \n",
      " 57  FireplaceQu    1395 non-null   object \n",
      " 58  GarageType     1395 non-null   object \n",
      " 59  GarageYrBlt    1314 non-null   float64\n",
      " 60  GarageFinish   1395 non-null   object \n",
      " 61  GarageCars     1395 non-null   int64  \n",
      " 62  GarageArea     1395 non-null   int64  \n",
      " 63  GarageQual     1395 non-null   object \n",
      " 64  GarageCond     1395 non-null   object \n",
      " 65  PavedDrive     1395 non-null   object \n",
      " 66  WoodDeckSF     1395 non-null   int64  \n",
      " 67  OpenPorchSF    1395 non-null   int64  \n",
      " 68  EnclosedPorch  1395 non-null   int64  \n",
      " 69  3SsnPorch      1395 non-null   int64  \n",
      " 70  ScreenPorch    1395 non-null   int64  \n",
      " 71  PoolArea       1395 non-null   int64  \n",
      " 72  PoolQC         1395 non-null   object \n",
      " 73  Fence          1395 non-null   object \n",
      " 74  MiscFeature    1395 non-null   object \n",
      " 75  MiscVal        1395 non-null   int64  \n",
      " 76  MoSold         1395 non-null   int64  \n",
      " 77  YrSold         1395 non-null   int64  \n",
      " 78  SaleType       1395 non-null   object \n",
      " 79  SaleCondition  1395 non-null   object \n",
      " 80  SalePrice      1395 non-null   int64  \n",
      "dtypes: float64(3), int64(35), object(43)\n",
      "memory usage: 893.7+ KB\n"
     ]
    }
   ],
   "source": [
    "houseall.columns\n",
    "houseall.dtypes.head\n",
    "houseall.info()"
   ]
  },
  {
   "cell_type": "code",
   "execution_count": 9,
   "metadata": {},
   "outputs": [
    {
     "data": {
      "text/plain": [
       "array(['BrkFace', 'None', 'Stone', 'BrkCmn', nan], dtype=object)"
      ]
     },
     "execution_count": 9,
     "metadata": {},
     "output_type": "execute_result"
    }
   ],
   "source": [
    "houseall[\"MasVnrType\"].unique()"
   ]
  },
  {
   "cell_type": "code",
   "execution_count": 10,
   "metadata": {},
   "outputs": [
    {
     "data": {
      "text/html": [
       "<div>\n",
       "<style scoped>\n",
       "    .dataframe tbody tr th:only-of-type {\n",
       "        vertical-align: middle;\n",
       "    }\n",
       "\n",
       "    .dataframe tbody tr th {\n",
       "        vertical-align: top;\n",
       "    }\n",
       "\n",
       "    .dataframe thead th {\n",
       "        text-align: right;\n",
       "    }\n",
       "</style>\n",
       "<table border=\"1\" class=\"dataframe\">\n",
       "  <thead>\n",
       "    <tr style=\"text-align: right;\">\n",
       "      <th></th>\n",
       "      <th>Id</th>\n",
       "      <th>MSSubClass</th>\n",
       "      <th>MSZoning</th>\n",
       "      <th>LotFrontage</th>\n",
       "      <th>LotArea</th>\n",
       "      <th>Street</th>\n",
       "      <th>Alley</th>\n",
       "      <th>LotShape</th>\n",
       "      <th>LandContour</th>\n",
       "      <th>Utilities</th>\n",
       "      <th>...</th>\n",
       "      <th>PoolArea</th>\n",
       "      <th>PoolQC</th>\n",
       "      <th>Fence</th>\n",
       "      <th>MiscFeature</th>\n",
       "      <th>MiscVal</th>\n",
       "      <th>MoSold</th>\n",
       "      <th>YrSold</th>\n",
       "      <th>SaleType</th>\n",
       "      <th>SaleCondition</th>\n",
       "      <th>SalePrice</th>\n",
       "    </tr>\n",
       "  </thead>\n",
       "  <tbody>\n",
       "  </tbody>\n",
       "</table>\n",
       "<p>0 rows × 81 columns</p>\n",
       "</div>"
      ],
      "text/plain": [
       "Empty DataFrame\n",
       "Columns: [Id, MSSubClass, MSZoning, LotFrontage, LotArea, Street, Alley, LotShape, LandContour, Utilities, LotConfig, LandSlope, Neighborhood, Condition1, Condition2, BldgType, HouseStyle, OverallQual, OverallCond, YearBuilt, YearRemodAdd, RoofStyle, RoofMatl, Exterior1st, Exterior2nd, MasVnrType, MasVnrArea, ExterQual, ExterCond, Foundation, BsmtQual, BsmtCond, BsmtExposure, BsmtFinType1, BsmtFinSF1, BsmtFinType2, BsmtFinSF2, BsmtUnfSF, TotalBsmtSF, Heating, HeatingQC, CentralAir, Electrical, 1stFlrSF, 2ndFlrSF, LowQualFinSF, GrLivArea, BsmtFullBath, BsmtHalfBath, FullBath, HalfBath, BedroomAbvGr, KitchenAbvGr, KitchenQual, TotRmsAbvGrd, Functional, Fireplaces, FireplaceQu, GarageType, GarageYrBlt, GarageFinish, GarageCars, GarageArea, GarageQual, GarageCond, PavedDrive, WoodDeckSF, OpenPorchSF, EnclosedPorch, 3SsnPorch, ScreenPorch, PoolArea, PoolQC, Fence, MiscFeature, MiscVal, MoSold, YrSold, SaleType, SaleCondition, SalePrice]\n",
       "Index: []\n",
       "\n",
       "[0 rows x 81 columns]"
      ]
     },
     "execution_count": 10,
     "metadata": {},
     "output_type": "execute_result"
    }
   ],
   "source": [
    "houseall.loc[houseall[\"MasVnrType\"]== \"NaN\"]"
   ]
  },
  {
   "cell_type": "code",
   "execution_count": 11,
   "metadata": {},
   "outputs": [
    {
     "data": {
      "text/plain": [
       "5"
      ]
     },
     "execution_count": 11,
     "metadata": {},
     "output_type": "execute_result"
    }
   ],
   "source": [
    "houseall[\"MasVnrType\"].isnull().sum()"
   ]
  },
  {
   "cell_type": "code",
   "execution_count": 12,
   "metadata": {},
   "outputs": [],
   "source": [
    "#Doesnt seem to be a clear reason as to why they havent been given a value, so am going to drop these values \n",
    "#Feel that every houseall has to have a masonary veneer- as this is the external wall component for housealls\n",
    "houseall = houseall[houseall[\"MasVnrType\"].notna()]"
   ]
  },
  {
   "cell_type": "code",
   "execution_count": 13,
   "metadata": {},
   "outputs": [
    {
     "data": {
      "text/plain": [
       "(1390, 81)"
      ]
     },
     "execution_count": 13,
     "metadata": {},
     "output_type": "execute_result"
    }
   ],
   "source": [
    "houseall.shape"
   ]
  },
  {
   "cell_type": "code",
   "execution_count": 14,
   "metadata": {},
   "outputs": [],
   "source": [
    "#Done with Masvnr, now onto the next one "
   ]
  },
  {
   "cell_type": "code",
   "execution_count": 15,
   "metadata": {},
   "outputs": [
    {
     "data": {
      "text/plain": [
       "0"
      ]
     },
     "execution_count": 15,
     "metadata": {},
     "output_type": "execute_result"
    }
   ],
   "source": [
    "houseall.BsmtExposure.isnull().sum()"
   ]
  },
  {
   "cell_type": "code",
   "execution_count": 16,
   "metadata": {},
   "outputs": [],
   "source": [
    "#Does nan = no basement? lets check "
   ]
  },
  {
   "cell_type": "code",
   "execution_count": 17,
   "metadata": {},
   "outputs": [
    {
     "data": {
      "text/plain": [
       "array(['No', 'Gd', 'Mn', 'Av', 'NA'], dtype=object)"
      ]
     },
     "execution_count": 17,
     "metadata": {},
     "output_type": "execute_result"
    }
   ],
   "source": [
    "houseall.BsmtExposure.unique()"
   ]
  },
  {
   "cell_type": "code",
   "execution_count": 18,
   "metadata": {},
   "outputs": [],
   "source": [
    "#Now onto GarageType "
   ]
  },
  {
   "cell_type": "code",
   "execution_count": 19,
   "metadata": {},
   "outputs": [
    {
     "data": {
      "text/plain": [
       "<bound method Series.unique of 0       Attchd\n",
       "1       Attchd\n",
       "2       Attchd\n",
       "3       Detchd\n",
       "4       Attchd\n",
       "         ...  \n",
       "1455    Attchd\n",
       "1456    Attchd\n",
       "1457    Attchd\n",
       "1458    Attchd\n",
       "1459    Attchd\n",
       "Name: GarageType, Length: 1390, dtype: object>"
      ]
     },
     "execution_count": 19,
     "metadata": {},
     "output_type": "execute_result"
    }
   ],
   "source": [
    "houseall.GarageType.unique"
   ]
  },
  {
   "cell_type": "code",
   "execution_count": 20,
   "metadata": {},
   "outputs": [
    {
     "name": "stdout",
     "output_type": "stream",
     "text": [
      "<class 'pandas.core.frame.DataFrame'>\n",
      "Int64Index: 1390 entries, 0 to 1459\n",
      "Data columns (total 81 columns):\n",
      " #   Column         Non-Null Count  Dtype  \n",
      "---  ------         --------------  -----  \n",
      " 0   Id             1390 non-null   int64  \n",
      " 1   MSSubClass     1390 non-null   int64  \n",
      " 2   MSZoning       1390 non-null   object \n",
      " 3   LotFrontage    1141 non-null   float64\n",
      " 4   LotArea        1390 non-null   int64  \n",
      " 5   Street         1390 non-null   object \n",
      " 6   Alley          1390 non-null   object \n",
      " 7   LotShape       1390 non-null   object \n",
      " 8   LandContour    1390 non-null   object \n",
      " 9   Utilities      1390 non-null   object \n",
      " 10  LotConfig      1390 non-null   object \n",
      " 11  LandSlope      1390 non-null   object \n",
      " 12  Neighborhood   1390 non-null   object \n",
      " 13  Condition1     1390 non-null   object \n",
      " 14  Condition2     1390 non-null   object \n",
      " 15  BldgType       1390 non-null   object \n",
      " 16  HouseStyle     1390 non-null   object \n",
      " 17  OverallQual    1390 non-null   int64  \n",
      " 18  OverallCond    1390 non-null   int64  \n",
      " 19  YearBuilt      1390 non-null   int64  \n",
      " 20  YearRemodAdd   1390 non-null   int64  \n",
      " 21  RoofStyle      1390 non-null   object \n",
      " 22  RoofMatl       1390 non-null   object \n",
      " 23  Exterior1st    1390 non-null   object \n",
      " 24  Exterior2nd    1390 non-null   object \n",
      " 25  MasVnrType     1390 non-null   object \n",
      " 26  MasVnrArea     1390 non-null   float64\n",
      " 27  ExterQual      1390 non-null   object \n",
      " 28  ExterCond      1390 non-null   object \n",
      " 29  Foundation     1390 non-null   object \n",
      " 30  BsmtQual       1390 non-null   object \n",
      " 31  BsmtCond       1390 non-null   object \n",
      " 32  BsmtExposure   1390 non-null   object \n",
      " 33  BsmtFinType1   1390 non-null   object \n",
      " 34  BsmtFinSF1     1390 non-null   int64  \n",
      " 35  BsmtFinType2   1352 non-null   object \n",
      " 36  BsmtFinSF2     1390 non-null   int64  \n",
      " 37  BsmtUnfSF      1390 non-null   int64  \n",
      " 38  TotalBsmtSF    1390 non-null   int64  \n",
      " 39  Heating        1390 non-null   object \n",
      " 40  HeatingQC      1390 non-null   object \n",
      " 41  CentralAir     1390 non-null   object \n",
      " 42  Electrical     1390 non-null   object \n",
      " 43  1stFlrSF       1390 non-null   int64  \n",
      " 44  2ndFlrSF       1390 non-null   int64  \n",
      " 45  LowQualFinSF   1390 non-null   int64  \n",
      " 46  GrLivArea      1390 non-null   int64  \n",
      " 47  BsmtFullBath   1390 non-null   int64  \n",
      " 48  BsmtHalfBath   1390 non-null   int64  \n",
      " 49  FullBath       1390 non-null   int64  \n",
      " 50  HalfBath       1390 non-null   int64  \n",
      " 51  BedroomAbvGr   1390 non-null   int64  \n",
      " 52  KitchenAbvGr   1390 non-null   int64  \n",
      " 53  KitchenQual    1390 non-null   object \n",
      " 54  TotRmsAbvGrd   1390 non-null   int64  \n",
      " 55  Functional     1390 non-null   object \n",
      " 56  Fireplaces     1390 non-null   int64  \n",
      " 57  FireplaceQu    1390 non-null   object \n",
      " 58  GarageType     1390 non-null   object \n",
      " 59  GarageYrBlt    1309 non-null   float64\n",
      " 60  GarageFinish   1390 non-null   object \n",
      " 61  GarageCars     1390 non-null   int64  \n",
      " 62  GarageArea     1390 non-null   int64  \n",
      " 63  GarageQual     1390 non-null   object \n",
      " 64  GarageCond     1390 non-null   object \n",
      " 65  PavedDrive     1390 non-null   object \n",
      " 66  WoodDeckSF     1390 non-null   int64  \n",
      " 67  OpenPorchSF    1390 non-null   int64  \n",
      " 68  EnclosedPorch  1390 non-null   int64  \n",
      " 69  3SsnPorch      1390 non-null   int64  \n",
      " 70  ScreenPorch    1390 non-null   int64  \n",
      " 71  PoolArea       1390 non-null   int64  \n",
      " 72  PoolQC         1390 non-null   object \n",
      " 73  Fence          1390 non-null   object \n",
      " 74  MiscFeature    1390 non-null   object \n",
      " 75  MiscVal        1390 non-null   int64  \n",
      " 76  MoSold         1390 non-null   int64  \n",
      " 77  YrSold         1390 non-null   int64  \n",
      " 78  SaleType       1390 non-null   object \n",
      " 79  SaleCondition  1390 non-null   object \n",
      " 80  SalePrice      1390 non-null   int64  \n",
      "dtypes: float64(3), int64(35), object(43)\n",
      "memory usage: 890.5+ KB\n"
     ]
    }
   ],
   "source": [
    "houseall.info()"
   ]
  },
  {
   "cell_type": "code",
   "execution_count": 21,
   "metadata": {},
   "outputs": [],
   "source": [
    "#now to change those meddlesome objects to a categorical data "
   ]
  },
  {
   "cell_type": "code",
   "execution_count": 22,
   "metadata": {},
   "outputs": [],
   "source": [
    "houseall[[\"Street\",\"LotShape\",\"LandContour\",\"LotConfig\",\"Neighborhood\",\"Condition1\",\"Condition2\",\"BldgType\",\"HouseStyle\",\n",
    "         \"RoofStyle\",\"Exterior1st\",\"Exterior2nd\",\"MasVnrType\",\"Foundation\",\"BsmtExposure\",\"BsmtFinType2\",\n",
    "         \"KitchenQual\",\"GarageType\",\"PavedDrive\"]] = houseall[[\"Street\",\"LotShape\",\"LandContour\",\"LotConfig\",\"Neighborhood\",\"Condition1\",\"Condition2\",\"BldgType\",\"HouseStyle\",\n",
    "         \"RoofStyle\",\"Exterior1st\",\"Exterior2nd\",\"MasVnrType\",\"Foundation\",\"BsmtExposure\",\"BsmtFinType2\",\n",
    "         \"KitchenQual\",\"GarageType\",\"PavedDrive\"]].astype(\"category\")\n"
   ]
  },
  {
   "cell_type": "code",
   "execution_count": 23,
   "metadata": {},
   "outputs": [
    {
     "data": {
      "text/plain": [
       "81"
      ]
     },
     "execution_count": 23,
     "metadata": {},
     "output_type": "execute_result"
    }
   ],
   "source": [
    "#now to do the same w/ continuous \n",
    "houseall.GarageYrBlt.isnull().sum()"
   ]
  },
  {
   "cell_type": "code",
   "execution_count": 24,
   "metadata": {},
   "outputs": [
    {
     "data": {
      "text/plain": [
       "array([2003., 1976., 2001., 1998., 2000., 1993., 2004., 1973., 1931.,\n",
       "       1939., 1965., 2005., 1962., 2006., 1960., 1991., 1970., 1967.,\n",
       "       1958., 1930., 2002., 1968., 2007., 2008., 1957., 1920., 1966.,\n",
       "       1959., 1995., 1954., 1953.,   nan, 1983., 1977., 1997., 1985.,\n",
       "       1963., 1981., 1964., 1935., 1990., 1945., 1987., 1989., 1915.,\n",
       "       1956., 1948., 1974., 1950., 1961., 1921., 1900., 1999., 1979.,\n",
       "       2009., 1951., 1969., 1936., 1975., 1971., 1923., 1984., 1926.,\n",
       "       1955., 1986., 1988., 1916., 1932., 1972., 1918., 1980., 1924.,\n",
       "       1996., 1940., 1949., 1994., 1910., 1978., 1982., 1992., 1925.,\n",
       "       1941., 2010., 1927., 1947., 1937., 1942., 1938., 1952., 1928.,\n",
       "       1922., 1934., 1906., 1914., 1946., 1908., 1929., 1933.])"
      ]
     },
     "execution_count": 24,
     "metadata": {},
     "output_type": "execute_result"
    }
   ],
   "source": [
    "houseall.GarageYrBlt.unique()"
   ]
  },
  {
   "cell_type": "code",
   "execution_count": 25,
   "metadata": {},
   "outputs": [],
   "source": [
    "#Just going to drop these as only 81 \n",
    "houseall[\"GarageYrBlt\"] = houseall[\"GarageYrBlt\"].dropna"
   ]
  },
  {
   "cell_type": "code",
   "execution_count": 26,
   "metadata": {},
   "outputs": [
    {
     "name": "stdout",
     "output_type": "stream",
     "text": [
      "<class 'pandas.core.frame.DataFrame'>\n",
      "Int64Index: 1390 entries, 0 to 1459\n",
      "Data columns (total 81 columns):\n",
      " #   Column         Non-Null Count  Dtype   \n",
      "---  ------         --------------  -----   \n",
      " 0   Id             1390 non-null   int64   \n",
      " 1   MSSubClass     1390 non-null   int64   \n",
      " 2   MSZoning       1390 non-null   object  \n",
      " 3   LotFrontage    1141 non-null   float64 \n",
      " 4   LotArea        1390 non-null   int64   \n",
      " 5   Street         1390 non-null   category\n",
      " 6   Alley          1390 non-null   object  \n",
      " 7   LotShape       1390 non-null   category\n",
      " 8   LandContour    1390 non-null   category\n",
      " 9   Utilities      1390 non-null   object  \n",
      " 10  LotConfig      1390 non-null   category\n",
      " 11  LandSlope      1390 non-null   object  \n",
      " 12  Neighborhood   1390 non-null   category\n",
      " 13  Condition1     1390 non-null   category\n",
      " 14  Condition2     1390 non-null   category\n",
      " 15  BldgType       1390 non-null   category\n",
      " 16  HouseStyle     1390 non-null   category\n",
      " 17  OverallQual    1390 non-null   int64   \n",
      " 18  OverallCond    1390 non-null   int64   \n",
      " 19  YearBuilt      1390 non-null   int64   \n",
      " 20  YearRemodAdd   1390 non-null   int64   \n",
      " 21  RoofStyle      1390 non-null   category\n",
      " 22  RoofMatl       1390 non-null   object  \n",
      " 23  Exterior1st    1390 non-null   category\n",
      " 24  Exterior2nd    1390 non-null   category\n",
      " 25  MasVnrType     1390 non-null   category\n",
      " 26  MasVnrArea     1390 non-null   float64 \n",
      " 27  ExterQual      1390 non-null   object  \n",
      " 28  ExterCond      1390 non-null   object  \n",
      " 29  Foundation     1390 non-null   category\n",
      " 30  BsmtQual       1390 non-null   object  \n",
      " 31  BsmtCond       1390 non-null   object  \n",
      " 32  BsmtExposure   1390 non-null   category\n",
      " 33  BsmtFinType1   1390 non-null   object  \n",
      " 34  BsmtFinSF1     1390 non-null   int64   \n",
      " 35  BsmtFinType2   1352 non-null   category\n",
      " 36  BsmtFinSF2     1390 non-null   int64   \n",
      " 37  BsmtUnfSF      1390 non-null   int64   \n",
      " 38  TotalBsmtSF    1390 non-null   int64   \n",
      " 39  Heating        1390 non-null   object  \n",
      " 40  HeatingQC      1390 non-null   object  \n",
      " 41  CentralAir     1390 non-null   object  \n",
      " 42  Electrical     1390 non-null   object  \n",
      " 43  1stFlrSF       1390 non-null   int64   \n",
      " 44  2ndFlrSF       1390 non-null   int64   \n",
      " 45  LowQualFinSF   1390 non-null   int64   \n",
      " 46  GrLivArea      1390 non-null   int64   \n",
      " 47  BsmtFullBath   1390 non-null   int64   \n",
      " 48  BsmtHalfBath   1390 non-null   int64   \n",
      " 49  FullBath       1390 non-null   int64   \n",
      " 50  HalfBath       1390 non-null   int64   \n",
      " 51  BedroomAbvGr   1390 non-null   int64   \n",
      " 52  KitchenAbvGr   1390 non-null   int64   \n",
      " 53  KitchenQual    1390 non-null   category\n",
      " 54  TotRmsAbvGrd   1390 non-null   int64   \n",
      " 55  Functional     1390 non-null   object  \n",
      " 56  Fireplaces     1390 non-null   int64   \n",
      " 57  FireplaceQu    1390 non-null   object  \n",
      " 58  GarageType     1390 non-null   category\n",
      " 59  GarageYrBlt    1390 non-null   object  \n",
      " 60  GarageFinish   1390 non-null   object  \n",
      " 61  GarageCars     1390 non-null   int64   \n",
      " 62  GarageArea     1390 non-null   int64   \n",
      " 63  GarageQual     1390 non-null   object  \n",
      " 64  GarageCond     1390 non-null   object  \n",
      " 65  PavedDrive     1390 non-null   category\n",
      " 66  WoodDeckSF     1390 non-null   int64   \n",
      " 67  OpenPorchSF    1390 non-null   int64   \n",
      " 68  EnclosedPorch  1390 non-null   int64   \n",
      " 69  3SsnPorch      1390 non-null   int64   \n",
      " 70  ScreenPorch    1390 non-null   int64   \n",
      " 71  PoolArea       1390 non-null   int64   \n",
      " 72  PoolQC         1390 non-null   object  \n",
      " 73  Fence          1390 non-null   object  \n",
      " 74  MiscFeature    1390 non-null   object  \n",
      " 75  MiscVal        1390 non-null   int64   \n",
      " 76  MoSold         1390 non-null   int64   \n",
      " 77  YrSold         1390 non-null   int64   \n",
      " 78  SaleType       1390 non-null   object  \n",
      " 79  SaleCondition  1390 non-null   object  \n",
      " 80  SalePrice      1390 non-null   int64   \n",
      "dtypes: category(19), float64(2), int64(35), object(25)\n",
      "memory usage: 715.7+ KB\n"
     ]
    }
   ],
   "source": [
    "houseall.info()"
   ]
  },
  {
   "cell_type": "code",
   "execution_count": 27,
   "metadata": {},
   "outputs": [
    {
     "data": {
      "text/plain": [
       "Id                 0\n",
       "MSSubClass         0\n",
       "MSZoning           0\n",
       "LotFrontage      249\n",
       "LotArea            0\n",
       "                ... \n",
       "MoSold             0\n",
       "YrSold             0\n",
       "SaleType           0\n",
       "SaleCondition      0\n",
       "SalePrice          0\n",
       "Length: 81, dtype: int64"
      ]
     },
     "execution_count": 27,
     "metadata": {},
     "output_type": "execute_result"
    }
   ],
   "source": [
    "houseall.isnull().sum()"
   ]
  },
  {
   "cell_type": "code",
   "execution_count": 28,
   "metadata": {},
   "outputs": [],
   "source": [
    "houseall[\"BsmtFinType2\"] = houseall[\"BsmtFinType2\"].astype(str)"
   ]
  },
  {
   "cell_type": "code",
   "execution_count": 29,
   "metadata": {},
   "outputs": [],
   "source": [
    "houseall[\"BsmtFinType2\"] = houseall[\"BsmtFinType2\"].fillna(\"NA\")"
   ]
  },
  {
   "cell_type": "code",
   "execution_count": 30,
   "metadata": {},
   "outputs": [
    {
     "data": {
      "text/plain": [
       "Id                 0\n",
       "MSSubClass         0\n",
       "MSZoning           0\n",
       "LotFrontage      249\n",
       "LotArea            0\n",
       "                ... \n",
       "MoSold             0\n",
       "YrSold             0\n",
       "SaleType           0\n",
       "SaleCondition      0\n",
       "SalePrice          0\n",
       "Length: 81, dtype: int64"
      ]
     },
     "execution_count": 30,
     "metadata": {},
     "output_type": "execute_result"
    }
   ],
   "source": [
    "houseall.isnull().sum()"
   ]
  },
  {
   "cell_type": "code",
   "execution_count": 31,
   "metadata": {},
   "outputs": [],
   "source": [
    "#Now lets split it up so that house = just our fixed features"
   ]
  },
  {
   "cell_type": "code",
   "execution_count": 32,
   "metadata": {},
   "outputs": [],
   "source": [
    "house = houseall[[\"MasVnrArea\",\"TotalBsmtSF\",\"BsmtFinSF1\", \"BsmtUnfSF\",\"MoSold\",\"SaleType\", \"SaleCondition\",\"YrSold\",\"SalePrice\",\"MSSubClass\",\"LotArea\",\"Street\",\"LotShape\",\"LandContour\",\"LotConfig\",\"Neighborhood\",\"Condition1\",\"Condition2\",\"BldgType\",\"HouseStyle\",\"YearBuilt\",\"YearRemodAdd\",\"RoofStyle\",\"Exterior1st\",\"Exterior2nd\",\"MasVnrType\",\"Foundation\",\"BsmtExposure\",\"BsmtFinType2\",\"BsmtFinSF2\",\"1stFlrSF\",\"2ndFlrSF\",\"LowQualFinSF\",\"GrLivArea\",\"BsmtFullBath\",\"BsmtHalfBath\",\"FullBath\",\"HalfBath\",\"BedroomAbvGr\",\"KitchenAbvGr\",\"KitchenQual\",\"TotRmsAbvGrd\",\"Fireplaces\",\"GarageType\",\"GarageYrBlt\",\"GarageCars\",\"GarageArea\",\"PavedDrive\",\"WoodDeckSF\",\"OpenPorchSF\",\"EnclosedPorch\",\"3SsnPorch\",\"ScreenPorch\",\"PoolArea\",\"MiscVal\"]]"
   ]
  },
  {
   "cell_type": "code",
   "execution_count": 33,
   "metadata": {},
   "outputs": [],
   "source": [
    "#for the train test! \n",
    "fixed_train = house.loc[house.YrSold < 2010]\n",
    "fixed_test = house.loc[house.YrSold >= 2010]\n"
   ]
  },
  {
   "cell_type": "code",
   "execution_count": 34,
   "metadata": {},
   "outputs": [
    {
     "data": {
      "text/html": [
       "<div>\n",
       "<style scoped>\n",
       "    .dataframe tbody tr th:only-of-type {\n",
       "        vertical-align: middle;\n",
       "    }\n",
       "\n",
       "    .dataframe tbody tr th {\n",
       "        vertical-align: top;\n",
       "    }\n",
       "\n",
       "    .dataframe thead th {\n",
       "        text-align: right;\n",
       "    }\n",
       "</style>\n",
       "<table border=\"1\" class=\"dataframe\">\n",
       "  <thead>\n",
       "    <tr style=\"text-align: right;\">\n",
       "      <th></th>\n",
       "      <th>MasVnrArea</th>\n",
       "      <th>TotalBsmtSF</th>\n",
       "      <th>BsmtFinSF1</th>\n",
       "      <th>BsmtUnfSF</th>\n",
       "      <th>MoSold</th>\n",
       "      <th>SaleType</th>\n",
       "      <th>SaleCondition</th>\n",
       "      <th>YrSold</th>\n",
       "      <th>SalePrice</th>\n",
       "      <th>MSSubClass</th>\n",
       "      <th>...</th>\n",
       "      <th>GarageCars</th>\n",
       "      <th>GarageArea</th>\n",
       "      <th>PavedDrive</th>\n",
       "      <th>WoodDeckSF</th>\n",
       "      <th>OpenPorchSF</th>\n",
       "      <th>EnclosedPorch</th>\n",
       "      <th>3SsnPorch</th>\n",
       "      <th>ScreenPorch</th>\n",
       "      <th>PoolArea</th>\n",
       "      <th>MiscVal</th>\n",
       "    </tr>\n",
       "  </thead>\n",
       "  <tbody>\n",
       "    <tr>\n",
       "      <th>0</th>\n",
       "      <td>196.0</td>\n",
       "      <td>856</td>\n",
       "      <td>706</td>\n",
       "      <td>150</td>\n",
       "      <td>2</td>\n",
       "      <td>WD</td>\n",
       "      <td>Normal</td>\n",
       "      <td>2008</td>\n",
       "      <td>208500</td>\n",
       "      <td>60</td>\n",
       "      <td>...</td>\n",
       "      <td>2</td>\n",
       "      <td>548</td>\n",
       "      <td>Y</td>\n",
       "      <td>0</td>\n",
       "      <td>61</td>\n",
       "      <td>0</td>\n",
       "      <td>0</td>\n",
       "      <td>0</td>\n",
       "      <td>0</td>\n",
       "      <td>0</td>\n",
       "    </tr>\n",
       "    <tr>\n",
       "      <th>1</th>\n",
       "      <td>0.0</td>\n",
       "      <td>1262</td>\n",
       "      <td>978</td>\n",
       "      <td>284</td>\n",
       "      <td>5</td>\n",
       "      <td>WD</td>\n",
       "      <td>Normal</td>\n",
       "      <td>2007</td>\n",
       "      <td>181500</td>\n",
       "      <td>20</td>\n",
       "      <td>...</td>\n",
       "      <td>2</td>\n",
       "      <td>460</td>\n",
       "      <td>Y</td>\n",
       "      <td>298</td>\n",
       "      <td>0</td>\n",
       "      <td>0</td>\n",
       "      <td>0</td>\n",
       "      <td>0</td>\n",
       "      <td>0</td>\n",
       "      <td>0</td>\n",
       "    </tr>\n",
       "    <tr>\n",
       "      <th>2</th>\n",
       "      <td>162.0</td>\n",
       "      <td>920</td>\n",
       "      <td>486</td>\n",
       "      <td>434</td>\n",
       "      <td>9</td>\n",
       "      <td>WD</td>\n",
       "      <td>Normal</td>\n",
       "      <td>2008</td>\n",
       "      <td>223500</td>\n",
       "      <td>60</td>\n",
       "      <td>...</td>\n",
       "      <td>2</td>\n",
       "      <td>608</td>\n",
       "      <td>Y</td>\n",
       "      <td>0</td>\n",
       "      <td>42</td>\n",
       "      <td>0</td>\n",
       "      <td>0</td>\n",
       "      <td>0</td>\n",
       "      <td>0</td>\n",
       "      <td>0</td>\n",
       "    </tr>\n",
       "    <tr>\n",
       "      <th>3</th>\n",
       "      <td>0.0</td>\n",
       "      <td>756</td>\n",
       "      <td>216</td>\n",
       "      <td>540</td>\n",
       "      <td>2</td>\n",
       "      <td>WD</td>\n",
       "      <td>Abnorml</td>\n",
       "      <td>2006</td>\n",
       "      <td>140000</td>\n",
       "      <td>70</td>\n",
       "      <td>...</td>\n",
       "      <td>3</td>\n",
       "      <td>642</td>\n",
       "      <td>Y</td>\n",
       "      <td>0</td>\n",
       "      <td>35</td>\n",
       "      <td>272</td>\n",
       "      <td>0</td>\n",
       "      <td>0</td>\n",
       "      <td>0</td>\n",
       "      <td>0</td>\n",
       "    </tr>\n",
       "    <tr>\n",
       "      <th>4</th>\n",
       "      <td>350.0</td>\n",
       "      <td>1145</td>\n",
       "      <td>655</td>\n",
       "      <td>490</td>\n",
       "      <td>12</td>\n",
       "      <td>WD</td>\n",
       "      <td>Normal</td>\n",
       "      <td>2008</td>\n",
       "      <td>250000</td>\n",
       "      <td>60</td>\n",
       "      <td>...</td>\n",
       "      <td>3</td>\n",
       "      <td>836</td>\n",
       "      <td>Y</td>\n",
       "      <td>192</td>\n",
       "      <td>84</td>\n",
       "      <td>0</td>\n",
       "      <td>0</td>\n",
       "      <td>0</td>\n",
       "      <td>0</td>\n",
       "      <td>0</td>\n",
       "    </tr>\n",
       "    <tr>\n",
       "      <th>...</th>\n",
       "      <td>...</td>\n",
       "      <td>...</td>\n",
       "      <td>...</td>\n",
       "      <td>...</td>\n",
       "      <td>...</td>\n",
       "      <td>...</td>\n",
       "      <td>...</td>\n",
       "      <td>...</td>\n",
       "      <td>...</td>\n",
       "      <td>...</td>\n",
       "      <td>...</td>\n",
       "      <td>...</td>\n",
       "      <td>...</td>\n",
       "      <td>...</td>\n",
       "      <td>...</td>\n",
       "      <td>...</td>\n",
       "      <td>...</td>\n",
       "      <td>...</td>\n",
       "      <td>...</td>\n",
       "      <td>...</td>\n",
       "      <td>...</td>\n",
       "    </tr>\n",
       "    <tr>\n",
       "      <th>1451</th>\n",
       "      <td>194.0</td>\n",
       "      <td>1573</td>\n",
       "      <td>0</td>\n",
       "      <td>1573</td>\n",
       "      <td>5</td>\n",
       "      <td>New</td>\n",
       "      <td>Partial</td>\n",
       "      <td>2009</td>\n",
       "      <td>287090</td>\n",
       "      <td>20</td>\n",
       "      <td>...</td>\n",
       "      <td>3</td>\n",
       "      <td>840</td>\n",
       "      <td>Y</td>\n",
       "      <td>0</td>\n",
       "      <td>36</td>\n",
       "      <td>0</td>\n",
       "      <td>0</td>\n",
       "      <td>0</td>\n",
       "      <td>0</td>\n",
       "      <td>0</td>\n",
       "    </tr>\n",
       "    <tr>\n",
       "      <th>1452</th>\n",
       "      <td>80.0</td>\n",
       "      <td>547</td>\n",
       "      <td>547</td>\n",
       "      <td>0</td>\n",
       "      <td>5</td>\n",
       "      <td>WD</td>\n",
       "      <td>Normal</td>\n",
       "      <td>2006</td>\n",
       "      <td>145000</td>\n",
       "      <td>180</td>\n",
       "      <td>...</td>\n",
       "      <td>2</td>\n",
       "      <td>525</td>\n",
       "      <td>Y</td>\n",
       "      <td>0</td>\n",
       "      <td>28</td>\n",
       "      <td>0</td>\n",
       "      <td>0</td>\n",
       "      <td>0</td>\n",
       "      <td>0</td>\n",
       "      <td>0</td>\n",
       "    </tr>\n",
       "    <tr>\n",
       "      <th>1453</th>\n",
       "      <td>0.0</td>\n",
       "      <td>1140</td>\n",
       "      <td>0</td>\n",
       "      <td>1140</td>\n",
       "      <td>7</td>\n",
       "      <td>WD</td>\n",
       "      <td>Abnorml</td>\n",
       "      <td>2006</td>\n",
       "      <td>84500</td>\n",
       "      <td>20</td>\n",
       "      <td>...</td>\n",
       "      <td>0</td>\n",
       "      <td>0</td>\n",
       "      <td>Y</td>\n",
       "      <td>36</td>\n",
       "      <td>56</td>\n",
       "      <td>0</td>\n",
       "      <td>0</td>\n",
       "      <td>0</td>\n",
       "      <td>0</td>\n",
       "      <td>0</td>\n",
       "    </tr>\n",
       "    <tr>\n",
       "      <th>1455</th>\n",
       "      <td>0.0</td>\n",
       "      <td>953</td>\n",
       "      <td>0</td>\n",
       "      <td>953</td>\n",
       "      <td>8</td>\n",
       "      <td>WD</td>\n",
       "      <td>Normal</td>\n",
       "      <td>2007</td>\n",
       "      <td>175000</td>\n",
       "      <td>60</td>\n",
       "      <td>...</td>\n",
       "      <td>2</td>\n",
       "      <td>460</td>\n",
       "      <td>Y</td>\n",
       "      <td>0</td>\n",
       "      <td>40</td>\n",
       "      <td>0</td>\n",
       "      <td>0</td>\n",
       "      <td>0</td>\n",
       "      <td>0</td>\n",
       "      <td>0</td>\n",
       "    </tr>\n",
       "    <tr>\n",
       "      <th>1459</th>\n",
       "      <td>0.0</td>\n",
       "      <td>1256</td>\n",
       "      <td>830</td>\n",
       "      <td>136</td>\n",
       "      <td>6</td>\n",
       "      <td>WD</td>\n",
       "      <td>Normal</td>\n",
       "      <td>2008</td>\n",
       "      <td>147500</td>\n",
       "      <td>20</td>\n",
       "      <td>...</td>\n",
       "      <td>1</td>\n",
       "      <td>276</td>\n",
       "      <td>Y</td>\n",
       "      <td>736</td>\n",
       "      <td>68</td>\n",
       "      <td>0</td>\n",
       "      <td>0</td>\n",
       "      <td>0</td>\n",
       "      <td>0</td>\n",
       "      <td>0</td>\n",
       "    </tr>\n",
       "  </tbody>\n",
       "</table>\n",
       "<p>1224 rows × 55 columns</p>\n",
       "</div>"
      ],
      "text/plain": [
       "      MasVnrArea  TotalBsmtSF  BsmtFinSF1  BsmtUnfSF  MoSold SaleType  \\\n",
       "0          196.0          856         706        150       2       WD   \n",
       "1            0.0         1262         978        284       5       WD   \n",
       "2          162.0          920         486        434       9       WD   \n",
       "3            0.0          756         216        540       2       WD   \n",
       "4          350.0         1145         655        490      12       WD   \n",
       "...          ...          ...         ...        ...     ...      ...   \n",
       "1451       194.0         1573           0       1573       5      New   \n",
       "1452        80.0          547         547          0       5       WD   \n",
       "1453         0.0         1140           0       1140       7       WD   \n",
       "1455         0.0          953           0        953       8       WD   \n",
       "1459         0.0         1256         830        136       6       WD   \n",
       "\n",
       "     SaleCondition  YrSold  SalePrice  MSSubClass  ...  GarageCars GarageArea  \\\n",
       "0           Normal    2008     208500          60  ...           2        548   \n",
       "1           Normal    2007     181500          20  ...           2        460   \n",
       "2           Normal    2008     223500          60  ...           2        608   \n",
       "3          Abnorml    2006     140000          70  ...           3        642   \n",
       "4           Normal    2008     250000          60  ...           3        836   \n",
       "...            ...     ...        ...         ...  ...         ...        ...   \n",
       "1451       Partial    2009     287090          20  ...           3        840   \n",
       "1452        Normal    2006     145000         180  ...           2        525   \n",
       "1453       Abnorml    2006      84500          20  ...           0          0   \n",
       "1455        Normal    2007     175000          60  ...           2        460   \n",
       "1459        Normal    2008     147500          20  ...           1        276   \n",
       "\n",
       "     PavedDrive WoodDeckSF OpenPorchSF EnclosedPorch 3SsnPorch ScreenPorch  \\\n",
       "0             Y          0          61             0         0           0   \n",
       "1             Y        298           0             0         0           0   \n",
       "2             Y          0          42             0         0           0   \n",
       "3             Y          0          35           272         0           0   \n",
       "4             Y        192          84             0         0           0   \n",
       "...         ...        ...         ...           ...       ...         ...   \n",
       "1451          Y          0          36             0         0           0   \n",
       "1452          Y          0          28             0         0           0   \n",
       "1453          Y         36          56             0         0           0   \n",
       "1455          Y          0          40             0         0           0   \n",
       "1459          Y        736          68             0         0           0   \n",
       "\n",
       "     PoolArea MiscVal  \n",
       "0           0       0  \n",
       "1           0       0  \n",
       "2           0       0  \n",
       "3           0       0  \n",
       "4           0       0  \n",
       "...       ...     ...  \n",
       "1451        0       0  \n",
       "1452        0       0  \n",
       "1453        0       0  \n",
       "1455        0       0  \n",
       "1459        0       0  \n",
       "\n",
       "[1224 rows x 55 columns]"
      ]
     },
     "execution_count": 34,
     "metadata": {},
     "output_type": "execute_result"
    }
   ],
   "source": [
    "fixed_train"
   ]
  },
  {
   "cell_type": "code",
   "execution_count": 35,
   "metadata": {},
   "outputs": [
    {
     "data": {
      "text/html": [
       "<div>\n",
       "<style scoped>\n",
       "    .dataframe tbody tr th:only-of-type {\n",
       "        vertical-align: middle;\n",
       "    }\n",
       "\n",
       "    .dataframe tbody tr th {\n",
       "        vertical-align: top;\n",
       "    }\n",
       "\n",
       "    .dataframe thead th {\n",
       "        text-align: right;\n",
       "    }\n",
       "</style>\n",
       "<table border=\"1\" class=\"dataframe\">\n",
       "  <thead>\n",
       "    <tr style=\"text-align: right;\">\n",
       "      <th></th>\n",
       "      <th>MasVnrArea</th>\n",
       "      <th>TotalBsmtSF</th>\n",
       "      <th>BsmtFinSF1</th>\n",
       "      <th>BsmtUnfSF</th>\n",
       "      <th>MoSold</th>\n",
       "      <th>SaleType</th>\n",
       "      <th>SaleCondition</th>\n",
       "      <th>YrSold</th>\n",
       "      <th>SalePrice</th>\n",
       "      <th>MSSubClass</th>\n",
       "      <th>...</th>\n",
       "      <th>GarageCars</th>\n",
       "      <th>GarageArea</th>\n",
       "      <th>PavedDrive</th>\n",
       "      <th>WoodDeckSF</th>\n",
       "      <th>OpenPorchSF</th>\n",
       "      <th>EnclosedPorch</th>\n",
       "      <th>3SsnPorch</th>\n",
       "      <th>ScreenPorch</th>\n",
       "      <th>PoolArea</th>\n",
       "      <th>MiscVal</th>\n",
       "    </tr>\n",
       "  </thead>\n",
       "  <tbody>\n",
       "    <tr>\n",
       "      <th>16</th>\n",
       "      <td>180.0</td>\n",
       "      <td>1004</td>\n",
       "      <td>578</td>\n",
       "      <td>426</td>\n",
       "      <td>3</td>\n",
       "      <td>WD</td>\n",
       "      <td>Normal</td>\n",
       "      <td>2010</td>\n",
       "      <td>149000</td>\n",
       "      <td>20</td>\n",
       "      <td>...</td>\n",
       "      <td>2</td>\n",
       "      <td>480</td>\n",
       "      <td>Y</td>\n",
       "      <td>0</td>\n",
       "      <td>0</td>\n",
       "      <td>0</td>\n",
       "      <td>0</td>\n",
       "      <td>0</td>\n",
       "      <td>0</td>\n",
       "      <td>700</td>\n",
       "    </tr>\n",
       "    <tr>\n",
       "      <th>24</th>\n",
       "      <td>0.0</td>\n",
       "      <td>1060</td>\n",
       "      <td>188</td>\n",
       "      <td>204</td>\n",
       "      <td>5</td>\n",
       "      <td>WD</td>\n",
       "      <td>Normal</td>\n",
       "      <td>2010</td>\n",
       "      <td>154000</td>\n",
       "      <td>20</td>\n",
       "      <td>...</td>\n",
       "      <td>1</td>\n",
       "      <td>270</td>\n",
       "      <td>Y</td>\n",
       "      <td>406</td>\n",
       "      <td>90</td>\n",
       "      <td>0</td>\n",
       "      <td>0</td>\n",
       "      <td>0</td>\n",
       "      <td>0</td>\n",
       "      <td>0</td>\n",
       "    </tr>\n",
       "    <tr>\n",
       "      <th>26</th>\n",
       "      <td>0.0</td>\n",
       "      <td>900</td>\n",
       "      <td>234</td>\n",
       "      <td>180</td>\n",
       "      <td>5</td>\n",
       "      <td>WD</td>\n",
       "      <td>Normal</td>\n",
       "      <td>2010</td>\n",
       "      <td>134800</td>\n",
       "      <td>20</td>\n",
       "      <td>...</td>\n",
       "      <td>2</td>\n",
       "      <td>576</td>\n",
       "      <td>Y</td>\n",
       "      <td>222</td>\n",
       "      <td>32</td>\n",
       "      <td>0</td>\n",
       "      <td>0</td>\n",
       "      <td>0</td>\n",
       "      <td>0</td>\n",
       "      <td>0</td>\n",
       "    </tr>\n",
       "    <tr>\n",
       "      <th>27</th>\n",
       "      <td>200.0</td>\n",
       "      <td>1704</td>\n",
       "      <td>1218</td>\n",
       "      <td>486</td>\n",
       "      <td>5</td>\n",
       "      <td>WD</td>\n",
       "      <td>Normal</td>\n",
       "      <td>2010</td>\n",
       "      <td>306000</td>\n",
       "      <td>20</td>\n",
       "      <td>...</td>\n",
       "      <td>3</td>\n",
       "      <td>772</td>\n",
       "      <td>Y</td>\n",
       "      <td>0</td>\n",
       "      <td>50</td>\n",
       "      <td>0</td>\n",
       "      <td>0</td>\n",
       "      <td>0</td>\n",
       "      <td>0</td>\n",
       "      <td>0</td>\n",
       "    </tr>\n",
       "    <tr>\n",
       "      <th>33</th>\n",
       "      <td>0.0</td>\n",
       "      <td>1398</td>\n",
       "      <td>1018</td>\n",
       "      <td>380</td>\n",
       "      <td>4</td>\n",
       "      <td>WD</td>\n",
       "      <td>Normal</td>\n",
       "      <td>2010</td>\n",
       "      <td>165500</td>\n",
       "      <td>20</td>\n",
       "      <td>...</td>\n",
       "      <td>2</td>\n",
       "      <td>447</td>\n",
       "      <td>Y</td>\n",
       "      <td>0</td>\n",
       "      <td>38</td>\n",
       "      <td>0</td>\n",
       "      <td>0</td>\n",
       "      <td>0</td>\n",
       "      <td>0</td>\n",
       "      <td>0</td>\n",
       "    </tr>\n",
       "    <tr>\n",
       "      <th>...</th>\n",
       "      <td>...</td>\n",
       "      <td>...</td>\n",
       "      <td>...</td>\n",
       "      <td>...</td>\n",
       "      <td>...</td>\n",
       "      <td>...</td>\n",
       "      <td>...</td>\n",
       "      <td>...</td>\n",
       "      <td>...</td>\n",
       "      <td>...</td>\n",
       "      <td>...</td>\n",
       "      <td>...</td>\n",
       "      <td>...</td>\n",
       "      <td>...</td>\n",
       "      <td>...</td>\n",
       "      <td>...</td>\n",
       "      <td>...</td>\n",
       "      <td>...</td>\n",
       "      <td>...</td>\n",
       "      <td>...</td>\n",
       "      <td>...</td>\n",
       "    </tr>\n",
       "    <tr>\n",
       "      <th>1438</th>\n",
       "      <td>0.0</td>\n",
       "      <td>912</td>\n",
       "      <td>600</td>\n",
       "      <td>312</td>\n",
       "      <td>4</td>\n",
       "      <td>WD</td>\n",
       "      <td>Normal</td>\n",
       "      <td>2010</td>\n",
       "      <td>149700</td>\n",
       "      <td>20</td>\n",
       "      <td>...</td>\n",
       "      <td>2</td>\n",
       "      <td>923</td>\n",
       "      <td>Y</td>\n",
       "      <td>0</td>\n",
       "      <td>158</td>\n",
       "      <td>158</td>\n",
       "      <td>0</td>\n",
       "      <td>0</td>\n",
       "      <td>0</td>\n",
       "      <td>0</td>\n",
       "    </tr>\n",
       "    <tr>\n",
       "      <th>1446</th>\n",
       "      <td>189.0</td>\n",
       "      <td>1188</td>\n",
       "      <td>593</td>\n",
       "      <td>595</td>\n",
       "      <td>4</td>\n",
       "      <td>WD</td>\n",
       "      <td>Normal</td>\n",
       "      <td>2010</td>\n",
       "      <td>157900</td>\n",
       "      <td>20</td>\n",
       "      <td>...</td>\n",
       "      <td>1</td>\n",
       "      <td>312</td>\n",
       "      <td>P</td>\n",
       "      <td>261</td>\n",
       "      <td>39</td>\n",
       "      <td>0</td>\n",
       "      <td>0</td>\n",
       "      <td>0</td>\n",
       "      <td>0</td>\n",
       "      <td>0</td>\n",
       "    </tr>\n",
       "    <tr>\n",
       "      <th>1456</th>\n",
       "      <td>119.0</td>\n",
       "      <td>1542</td>\n",
       "      <td>790</td>\n",
       "      <td>589</td>\n",
       "      <td>2</td>\n",
       "      <td>WD</td>\n",
       "      <td>Normal</td>\n",
       "      <td>2010</td>\n",
       "      <td>210000</td>\n",
       "      <td>20</td>\n",
       "      <td>...</td>\n",
       "      <td>2</td>\n",
       "      <td>500</td>\n",
       "      <td>Y</td>\n",
       "      <td>349</td>\n",
       "      <td>0</td>\n",
       "      <td>0</td>\n",
       "      <td>0</td>\n",
       "      <td>0</td>\n",
       "      <td>0</td>\n",
       "      <td>0</td>\n",
       "    </tr>\n",
       "    <tr>\n",
       "      <th>1457</th>\n",
       "      <td>0.0</td>\n",
       "      <td>1152</td>\n",
       "      <td>275</td>\n",
       "      <td>877</td>\n",
       "      <td>5</td>\n",
       "      <td>WD</td>\n",
       "      <td>Normal</td>\n",
       "      <td>2010</td>\n",
       "      <td>266500</td>\n",
       "      <td>70</td>\n",
       "      <td>...</td>\n",
       "      <td>1</td>\n",
       "      <td>252</td>\n",
       "      <td>Y</td>\n",
       "      <td>0</td>\n",
       "      <td>60</td>\n",
       "      <td>0</td>\n",
       "      <td>0</td>\n",
       "      <td>0</td>\n",
       "      <td>0</td>\n",
       "      <td>2500</td>\n",
       "    </tr>\n",
       "    <tr>\n",
       "      <th>1458</th>\n",
       "      <td>0.0</td>\n",
       "      <td>1078</td>\n",
       "      <td>49</td>\n",
       "      <td>0</td>\n",
       "      <td>4</td>\n",
       "      <td>WD</td>\n",
       "      <td>Normal</td>\n",
       "      <td>2010</td>\n",
       "      <td>142125</td>\n",
       "      <td>20</td>\n",
       "      <td>...</td>\n",
       "      <td>1</td>\n",
       "      <td>240</td>\n",
       "      <td>Y</td>\n",
       "      <td>366</td>\n",
       "      <td>0</td>\n",
       "      <td>112</td>\n",
       "      <td>0</td>\n",
       "      <td>0</td>\n",
       "      <td>0</td>\n",
       "      <td>0</td>\n",
       "    </tr>\n",
       "  </tbody>\n",
       "</table>\n",
       "<p>166 rows × 55 columns</p>\n",
       "</div>"
      ],
      "text/plain": [
       "      MasVnrArea  TotalBsmtSF  BsmtFinSF1  BsmtUnfSF  MoSold SaleType  \\\n",
       "16         180.0         1004         578        426       3       WD   \n",
       "24           0.0         1060         188        204       5       WD   \n",
       "26           0.0          900         234        180       5       WD   \n",
       "27         200.0         1704        1218        486       5       WD   \n",
       "33           0.0         1398        1018        380       4       WD   \n",
       "...          ...          ...         ...        ...     ...      ...   \n",
       "1438         0.0          912         600        312       4       WD   \n",
       "1446       189.0         1188         593        595       4       WD   \n",
       "1456       119.0         1542         790        589       2       WD   \n",
       "1457         0.0         1152         275        877       5       WD   \n",
       "1458         0.0         1078          49          0       4       WD   \n",
       "\n",
       "     SaleCondition  YrSold  SalePrice  MSSubClass  ...  GarageCars GarageArea  \\\n",
       "16          Normal    2010     149000          20  ...           2        480   \n",
       "24          Normal    2010     154000          20  ...           1        270   \n",
       "26          Normal    2010     134800          20  ...           2        576   \n",
       "27          Normal    2010     306000          20  ...           3        772   \n",
       "33          Normal    2010     165500          20  ...           2        447   \n",
       "...            ...     ...        ...         ...  ...         ...        ...   \n",
       "1438        Normal    2010     149700          20  ...           2        923   \n",
       "1446        Normal    2010     157900          20  ...           1        312   \n",
       "1456        Normal    2010     210000          20  ...           2        500   \n",
       "1457        Normal    2010     266500          70  ...           1        252   \n",
       "1458        Normal    2010     142125          20  ...           1        240   \n",
       "\n",
       "     PavedDrive WoodDeckSF OpenPorchSF EnclosedPorch 3SsnPorch ScreenPorch  \\\n",
       "16            Y          0           0             0         0           0   \n",
       "24            Y        406          90             0         0           0   \n",
       "26            Y        222          32             0         0           0   \n",
       "27            Y          0          50             0         0           0   \n",
       "33            Y          0          38             0         0           0   \n",
       "...         ...        ...         ...           ...       ...         ...   \n",
       "1438          Y          0         158           158         0           0   \n",
       "1446          P        261          39             0         0           0   \n",
       "1456          Y        349           0             0         0           0   \n",
       "1457          Y          0          60             0         0           0   \n",
       "1458          Y        366           0           112         0           0   \n",
       "\n",
       "     PoolArea MiscVal  \n",
       "16          0     700  \n",
       "24          0       0  \n",
       "26          0       0  \n",
       "27          0       0  \n",
       "33          0       0  \n",
       "...       ...     ...  \n",
       "1438        0       0  \n",
       "1446        0       0  \n",
       "1456        0       0  \n",
       "1457        0    2500  \n",
       "1458        0       0  \n",
       "\n",
       "[166 rows x 55 columns]"
      ]
     },
     "execution_count": 35,
     "metadata": {},
     "output_type": "execute_result"
    }
   ],
   "source": [
    "fixed_test"
   ]
  },
  {
   "cell_type": "code",
   "execution_count": 36,
   "metadata": {},
   "outputs": [],
   "source": [
    "#dummy time !! - first with categorical "
   ]
  },
  {
   "cell_type": "code",
   "execution_count": 37,
   "metadata": {},
   "outputs": [],
   "source": [
    "To_dummytrain = fixed_train[[\"Street\",\"LotShape\",\"LandContour\",\"LotConfig\",\"Neighborhood\",\"Condition1\",\"Condition2\",\"BldgType\",\"HouseStyle\",\n",
    "          \"RoofStyle\",\"Exterior1st\",\"Exterior2nd\",\"MasVnrType\",\"Foundation\",\"BsmtExposure\",\"BsmtFinType2\",\n",
    "          \"KitchenQual\",\"GarageType\",\"PavedDrive\"]]\n",
    "To_dummytest = fixed_test[[\"Street\",\"LotShape\",\"LandContour\",\"LotConfig\",\"Neighborhood\",\"Condition1\",\"Condition2\",\"BldgType\",\"HouseStyle\",\n",
    "          \"RoofStyle\",\"Exterior1st\",\"Exterior2nd\",\"MasVnrType\",\"Foundation\",\"BsmtExposure\",\"BsmtFinType2\",\n",
    "          \"KitchenQual\",\"GarageType\",\"PavedDrive\"]]"
   ]
  },
  {
   "cell_type": "code",
   "execution_count": 38,
   "metadata": {},
   "outputs": [],
   "source": [
    "fixeddummytrain = pd.get_dummies(data=To_dummytrain, drop_first = True )\n",
    "fixeddummytest = pd.get_dummies(data=To_dummytest, drop_first = True)"
   ]
  },
  {
   "cell_type": "code",
   "execution_count": 39,
   "metadata": {},
   "outputs": [
    {
     "data": {
      "text/html": [
       "<div>\n",
       "<style scoped>\n",
       "    .dataframe tbody tr th:only-of-type {\n",
       "        vertical-align: middle;\n",
       "    }\n",
       "\n",
       "    .dataframe tbody tr th {\n",
       "        vertical-align: top;\n",
       "    }\n",
       "\n",
       "    .dataframe thead th {\n",
       "        text-align: right;\n",
       "    }\n",
       "</style>\n",
       "<table border=\"1\" class=\"dataframe\">\n",
       "  <thead>\n",
       "    <tr style=\"text-align: right;\">\n",
       "      <th></th>\n",
       "      <th>Street_Pave</th>\n",
       "      <th>LotShape_IR2</th>\n",
       "      <th>LotShape_IR3</th>\n",
       "      <th>LotShape_Reg</th>\n",
       "      <th>LandContour_HLS</th>\n",
       "      <th>LandContour_Low</th>\n",
       "      <th>LandContour_Lvl</th>\n",
       "      <th>LotConfig_CulDSac</th>\n",
       "      <th>LotConfig_FR2</th>\n",
       "      <th>LotConfig_FR3</th>\n",
       "      <th>...</th>\n",
       "      <th>KitchenQual_Gd</th>\n",
       "      <th>KitchenQual_TA</th>\n",
       "      <th>GarageType_Attchd</th>\n",
       "      <th>GarageType_Basment</th>\n",
       "      <th>GarageType_BuiltIn</th>\n",
       "      <th>GarageType_CarPort</th>\n",
       "      <th>GarageType_Detchd</th>\n",
       "      <th>GarageType_NA</th>\n",
       "      <th>PavedDrive_P</th>\n",
       "      <th>PavedDrive_Y</th>\n",
       "    </tr>\n",
       "  </thead>\n",
       "  <tbody>\n",
       "    <tr>\n",
       "      <th>0</th>\n",
       "      <td>1</td>\n",
       "      <td>0</td>\n",
       "      <td>0</td>\n",
       "      <td>1</td>\n",
       "      <td>0</td>\n",
       "      <td>0</td>\n",
       "      <td>1</td>\n",
       "      <td>0</td>\n",
       "      <td>0</td>\n",
       "      <td>0</td>\n",
       "      <td>...</td>\n",
       "      <td>1</td>\n",
       "      <td>0</td>\n",
       "      <td>1</td>\n",
       "      <td>0</td>\n",
       "      <td>0</td>\n",
       "      <td>0</td>\n",
       "      <td>0</td>\n",
       "      <td>0</td>\n",
       "      <td>0</td>\n",
       "      <td>1</td>\n",
       "    </tr>\n",
       "    <tr>\n",
       "      <th>1</th>\n",
       "      <td>1</td>\n",
       "      <td>0</td>\n",
       "      <td>0</td>\n",
       "      <td>1</td>\n",
       "      <td>0</td>\n",
       "      <td>0</td>\n",
       "      <td>1</td>\n",
       "      <td>0</td>\n",
       "      <td>1</td>\n",
       "      <td>0</td>\n",
       "      <td>...</td>\n",
       "      <td>0</td>\n",
       "      <td>1</td>\n",
       "      <td>1</td>\n",
       "      <td>0</td>\n",
       "      <td>0</td>\n",
       "      <td>0</td>\n",
       "      <td>0</td>\n",
       "      <td>0</td>\n",
       "      <td>0</td>\n",
       "      <td>1</td>\n",
       "    </tr>\n",
       "    <tr>\n",
       "      <th>2</th>\n",
       "      <td>1</td>\n",
       "      <td>0</td>\n",
       "      <td>0</td>\n",
       "      <td>0</td>\n",
       "      <td>0</td>\n",
       "      <td>0</td>\n",
       "      <td>1</td>\n",
       "      <td>0</td>\n",
       "      <td>0</td>\n",
       "      <td>0</td>\n",
       "      <td>...</td>\n",
       "      <td>1</td>\n",
       "      <td>0</td>\n",
       "      <td>1</td>\n",
       "      <td>0</td>\n",
       "      <td>0</td>\n",
       "      <td>0</td>\n",
       "      <td>0</td>\n",
       "      <td>0</td>\n",
       "      <td>0</td>\n",
       "      <td>1</td>\n",
       "    </tr>\n",
       "    <tr>\n",
       "      <th>3</th>\n",
       "      <td>1</td>\n",
       "      <td>0</td>\n",
       "      <td>0</td>\n",
       "      <td>0</td>\n",
       "      <td>0</td>\n",
       "      <td>0</td>\n",
       "      <td>1</td>\n",
       "      <td>0</td>\n",
       "      <td>0</td>\n",
       "      <td>0</td>\n",
       "      <td>...</td>\n",
       "      <td>1</td>\n",
       "      <td>0</td>\n",
       "      <td>0</td>\n",
       "      <td>0</td>\n",
       "      <td>0</td>\n",
       "      <td>0</td>\n",
       "      <td>1</td>\n",
       "      <td>0</td>\n",
       "      <td>0</td>\n",
       "      <td>1</td>\n",
       "    </tr>\n",
       "    <tr>\n",
       "      <th>4</th>\n",
       "      <td>1</td>\n",
       "      <td>0</td>\n",
       "      <td>0</td>\n",
       "      <td>0</td>\n",
       "      <td>0</td>\n",
       "      <td>0</td>\n",
       "      <td>1</td>\n",
       "      <td>0</td>\n",
       "      <td>1</td>\n",
       "      <td>0</td>\n",
       "      <td>...</td>\n",
       "      <td>1</td>\n",
       "      <td>0</td>\n",
       "      <td>1</td>\n",
       "      <td>0</td>\n",
       "      <td>0</td>\n",
       "      <td>0</td>\n",
       "      <td>0</td>\n",
       "      <td>0</td>\n",
       "      <td>0</td>\n",
       "      <td>1</td>\n",
       "    </tr>\n",
       "    <tr>\n",
       "      <th>...</th>\n",
       "      <td>...</td>\n",
       "      <td>...</td>\n",
       "      <td>...</td>\n",
       "      <td>...</td>\n",
       "      <td>...</td>\n",
       "      <td>...</td>\n",
       "      <td>...</td>\n",
       "      <td>...</td>\n",
       "      <td>...</td>\n",
       "      <td>...</td>\n",
       "      <td>...</td>\n",
       "      <td>...</td>\n",
       "      <td>...</td>\n",
       "      <td>...</td>\n",
       "      <td>...</td>\n",
       "      <td>...</td>\n",
       "      <td>...</td>\n",
       "      <td>...</td>\n",
       "      <td>...</td>\n",
       "      <td>...</td>\n",
       "      <td>...</td>\n",
       "    </tr>\n",
       "    <tr>\n",
       "      <th>1451</th>\n",
       "      <td>1</td>\n",
       "      <td>0</td>\n",
       "      <td>0</td>\n",
       "      <td>1</td>\n",
       "      <td>0</td>\n",
       "      <td>0</td>\n",
       "      <td>1</td>\n",
       "      <td>0</td>\n",
       "      <td>0</td>\n",
       "      <td>0</td>\n",
       "      <td>...</td>\n",
       "      <td>0</td>\n",
       "      <td>0</td>\n",
       "      <td>1</td>\n",
       "      <td>0</td>\n",
       "      <td>0</td>\n",
       "      <td>0</td>\n",
       "      <td>0</td>\n",
       "      <td>0</td>\n",
       "      <td>0</td>\n",
       "      <td>1</td>\n",
       "    </tr>\n",
       "    <tr>\n",
       "      <th>1452</th>\n",
       "      <td>1</td>\n",
       "      <td>0</td>\n",
       "      <td>0</td>\n",
       "      <td>1</td>\n",
       "      <td>0</td>\n",
       "      <td>0</td>\n",
       "      <td>1</td>\n",
       "      <td>0</td>\n",
       "      <td>0</td>\n",
       "      <td>0</td>\n",
       "      <td>...</td>\n",
       "      <td>0</td>\n",
       "      <td>1</td>\n",
       "      <td>0</td>\n",
       "      <td>1</td>\n",
       "      <td>0</td>\n",
       "      <td>0</td>\n",
       "      <td>0</td>\n",
       "      <td>0</td>\n",
       "      <td>0</td>\n",
       "      <td>1</td>\n",
       "    </tr>\n",
       "    <tr>\n",
       "      <th>1453</th>\n",
       "      <td>1</td>\n",
       "      <td>0</td>\n",
       "      <td>0</td>\n",
       "      <td>1</td>\n",
       "      <td>0</td>\n",
       "      <td>0</td>\n",
       "      <td>1</td>\n",
       "      <td>0</td>\n",
       "      <td>0</td>\n",
       "      <td>0</td>\n",
       "      <td>...</td>\n",
       "      <td>0</td>\n",
       "      <td>1</td>\n",
       "      <td>0</td>\n",
       "      <td>0</td>\n",
       "      <td>0</td>\n",
       "      <td>0</td>\n",
       "      <td>0</td>\n",
       "      <td>1</td>\n",
       "      <td>0</td>\n",
       "      <td>1</td>\n",
       "    </tr>\n",
       "    <tr>\n",
       "      <th>1455</th>\n",
       "      <td>1</td>\n",
       "      <td>0</td>\n",
       "      <td>0</td>\n",
       "      <td>1</td>\n",
       "      <td>0</td>\n",
       "      <td>0</td>\n",
       "      <td>1</td>\n",
       "      <td>0</td>\n",
       "      <td>0</td>\n",
       "      <td>0</td>\n",
       "      <td>...</td>\n",
       "      <td>0</td>\n",
       "      <td>1</td>\n",
       "      <td>1</td>\n",
       "      <td>0</td>\n",
       "      <td>0</td>\n",
       "      <td>0</td>\n",
       "      <td>0</td>\n",
       "      <td>0</td>\n",
       "      <td>0</td>\n",
       "      <td>1</td>\n",
       "    </tr>\n",
       "    <tr>\n",
       "      <th>1459</th>\n",
       "      <td>1</td>\n",
       "      <td>0</td>\n",
       "      <td>0</td>\n",
       "      <td>1</td>\n",
       "      <td>0</td>\n",
       "      <td>0</td>\n",
       "      <td>1</td>\n",
       "      <td>0</td>\n",
       "      <td>0</td>\n",
       "      <td>0</td>\n",
       "      <td>...</td>\n",
       "      <td>0</td>\n",
       "      <td>1</td>\n",
       "      <td>1</td>\n",
       "      <td>0</td>\n",
       "      <td>0</td>\n",
       "      <td>0</td>\n",
       "      <td>0</td>\n",
       "      <td>0</td>\n",
       "      <td>0</td>\n",
       "      <td>1</td>\n",
       "    </tr>\n",
       "  </tbody>\n",
       "</table>\n",
       "<p>1224 rows × 124 columns</p>\n",
       "</div>"
      ],
      "text/plain": [
       "      Street_Pave  LotShape_IR2  LotShape_IR3  LotShape_Reg  LandContour_HLS  \\\n",
       "0               1             0             0             1                0   \n",
       "1               1             0             0             1                0   \n",
       "2               1             0             0             0                0   \n",
       "3               1             0             0             0                0   \n",
       "4               1             0             0             0                0   \n",
       "...           ...           ...           ...           ...              ...   \n",
       "1451            1             0             0             1                0   \n",
       "1452            1             0             0             1                0   \n",
       "1453            1             0             0             1                0   \n",
       "1455            1             0             0             1                0   \n",
       "1459            1             0             0             1                0   \n",
       "\n",
       "      LandContour_Low  LandContour_Lvl  LotConfig_CulDSac  LotConfig_FR2  \\\n",
       "0                   0                1                  0              0   \n",
       "1                   0                1                  0              1   \n",
       "2                   0                1                  0              0   \n",
       "3                   0                1                  0              0   \n",
       "4                   0                1                  0              1   \n",
       "...               ...              ...                ...            ...   \n",
       "1451                0                1                  0              0   \n",
       "1452                0                1                  0              0   \n",
       "1453                0                1                  0              0   \n",
       "1455                0                1                  0              0   \n",
       "1459                0                1                  0              0   \n",
       "\n",
       "      LotConfig_FR3  ...  KitchenQual_Gd  KitchenQual_TA  GarageType_Attchd  \\\n",
       "0                 0  ...               1               0                  1   \n",
       "1                 0  ...               0               1                  1   \n",
       "2                 0  ...               1               0                  1   \n",
       "3                 0  ...               1               0                  0   \n",
       "4                 0  ...               1               0                  1   \n",
       "...             ...  ...             ...             ...                ...   \n",
       "1451              0  ...               0               0                  1   \n",
       "1452              0  ...               0               1                  0   \n",
       "1453              0  ...               0               1                  0   \n",
       "1455              0  ...               0               1                  1   \n",
       "1459              0  ...               0               1                  1   \n",
       "\n",
       "      GarageType_Basment  GarageType_BuiltIn  GarageType_CarPort  \\\n",
       "0                      0                   0                   0   \n",
       "1                      0                   0                   0   \n",
       "2                      0                   0                   0   \n",
       "3                      0                   0                   0   \n",
       "4                      0                   0                   0   \n",
       "...                  ...                 ...                 ...   \n",
       "1451                   0                   0                   0   \n",
       "1452                   1                   0                   0   \n",
       "1453                   0                   0                   0   \n",
       "1455                   0                   0                   0   \n",
       "1459                   0                   0                   0   \n",
       "\n",
       "      GarageType_Detchd  GarageType_NA  PavedDrive_P  PavedDrive_Y  \n",
       "0                     0              0             0             1  \n",
       "1                     0              0             0             1  \n",
       "2                     0              0             0             1  \n",
       "3                     1              0             0             1  \n",
       "4                     0              0             0             1  \n",
       "...                 ...            ...           ...           ...  \n",
       "1451                  0              0             0             1  \n",
       "1452                  0              0             0             1  \n",
       "1453                  0              1             0             1  \n",
       "1455                  0              0             0             1  \n",
       "1459                  0              0             0             1  \n",
       "\n",
       "[1224 rows x 124 columns]"
      ]
     },
     "execution_count": 39,
     "metadata": {},
     "output_type": "execute_result"
    }
   ],
   "source": [
    "fixeddummytrain"
   ]
  },
  {
   "cell_type": "code",
   "execution_count": 40,
   "metadata": {},
   "outputs": [],
   "source": [
    "fixednotcattrain = fixed_train[[\"SalePrice\",\"MSSubClass\",\"BsmtFinSF2\"\n",
    ",\"BsmtFullBath\",\"BsmtHalfBath\",\"FullBath\",\"HalfBath\",\"BedroomAbvGr\",\"KitchenAbvGr\",\"TotRmsAbvGrd\",\"GarageCars\",\"WoodDeckSF\",\"OpenPorchSF\",\"EnclosedPorch\",\"3SsnPorch\",\"ScreenPorch\",\"MiscVal\"]]  "
   ]
  },
  {
   "cell_type": "code",
   "execution_count": 41,
   "metadata": {},
   "outputs": [],
   "source": [
    "fixednotcattest=fixed_test[[\"SalePrice\",\"MSSubClass\",\"BsmtFinSF2\"\n",
    ",\"BsmtFullBath\",\"BsmtHalfBath\",\"FullBath\",\"HalfBath\",\"BedroomAbvGr\",\"KitchenAbvGr\",\"TotRmsAbvGrd\",\"GarageCars\",\"WoodDeckSF\",\"OpenPorchSF\",\"EnclosedPorch\",\"3SsnPorch\",\"ScreenPorch\",\"MiscVal\"]]"
   ]
  },
  {
   "cell_type": "code",
   "execution_count": 42,
   "metadata": {},
   "outputs": [],
   "source": [
    "#now create dummies for continuous variables \n",
    "fixed_conttrain = fixed_train[[\"PoolArea\",\"YearBuilt\",\"Fireplaces\",\"GrLivArea\",\n",
    "\"1stFlrSF\",\"2ndFlrSF\",\"LowQualFinSF\",\"MasVnrArea\",\"TotalBsmtSF\",\"BsmtFinSF1\",\"BsmtUnfSF\",\"LotArea\",\"GarageArea\"]]\n"
   ]
  },
  {
   "cell_type": "code",
   "execution_count": 43,
   "metadata": {},
   "outputs": [],
   "source": [
    "fixed_conttest = fixed_test[[ \"PoolArea\",\"YearBuilt\",\"Fireplaces\",\"GrLivArea\",\"1stFlrSF\",\"2ndFlrSF\",\"LowQualFinSF\",\n",
    "                            \"MasVnrArea\",\"TotalBsmtSF\",\"BsmtFinSF1\",\"BsmtUnfSF\",\"LotArea\",\"GarageArea\"]]"
   ]
  },
  {
   "cell_type": "code",
   "execution_count": 44,
   "metadata": {},
   "outputs": [],
   "source": [
    "fixedcontdummytrain = pd.get_dummies(fixed_conttrain, drop_first = True )"
   ]
  },
  {
   "cell_type": "code",
   "execution_count": 45,
   "metadata": {},
   "outputs": [],
   "source": [
    "fixedcontdummytest = pd.get_dummies(fixed_conttest, drop_first = True)"
   ]
  },
  {
   "cell_type": "code",
   "execution_count": 46,
   "metadata": {},
   "outputs": [],
   "source": [
    "#now combine the categorical,continuous and the other data into 1 df for both train and test "
   ]
  },
  {
   "cell_type": "code",
   "execution_count": 47,
   "metadata": {},
   "outputs": [],
   "source": [
    "X_train1 = pd.concat([fixeddummytrain,fixednotcattrain, fixedcontdummytrain], axis = 1)\n",
    "X_test1 = pd.concat([fixeddummytest, fixednotcattest, fixedcontdummytest], axis = 1)"
   ]
  },
  {
   "cell_type": "code",
   "execution_count": 48,
   "metadata": {},
   "outputs": [],
   "source": [
    "X_train = X_train1.drop([\"SalePrice\"], axis = 1)\n",
    "X_test = X_test1.drop([\"SalePrice\"], axis = 1)"
   ]
  },
  {
   "cell_type": "code",
   "execution_count": 49,
   "metadata": {},
   "outputs": [],
   "source": [
    "#Make sure they have the same features! \n",
    "X_train, X_test = X_train.align(X_test, fill_value=0, axis=1)"
   ]
  },
  {
   "cell_type": "code",
   "execution_count": 50,
   "metadata": {},
   "outputs": [],
   "source": [
    "ss = StandardScaler().fit(X_train)\n",
    "\n",
    "X_trainss = ss.transform(X_train)\n",
    "X_testss = ss.transform(X_test)"
   ]
  },
  {
   "cell_type": "code",
   "execution_count": 51,
   "metadata": {},
   "outputs": [],
   "source": [
    "y_train = X_train1.SalePrice\n",
    "y_test = X_test1.SalePrice"
   ]
  },
  {
   "cell_type": "code",
   "execution_count": 52,
   "metadata": {},
   "outputs": [
    {
     "name": "stdout",
     "output_type": "stream",
     "text": [
      "(1224, 153) (1224,)\n",
      "(166, 153) (166,)\n"
     ]
    }
   ],
   "source": [
    "print(X_trainss.shape, y_train.shape)\n",
    "print(X_testss.shape, y_test.shape)\n",
    "\n"
   ]
  },
  {
   "cell_type": "code",
   "execution_count": 53,
   "metadata": {},
   "outputs": [],
   "source": [
    "#Train and test shape looking good, on we go! "
   ]
  },
  {
   "cell_type": "code",
   "execution_count": 54,
   "metadata": {},
   "outputs": [],
   "source": [
    "#Now we test the model, first with linear"
   ]
  },
  {
   "cell_type": "code",
   "execution_count": 55,
   "metadata": {},
   "outputs": [
    {
     "name": "stdout",
     "output_type": "stream",
     "text": [
      "[ 8.65939992e-01  8.45291268e-01  8.70258570e-01 -5.73512067e+21\n",
      " -6.29058888e+26  6.82265824e-01 -2.65867876e+25  8.04992882e-01\n",
      " -1.32549384e+20 -1.72797153e+25]\n",
      "-6.729312588042625e+25\n"
     ]
    }
   ],
   "source": [
    "linreg = LinearRegression()\n",
    "\n",
    "linreg_scores = cross_val_score(linreg, X_trainss, y_train, cv=10)\n",
    "\n",
    "print(linreg_scores)\n",
    "print(np.mean(linreg_scores))"
   ]
  },
  {
   "cell_type": "code",
   "execution_count": 56,
   "metadata": {},
   "outputs": [],
   "source": [
    "#Not a great result - lets have a look at a couple others "
   ]
  },
  {
   "cell_type": "code",
   "execution_count": 57,
   "metadata": {},
   "outputs": [],
   "source": [
    "#Lets try other models too, like ridge and lasso through cross validation as this linear regression we have at the moment \n",
    "#violates plenty of assumptions"
   ]
  },
  {
   "cell_type": "code",
   "execution_count": 87,
   "metadata": {},
   "outputs": [
    {
     "name": "stdout",
     "output_type": "stream",
     "text": [
      "387.20387818125573\n"
     ]
    }
   ],
   "source": [
    "ridge_alphas = np.logspace(0, 5, 200)\n",
    "\n",
    "optimal_ridge = RidgeCV(alphas=ridge_alphas, cv=10)\n",
    "optimal_ridge.fit(X_trainss, y_train)\n",
    "\n",
    "print(optimal_ridge.alpha_)"
   ]
  },
  {
   "cell_type": "code",
   "execution_count": 88,
   "metadata": {},
   "outputs": [],
   "source": [
    "\n",
    "# evaluate an ridge regression model on the dataset\n"
   ]
  },
  {
   "cell_type": "code",
   "execution_count": 89,
   "metadata": {},
   "outputs": [],
   "source": [
    "#Pretty good ! Now lets try with lasso "
   ]
  },
  {
   "cell_type": "code",
   "execution_count": 90,
   "metadata": {},
   "outputs": [
    {
     "name": "stderr",
     "output_type": "stream",
     "text": [
      "[Parallel(n_jobs=1)]: Using backend SequentialBackend with 1 concurrent workers.\n",
      "........................................................................................................................................................................................................................................................................................................................................................................................................................................................................................................................................................................................................................................................................................................................................................................................................................................................................................................................................................................................................................................................................................................................................................................................................................................................................................................................................................................................................................................................................................................................................................................................................................................................................................................................................................................................................................................................................................................................................................................................................................................................................................................................................................................................................................................................................................................................................................................................................................................................................................................................................................................................................................................................................................................................................................................................................................................................................................................................................................................................................................................................................................................................................................................................................................................................................................................................................................................................................................................................................................................................................................................................................................................................................................................................................................................................................................................................................................................................................................................................................................................................................................................................................................................................................................................................................................................................................................................................................................................................................................................................................................................................................................................................................................................................................................................................................................................................................................................................................................................................................................................................................................................................................."
     ]
    },
    {
     "name": "stdout",
     "output_type": "stream",
     "text": [
      "559.287879816739\n"
     ]
    },
    {
     "name": "stderr",
     "output_type": "stream",
     "text": [
      "...............................................................[Parallel(n_jobs=1)]: Done  10 out of  10 | elapsed:    5.2s finished\n"
     ]
    }
   ],
   "source": [
    "optimal_lasso = LassoCV(n_alphas=500, cv=10, verbose=1)\n",
    "optimal_lasso.fit(X_testss, y_test)\n",
    "\n",
    "print(optimal_lasso.alpha_)"
   ]
  },
  {
   "cell_type": "code",
   "execution_count": 91,
   "metadata": {},
   "outputs": [],
   "source": [
    "#RIDGE TIME "
   ]
  },
  {
   "cell_type": "code",
   "execution_count": 92,
   "metadata": {},
   "outputs": [
    {
     "name": "stdout",
     "output_type": "stream",
     "text": [
      "30664.341503146083\n",
      "0.8517615254838864\n",
      "29013.91702298508\n",
      "0.8735223449435131\n"
     ]
    }
   ],
   "source": [
    "rr = Ridge(alpha=optimal_ridge.alpha_)\n",
    "rr.fit(X_trainss, y_train) \n",
    "\n",
    "pred_train_rr= rr.predict(X_trainss)\n",
    "print(np.sqrt(mean_squared_error(y_train,pred_train_rr)))\n",
    "print(r2_score(y_train, pred_train_rr))\n",
    "\n",
    "pred_test_rr= rr.predict(X_testss)\n",
    "print(np.sqrt(mean_squared_error(y_test,pred_test_rr))) \n",
    "print(r2_score(y_test, pred_test_rr))\n",
    "#is this repeated "
   ]
  },
  {
   "cell_type": "code",
   "execution_count": 93,
   "metadata": {},
   "outputs": [],
   "source": [
    "#This model performs very well! But lets also see what happens with Lasso`"
   ]
  },
  {
   "cell_type": "code",
   "execution_count": 94,
   "metadata": {},
   "outputs": [
    {
     "name": "stdout",
     "output_type": "stream",
     "text": [
      "29412.313355747745\n",
      "0.863619581195908\n",
      "27407.18799915614\n",
      "0.887142601937919\n"
     ]
    }
   ],
   "source": [
    "model_lasso = Lasso(alpha= optimal_lasso.alpha_)\n",
    "model_lasso.fit(X_trainss, y_train) \n",
    "pred_train_lasso= model_lasso.predict(X_trainss)\n",
    "print(np.sqrt(mean_squared_error(y_train,pred_train_lasso)))\n",
    "print(r2_score(y_train, pred_train_lasso))\n",
    "\n",
    "pred_test_lasso= model_lasso.predict(X_testss)\n",
    "print(np.sqrt(mean_squared_error(y_test,pred_test_lasso))) \n",
    "print(r2_score(y_test, pred_test_lasso))"
   ]
  },
  {
   "cell_type": "code",
   "execution_count": 95,
   "metadata": {},
   "outputs": [],
   "source": [
    "#Now with elastic "
   ]
  },
  {
   "cell_type": "code",
   "execution_count": 96,
   "metadata": {},
   "outputs": [
    {
     "name": "stdout",
     "output_type": "stream",
     "text": [
      "28237.418856160686\n",
      "0.8742975787283678\n",
      "27017.82400210305\n",
      "0.8903264724794316\n"
     ]
    },
    {
     "name": "stderr",
     "output_type": "stream",
     "text": [
      "/Users/alexjacob/opt/anaconda3/lib/python3.8/site-packages/sklearn/linear_model/_coordinate_descent.py:529: ConvergenceWarning:\n",
      "\n",
      "Objective did not converge. You might want to increase the number of iterations. Duality gap: 9011187743.323853, tolerance: 776404004.2225959\n",
      "\n"
     ]
    }
   ],
   "source": [
    "model_enet = ElasticNet(alpha = 0.01)\n",
    "model_enet.fit(X_trainss, y_train) \n",
    "pred_train_enet= model_enet.predict(X_trainss)\n",
    "print(np.sqrt(mean_squared_error(y_train,pred_train_enet)))\n",
    "print(r2_score(y_train, pred_train_enet))\n",
    "\n",
    "pred_test_enet= model_enet.predict(X_testss)\n",
    "print(np.sqrt(mean_squared_error(y_test,pred_test_enet)))\n",
    "print(r2_score(y_test, pred_test_enet))\n"
   ]
  },
  {
   "cell_type": "code",
   "execution_count": 97,
   "metadata": {},
   "outputs": [],
   "source": [
    "#All of them work somewhat well, however we will utilise ridge to avoid multicolinearity problems, as lasso \n",
    "#fails to deal with it due to Lasso does not work well with multicollinearity. If you are unfamiliar, multicollinearity occurs when some of the dependent variables are correlated with each other. Why? Lasso might randomly choose one of the multicollinear variables without understanding the context. Such an action might eliminate relevant independent variables.\u000b"
   ]
  },
  {
   "cell_type": "code",
   "execution_count": 98,
   "metadata": {},
   "outputs": [],
   "source": [
    "#just to make sure, lets see what happens if we try with both lasso & ridge"
   ]
  },
  {
   "cell_type": "code",
   "execution_count": 99,
   "metadata": {},
   "outputs": [],
   "source": [
    "ridge = Ridge(alpha=optimal_ridge.alpha_)"
   ]
  },
  {
   "cell_type": "code",
   "execution_count": 100,
   "metadata": {},
   "outputs": [],
   "source": [
    "lasso = Lasso(alpha=optimal_lasso.alpha_)"
   ]
  },
  {
   "cell_type": "code",
   "execution_count": 105,
   "metadata": {},
   "outputs": [],
   "source": [
    "LRLASSTEST = lasso.fit(X_testss, y_test)\n",
    "LRLASSTRAIN = lasso.fit(X_trainss, y_train)"
   ]
  },
  {
   "cell_type": "code",
   "execution_count": 106,
   "metadata": {},
   "outputs": [],
   "source": [
    "LRRTEST = ridge.fit(X_testss, y_test)\n",
    "LRRTRAIN = ridge.fit(X_trainss, y_train)"
   ]
  },
  {
   "cell_type": "code",
   "execution_count": 107,
   "metadata": {},
   "outputs": [],
   "source": [
    "columns = X_train.columns"
   ]
  },
  {
   "cell_type": "code",
   "execution_count": 108,
   "metadata": {},
   "outputs": [
    {
     "data": {
      "text/plain": [
       "(153,)"
      ]
     },
     "execution_count": 108,
     "metadata": {},
     "output_type": "execute_result"
    }
   ],
   "source": [
    "columns.shape"
   ]
  },
  {
   "cell_type": "code",
   "execution_count": 109,
   "metadata": {},
   "outputs": [],
   "source": [
    "coeffs = pd.DataFrame(LRRTEST.coef_)\n"
   ]
  },
  {
   "cell_type": "code",
   "execution_count": 110,
   "metadata": {},
   "outputs": [
    {
     "data": {
      "text/html": [
       "<div>\n",
       "<style scoped>\n",
       "    .dataframe tbody tr th:only-of-type {\n",
       "        vertical-align: middle;\n",
       "    }\n",
       "\n",
       "    .dataframe tbody tr th {\n",
       "        vertical-align: top;\n",
       "    }\n",
       "\n",
       "    .dataframe thead th {\n",
       "        text-align: right;\n",
       "    }\n",
       "</style>\n",
       "<table border=\"1\" class=\"dataframe\">\n",
       "  <thead>\n",
       "    <tr style=\"text-align: right;\">\n",
       "      <th></th>\n",
       "      <th>0</th>\n",
       "      <th>1</th>\n",
       "      <th>2</th>\n",
       "      <th>3</th>\n",
       "      <th>4</th>\n",
       "      <th>5</th>\n",
       "      <th>6</th>\n",
       "      <th>7</th>\n",
       "      <th>8</th>\n",
       "      <th>9</th>\n",
       "      <th>...</th>\n",
       "      <th>143</th>\n",
       "      <th>144</th>\n",
       "      <th>145</th>\n",
       "      <th>146</th>\n",
       "      <th>147</th>\n",
       "      <th>148</th>\n",
       "      <th>149</th>\n",
       "      <th>150</th>\n",
       "      <th>151</th>\n",
       "      <th>152</th>\n",
       "    </tr>\n",
       "  </thead>\n",
       "  <tbody>\n",
       "    <tr>\n",
       "      <th>0</th>\n",
       "      <td>1562.155474</td>\n",
       "      <td>1732.559069</td>\n",
       "      <td>-2435.114083</td>\n",
       "      <td>-710.200467</td>\n",
       "      <td>2205.880018</td>\n",
       "      <td>18.943456</td>\n",
       "      <td>1509.511234</td>\n",
       "      <td>2098.190337</td>\n",
       "      <td>-1326.649227</td>\n",
       "      <td>-637.231997</td>\n",
       "      <td>...</td>\n",
       "      <td>9675.401065</td>\n",
       "      <td>6338.842425</td>\n",
       "      <td>6216.764676</td>\n",
       "      <td>358.626142</td>\n",
       "      <td>5281.853671</td>\n",
       "      <td>4537.788249</td>\n",
       "      <td>3667.71227</td>\n",
       "      <td>516.830623</td>\n",
       "      <td>3341.780592</td>\n",
       "      <td>4201.599698</td>\n",
       "    </tr>\n",
       "  </tbody>\n",
       "</table>\n",
       "<p>1 rows × 153 columns</p>\n",
       "</div>"
      ],
      "text/plain": [
       "           0            1            2           3            4          5    \\\n",
       "0  1562.155474  1732.559069 -2435.114083 -710.200467  2205.880018  18.943456   \n",
       "\n",
       "           6            7            8           9    ...          143  \\\n",
       "0  1509.511234  2098.190337 -1326.649227 -637.231997  ...  9675.401065   \n",
       "\n",
       "           144          145         146          147          148         149  \\\n",
       "0  6338.842425  6216.764676  358.626142  5281.853671  4537.788249  3667.71227   \n",
       "\n",
       "          150          151          152  \n",
       "0  516.830623  3341.780592  4201.599698  \n",
       "\n",
       "[1 rows x 153 columns]"
      ]
     },
     "execution_count": 110,
     "metadata": {},
     "output_type": "execute_result"
    }
   ],
   "source": [
    "coeffs.T"
   ]
  },
  {
   "cell_type": "code",
   "execution_count": 111,
   "metadata": {},
   "outputs": [],
   "source": [
    "columns = pd.DataFrame(columns)"
   ]
  },
  {
   "cell_type": "code",
   "execution_count": 112,
   "metadata": {},
   "outputs": [],
   "source": [
    "coefficients = pd.concat([columns,coeffs], axis = 1 )"
   ]
  },
  {
   "cell_type": "code",
   "execution_count": 113,
   "metadata": {},
   "outputs": [],
   "source": [
    "coefficients2 = pd.DataFrame.transpose(coefficients)"
   ]
  },
  {
   "cell_type": "code",
   "execution_count": 114,
   "metadata": {},
   "outputs": [
    {
     "data": {
      "text/html": [
       "<div>\n",
       "<style scoped>\n",
       "    .dataframe tbody tr th:only-of-type {\n",
       "        vertical-align: middle;\n",
       "    }\n",
       "\n",
       "    .dataframe tbody tr th {\n",
       "        vertical-align: top;\n",
       "    }\n",
       "\n",
       "    .dataframe thead th {\n",
       "        text-align: right;\n",
       "    }\n",
       "</style>\n",
       "<table border=\"1\" class=\"dataframe\">\n",
       "  <thead>\n",
       "    <tr style=\"text-align: right;\">\n",
       "      <th></th>\n",
       "      <th>0</th>\n",
       "      <th>1</th>\n",
       "      <th>2</th>\n",
       "      <th>3</th>\n",
       "      <th>4</th>\n",
       "      <th>5</th>\n",
       "      <th>6</th>\n",
       "      <th>7</th>\n",
       "      <th>8</th>\n",
       "      <th>9</th>\n",
       "      <th>...</th>\n",
       "      <th>143</th>\n",
       "      <th>144</th>\n",
       "      <th>145</th>\n",
       "      <th>146</th>\n",
       "      <th>147</th>\n",
       "      <th>148</th>\n",
       "      <th>149</th>\n",
       "      <th>150</th>\n",
       "      <th>151</th>\n",
       "      <th>152</th>\n",
       "    </tr>\n",
       "  </thead>\n",
       "  <tbody>\n",
       "    <tr>\n",
       "      <th>0</th>\n",
       "      <td>Street_Pave</td>\n",
       "      <td>LotShape_IR2</td>\n",
       "      <td>LotShape_IR3</td>\n",
       "      <td>LotShape_Reg</td>\n",
       "      <td>LandContour_HLS</td>\n",
       "      <td>LandContour_Low</td>\n",
       "      <td>LandContour_Lvl</td>\n",
       "      <td>LotConfig_CulDSac</td>\n",
       "      <td>LotConfig_FR2</td>\n",
       "      <td>LotConfig_FR3</td>\n",
       "      <td>...</td>\n",
       "      <td>GrLivArea</td>\n",
       "      <td>1stFlrSF</td>\n",
       "      <td>2ndFlrSF</td>\n",
       "      <td>LowQualFinSF</td>\n",
       "      <td>MasVnrArea</td>\n",
       "      <td>TotalBsmtSF</td>\n",
       "      <td>BsmtFinSF1</td>\n",
       "      <td>BsmtUnfSF</td>\n",
       "      <td>LotArea</td>\n",
       "      <td>GarageArea</td>\n",
       "    </tr>\n",
       "    <tr>\n",
       "      <th>0</th>\n",
       "      <td>1562.155474</td>\n",
       "      <td>1732.559069</td>\n",
       "      <td>-2435.114083</td>\n",
       "      <td>-710.200467</td>\n",
       "      <td>2205.880018</td>\n",
       "      <td>18.943456</td>\n",
       "      <td>1509.511234</td>\n",
       "      <td>2098.190337</td>\n",
       "      <td>-1326.649227</td>\n",
       "      <td>-637.231997</td>\n",
       "      <td>...</td>\n",
       "      <td>9675.401065</td>\n",
       "      <td>6338.842425</td>\n",
       "      <td>6216.764676</td>\n",
       "      <td>358.626142</td>\n",
       "      <td>5281.853671</td>\n",
       "      <td>4537.788249</td>\n",
       "      <td>3667.71227</td>\n",
       "      <td>516.830623</td>\n",
       "      <td>3341.780592</td>\n",
       "      <td>4201.599698</td>\n",
       "    </tr>\n",
       "  </tbody>\n",
       "</table>\n",
       "<p>2 rows × 153 columns</p>\n",
       "</div>"
      ],
      "text/plain": [
       "           0             1             2             3                4    \\\n",
       "0  Street_Pave  LotShape_IR2  LotShape_IR3  LotShape_Reg  LandContour_HLS   \n",
       "0  1562.155474   1732.559069  -2435.114083   -710.200467      2205.880018   \n",
       "\n",
       "               5                6                  7              8    \\\n",
       "0  LandContour_Low  LandContour_Lvl  LotConfig_CulDSac  LotConfig_FR2   \n",
       "0        18.943456      1509.511234        2098.190337   -1326.649227   \n",
       "\n",
       "             9    ...          143          144          145           146  \\\n",
       "0  LotConfig_FR3  ...    GrLivArea     1stFlrSF     2ndFlrSF  LowQualFinSF   \n",
       "0    -637.231997  ...  9675.401065  6338.842425  6216.764676    358.626142   \n",
       "\n",
       "           147          148         149         150          151          152  \n",
       "0   MasVnrArea  TotalBsmtSF  BsmtFinSF1   BsmtUnfSF      LotArea   GarageArea  \n",
       "0  5281.853671  4537.788249  3667.71227  516.830623  3341.780592  4201.599698  \n",
       "\n",
       "[2 rows x 153 columns]"
      ]
     },
     "execution_count": 114,
     "metadata": {},
     "output_type": "execute_result"
    }
   ],
   "source": [
    "coefficients2"
   ]
  },
  {
   "cell_type": "code",
   "execution_count": 115,
   "metadata": {},
   "outputs": [
    {
     "data": {
      "text/plain": [
       "0          Street_Pave\n",
       "1         LotShape_IR2\n",
       "2         LotShape_IR3\n",
       "3         LotShape_Reg\n",
       "4      LandContour_HLS\n",
       "            ...       \n",
       "148        TotalBsmtSF\n",
       "149         BsmtFinSF1\n",
       "150          BsmtUnfSF\n",
       "151            LotArea\n",
       "152         GarageArea\n",
       "Name: 0, Length: 153, dtype: object"
      ]
     },
     "execution_count": 115,
     "metadata": {},
     "output_type": "execute_result"
    }
   ],
   "source": [
    "coefficients2.iloc[0]"
   ]
  },
  {
   "cell_type": "code",
   "execution_count": 116,
   "metadata": {},
   "outputs": [],
   "source": [
    "coefficients2.columns = coefficients2.iloc[0]\n"
   ]
  },
  {
   "cell_type": "code",
   "execution_count": 117,
   "metadata": {},
   "outputs": [
    {
     "data": {
      "text/html": [
       "<div>\n",
       "<style scoped>\n",
       "    .dataframe tbody tr th:only-of-type {\n",
       "        vertical-align: middle;\n",
       "    }\n",
       "\n",
       "    .dataframe tbody tr th {\n",
       "        vertical-align: top;\n",
       "    }\n",
       "\n",
       "    .dataframe thead th {\n",
       "        text-align: right;\n",
       "    }\n",
       "</style>\n",
       "<table border=\"1\" class=\"dataframe\">\n",
       "  <thead>\n",
       "    <tr style=\"text-align: right;\">\n",
       "      <th></th>\n",
       "      <th>Street_Pave</th>\n",
       "      <th>LotShape_IR2</th>\n",
       "      <th>LotShape_IR3</th>\n",
       "      <th>LotShape_Reg</th>\n",
       "      <th>LandContour_HLS</th>\n",
       "      <th>LandContour_Low</th>\n",
       "      <th>LandContour_Lvl</th>\n",
       "      <th>LotConfig_CulDSac</th>\n",
       "      <th>LotConfig_FR2</th>\n",
       "      <th>LotConfig_FR3</th>\n",
       "      <th>...</th>\n",
       "      <th>GrLivArea</th>\n",
       "      <th>1stFlrSF</th>\n",
       "      <th>2ndFlrSF</th>\n",
       "      <th>LowQualFinSF</th>\n",
       "      <th>MasVnrArea</th>\n",
       "      <th>TotalBsmtSF</th>\n",
       "      <th>BsmtFinSF1</th>\n",
       "      <th>BsmtUnfSF</th>\n",
       "      <th>LotArea</th>\n",
       "      <th>GarageArea</th>\n",
       "    </tr>\n",
       "  </thead>\n",
       "  <tbody>\n",
       "    <tr>\n",
       "      <th>0</th>\n",
       "      <td>1562.155474</td>\n",
       "      <td>1732.559069</td>\n",
       "      <td>-2435.114083</td>\n",
       "      <td>-710.200467</td>\n",
       "      <td>2205.880018</td>\n",
       "      <td>18.943456</td>\n",
       "      <td>1509.511234</td>\n",
       "      <td>2098.190337</td>\n",
       "      <td>-1326.649227</td>\n",
       "      <td>-637.231997</td>\n",
       "      <td>...</td>\n",
       "      <td>9675.401065</td>\n",
       "      <td>6338.842425</td>\n",
       "      <td>6216.764676</td>\n",
       "      <td>358.626142</td>\n",
       "      <td>5281.853671</td>\n",
       "      <td>4537.788249</td>\n",
       "      <td>3667.71227</td>\n",
       "      <td>516.830623</td>\n",
       "      <td>3341.780592</td>\n",
       "      <td>4201.599698</td>\n",
       "    </tr>\n",
       "  </tbody>\n",
       "</table>\n",
       "<p>1 rows × 153 columns</p>\n",
       "</div>"
      ],
      "text/plain": [
       "0  Street_Pave LotShape_IR2 LotShape_IR3 LotShape_Reg LandContour_HLS  \\\n",
       "0  1562.155474  1732.559069 -2435.114083  -710.200467     2205.880018   \n",
       "\n",
       "0 LandContour_Low LandContour_Lvl LotConfig_CulDSac LotConfig_FR2  \\\n",
       "0       18.943456     1509.511234       2098.190337  -1326.649227   \n",
       "\n",
       "0 LotConfig_FR3  ...    GrLivArea     1stFlrSF     2ndFlrSF LowQualFinSF  \\\n",
       "0   -637.231997  ...  9675.401065  6338.842425  6216.764676   358.626142   \n",
       "\n",
       "0   MasVnrArea  TotalBsmtSF  BsmtFinSF1   BsmtUnfSF      LotArea   GarageArea  \n",
       "0  5281.853671  4537.788249  3667.71227  516.830623  3341.780592  4201.599698  \n",
       "\n",
       "[1 rows x 153 columns]"
      ]
     },
     "execution_count": 117,
     "metadata": {},
     "output_type": "execute_result"
    }
   ],
   "source": [
    "coefficients2.iloc[1: , :]"
   ]
  },
  {
   "cell_type": "code",
   "execution_count": 118,
   "metadata": {},
   "outputs": [],
   "source": [
    "coefficients2 = coefficients2.iloc[1: , :]\n"
   ]
  },
  {
   "cell_type": "code",
   "execution_count": 119,
   "metadata": {},
   "outputs": [
    {
     "data": {
      "text/html": [
       "\n",
       "        <iframe\n",
       "            width=\"100%\"\n",
       "            height=\"475\"\n",
       "            src=\"http://Alexs-Air-5.lan:40000/dtale/iframe/2\"\n",
       "            frameborder=\"0\"\n",
       "            allowfullscreen\n",
       "        ></iframe>\n",
       "        "
      ],
      "text/plain": [
       "<IPython.lib.display.IFrame at 0x7fa1a05cb1f0>"
      ]
     },
     "metadata": {},
     "output_type": "display_data"
    },
    {
     "data": {
      "text/plain": []
     },
     "execution_count": 119,
     "metadata": {},
     "output_type": "execute_result"
    }
   ],
   "source": [
    "dtale.show(coefficients2)"
   ]
  },
  {
   "cell_type": "code",
   "execution_count": 120,
   "metadata": {},
   "outputs": [
    {
     "data": {
      "text/html": [
       "<div>\n",
       "<style scoped>\n",
       "    .dataframe tbody tr th:only-of-type {\n",
       "        vertical-align: middle;\n",
       "    }\n",
       "\n",
       "    .dataframe tbody tr th {\n",
       "        vertical-align: top;\n",
       "    }\n",
       "\n",
       "    .dataframe thead th {\n",
       "        text-align: right;\n",
       "    }\n",
       "</style>\n",
       "<table border=\"1\" class=\"dataframe\">\n",
       "  <thead>\n",
       "    <tr style=\"text-align: right;\">\n",
       "      <th></th>\n",
       "      <th>Ridge_Coeff</th>\n",
       "    </tr>\n",
       "    <tr>\n",
       "      <th>0</th>\n",
       "      <th></th>\n",
       "    </tr>\n",
       "  </thead>\n",
       "  <tbody>\n",
       "    <tr>\n",
       "      <th>GrLivArea</th>\n",
       "      <td>9675.401065</td>\n",
       "    </tr>\n",
       "    <tr>\n",
       "      <th>Neighborhood_NridgHt</th>\n",
       "      <td>8969.199095</td>\n",
       "    </tr>\n",
       "    <tr>\n",
       "      <th>KitchenQual_TA</th>\n",
       "      <td>7571.931661</td>\n",
       "    </tr>\n",
       "    <tr>\n",
       "      <th>Neighborhood_NoRidge</th>\n",
       "      <td>6861.718593</td>\n",
       "    </tr>\n",
       "    <tr>\n",
       "      <th>1stFlrSF</th>\n",
       "      <td>6338.842425</td>\n",
       "    </tr>\n",
       "    <tr>\n",
       "      <th>...</th>\n",
       "      <td>...</td>\n",
       "    </tr>\n",
       "    <tr>\n",
       "      <th>Condition2_Feedr</th>\n",
       "      <td>34.387285</td>\n",
       "    </tr>\n",
       "    <tr>\n",
       "      <th>HouseStyle_1Story</th>\n",
       "      <td>33.595647</td>\n",
       "    </tr>\n",
       "    <tr>\n",
       "      <th>LandContour_Low</th>\n",
       "      <td>18.943456</td>\n",
       "    </tr>\n",
       "    <tr>\n",
       "      <th>BldgType_2fmCon</th>\n",
       "      <td>17.615502</td>\n",
       "    </tr>\n",
       "    <tr>\n",
       "      <th>Exterior1st_AsphShn</th>\n",
       "      <td>0.0</td>\n",
       "    </tr>\n",
       "  </tbody>\n",
       "</table>\n",
       "<p>153 rows × 1 columns</p>\n",
       "</div>"
      ],
      "text/plain": [
       "                      Ridge_Coeff\n",
       "0                                \n",
       "GrLivArea             9675.401065\n",
       "Neighborhood_NridgHt  8969.199095\n",
       "KitchenQual_TA        7571.931661\n",
       "Neighborhood_NoRidge  6861.718593\n",
       "1stFlrSF              6338.842425\n",
       "...                           ...\n",
       "Condition2_Feedr        34.387285\n",
       "HouseStyle_1Story       33.595647\n",
       "LandContour_Low         18.943456\n",
       "BldgType_2fmCon         17.615502\n",
       "Exterior1st_AsphShn           0.0\n",
       "\n",
       "[153 rows x 1 columns]"
      ]
     },
     "execution_count": 120,
     "metadata": {},
     "output_type": "execute_result"
    }
   ],
   "source": [
    "coeffs_t = coefficients2.transpose()\n",
    "coeffs_t.columns = ['Ridge_Coeff']\n",
    "coeffs_abs = coeffs_t.abs().sort_values('Ridge_Coeff', ascending=False)\n",
    "coeffs_abs"
   ]
  },
  {
   "cell_type": "code",
   "execution_count": 121,
   "metadata": {},
   "outputs": [
    {
     "data": {
      "text/plain": [
       "Index(['Ridge_Coeff'], dtype='object')"
      ]
     },
     "execution_count": 121,
     "metadata": {},
     "output_type": "execute_result"
    }
   ],
   "source": [
    "coeffs_abs.columns"
   ]
  },
  {
   "cell_type": "code",
   "execution_count": 122,
   "metadata": {},
   "outputs": [
    {
     "data": {
      "text/html": [
       "\n",
       "        <iframe\n",
       "            width=\"100%\"\n",
       "            height=\"475\"\n",
       "            src=\"http://Alexs-Air-5.lan:40000/dtale/iframe/3\"\n",
       "            frameborder=\"0\"\n",
       "            allowfullscreen\n",
       "        ></iframe>\n",
       "        "
      ],
      "text/plain": [
       "<IPython.lib.display.IFrame at 0x7fa1a05c2670>"
      ]
     },
     "metadata": {},
     "output_type": "display_data"
    },
    {
     "data": {
      "text/plain": []
     },
     "execution_count": 122,
     "metadata": {},
     "output_type": "execute_result"
    }
   ],
   "source": [
    "dtale.show(coeffs_abs)"
   ]
  },
  {
   "cell_type": "code",
   "execution_count": 123,
   "metadata": {},
   "outputs": [],
   "source": [
    "#lets have a look at the top corrolations"
   ]
  },
  {
   "cell_type": "code",
   "execution_count": 124,
   "metadata": {},
   "outputs": [],
   "source": [
    "Fixed_most_corrolated = coeffs_abs.iloc[0:10]\n",
    "#Show this compred to lasso table"
   ]
  },
  {
   "cell_type": "code",
   "execution_count": 125,
   "metadata": {},
   "outputs": [
    {
     "data": {
      "text/plain": [
       "Text(0, 0.5, 'Fixed features')"
      ]
     },
     "execution_count": 125,
     "metadata": {},
     "output_type": "execute_result"
    },
    {
     "data": {
      "image/png": "[encoded data removed]",
      "text/plain": [
       "<Figure size 432x288 with 1 Axes>"
      ]
     },
     "metadata": {
      "image/png": {
       "height": 276,
       "width": 536
      },
      "needs_background": "light"
     },
     "output_type": "display_data"
    }
   ],
   "source": [
    "Fixed_most_corrolated.plot(kind = \"barh\")\n",
    "plt.tick_params(labelsize=11)\n",
    "plt.title(\"10 Most corrolated features\")\n",
    "plt.xlabel(\"Ridge Coefficient\")\n",
    "plt.ylabel(\"Fixed features\")"
   ]
  },
  {
   "cell_type": "code",
   "execution_count": 126,
   "metadata": {},
   "outputs": [],
   "source": [
    "y_testpredictridge = rr.predict(X_testss)\n",
    "y_trainpredictridge = rr.predict(X_trainss)"
   ]
  },
  {
   "cell_type": "code",
   "execution_count": 127,
   "metadata": {},
   "outputs": [
    {
     "data": {
      "text/plain": [
       "Ridge(alpha=387.20387818125573)"
      ]
     },
     "execution_count": 127,
     "metadata": {},
     "output_type": "execute_result"
    }
   ],
   "source": [
    "rr.fit(X_trainss,y_train)"
   ]
  },
  {
   "cell_type": "code",
   "execution_count": 128,
   "metadata": {},
   "outputs": [
    {
     "data": {
      "text/plain": [
       "Ridge(alpha=387.20387818125573)"
      ]
     },
     "execution_count": 128,
     "metadata": {},
     "output_type": "execute_result"
    }
   ],
   "source": [
    "ridge "
   ]
  },
  {
   "cell_type": "code",
   "execution_count": 129,
   "metadata": {},
   "outputs": [
    {
     "data": {
      "text/plain": [
       "Ridge(alpha=387.20387818125573)"
      ]
     },
     "execution_count": 129,
     "metadata": {},
     "output_type": "execute_result"
    }
   ],
   "source": [
    "LRRTRAIN"
   ]
  },
  {
   "cell_type": "code",
   "execution_count": 130,
   "metadata": {},
   "outputs": [],
   "source": [
    "#Print out important stuff "
   ]
  },
  {
   "cell_type": "code",
   "execution_count": 131,
   "metadata": {},
   "outputs": [
    {
     "name": "stdout",
     "output_type": "stream",
     "text": [
      "train predicted mean = 0.8055013646926298\n"
     ]
    }
   ],
   "source": [
    "ridgetrain = Ridge(alpha=optimal_ridge.alpha_)\n",
    "\n",
    "ridge_scores = cross_val_score(ridge, X_trainss, y_train, cv=10)\n",
    "\n",
    "#print(ridge_scores)\n",
    "#print(np.mean(ridge_scores))\n",
    "print(\"train predicted mean =\", np.mean(ridge_scores))"
   ]
  },
  {
   "cell_type": "code",
   "execution_count": 132,
   "metadata": {},
   "outputs": [
    {
     "name": "stdout",
     "output_type": "stream",
     "text": [
      "test predicted mean = 0.7570721607426735\n"
     ]
    }
   ],
   "source": [
    "ridgetest = Ridge(alpha=optimal_ridge.alpha_)\n",
    "\n",
    "ridge_scores = cross_val_score(ridge, X_testss, y_test, cv=10)\n",
    "\n",
    "#print(ridge_scores)\n",
    "#print(np.mean(ridge_scores))\n",
    "print(\"test predicted mean =\", np.mean(ridge_scores))"
   ]
  },
  {
   "cell_type": "code",
   "execution_count": 133,
   "metadata": {},
   "outputs": [
    {
     "name": "stdout",
     "output_type": "stream",
     "text": [
      "The RSME for training  is; 30664.341503146083\n",
      "The R^square for training is: 0.8517615254838864\n",
      "The RSME for our test dataset is; 29013.91702298508\n",
      "The R^square for our test dataset is: 0.8735223449435131\n"
     ]
    }
   ],
   "source": [
    "print(\"The RSME for training  is;\", np.sqrt(mean_squared_error(y_train,pred_train_rr)))\n",
    "print(\"The R^square for training is:\", r2_score(y_train, pred_train_rr))\n",
    "\n",
    "pred_test_rr= rr.predict(X_testss)\n",
    "print(\"The RSME for our test dataset is;\", np.sqrt(mean_squared_error(y_test,pred_test_rr))) \n",
    "print(\"The R^square for our test dataset is:\", r2_score(y_test, pred_test_rr))"
   ]
  },
  {
   "cell_type": "markdown",
   "metadata": {},
   "source": [
    "<img src=\"http://imgur.com/l5NasQj.png\" style=\"float: left; margin: 25px 15px 0px 0px; height: 25px\">\n",
    "\n",
    "## 2. Determine any value of *changeable* property characteristics unexplained by the *fixed* ones.\n",
    "\n",
    "---\n",
    "\n",
    "Q2. Now that you have a model that estimates the price of a house based on its static characteristics, we can move forward with part 2 of the project: what are the costs/benefits of renovateable features such as quality, condition, and renovations?\n",
    "\n",
    "To isolate the effect of the renovateable features on the sale price one way of doing this is to use the residuals from the first model as your target variable in the second model. The residuals from the first model (training and testing) represent the variance in price unexplained by the fixed characteristics. You will use the renovateable features as the predictors for this second model.  \n",
    "\n",
    " \n",
    "---\n",
    "\n",
    "### **Your goals for question two:**\n",
    "\n",
    "Use the features in the data that are renovatable as predictors for your second model. This second model will predict the variance/residuals from the first model.  As with Q1 , train the model on pre-2010 data and evaluate its performance on the 2010 houses.\n",
    "\n",
    "How well has your chosen model done?  \n",
    "\n",
    "\n",
    "Which renovateable features are the most important in your second model .  Articulate your findings and make sense of the results.\n",
    "\n",
    " \n",
    "Do you trust your model?   \n",
    "\n",
    " "
   ]
  },
  {
   "cell_type": "code",
   "execution_count": 134,
   "metadata": {},
   "outputs": [],
   "source": [
    "#lets check out our residuals"
   ]
  },
  {
   "cell_type": "code",
   "execution_count": 135,
   "metadata": {},
   "outputs": [
    {
     "data": {
      "text/plain": [
       "Ridge(alpha=387.20387818125573)"
      ]
     },
     "execution_count": 135,
     "metadata": {},
     "output_type": "execute_result"
    }
   ],
   "source": [
    "ridge.fit(X_trainss, y_train)\n"
   ]
  },
  {
   "cell_type": "code",
   "execution_count": 136,
   "metadata": {},
   "outputs": [
    {
     "data": {
      "text/plain": [
       "Ridge(alpha=387.20387818125573)"
      ]
     },
     "execution_count": 136,
     "metadata": {},
     "output_type": "execute_result"
    }
   ],
   "source": [
    "ridge.fit(X_testss, y_test)"
   ]
  },
  {
   "cell_type": "code",
   "execution_count": 137,
   "metadata": {},
   "outputs": [],
   "source": [
    "ridge_residuals = y_train - ridge.predict(X_trainss)"
   ]
  },
  {
   "cell_type": "code",
   "execution_count": 138,
   "metadata": {},
   "outputs": [],
   "source": [
    "residualstrain = y_train - ridge.predict(X_trainss)"
   ]
  },
  {
   "cell_type": "code",
   "execution_count": 139,
   "metadata": {},
   "outputs": [],
   "source": [
    "residualstest = y_test - ridge.predict(X_testss)"
   ]
  },
  {
   "cell_type": "code",
   "execution_count": 140,
   "metadata": {},
   "outputs": [
    {
     "data": {
      "text/html": [
       "<div>\n",
       "<style scoped>\n",
       "    .dataframe tbody tr th:only-of-type {\n",
       "        vertical-align: middle;\n",
       "    }\n",
       "\n",
       "    .dataframe tbody tr th {\n",
       "        vertical-align: top;\n",
       "    }\n",
       "\n",
       "    .dataframe thead th {\n",
       "        text-align: right;\n",
       "    }\n",
       "</style>\n",
       "<table border=\"1\" class=\"dataframe\">\n",
       "  <thead>\n",
       "    <tr style=\"text-align: right;\">\n",
       "      <th></th>\n",
       "      <th>Id</th>\n",
       "      <th>MSSubClass</th>\n",
       "      <th>MSZoning</th>\n",
       "      <th>LotFrontage</th>\n",
       "      <th>LotArea</th>\n",
       "      <th>Street</th>\n",
       "      <th>Alley</th>\n",
       "      <th>LotShape</th>\n",
       "      <th>LandContour</th>\n",
       "      <th>Utilities</th>\n",
       "      <th>...</th>\n",
       "      <th>PoolArea</th>\n",
       "      <th>PoolQC</th>\n",
       "      <th>Fence</th>\n",
       "      <th>MiscFeature</th>\n",
       "      <th>MiscVal</th>\n",
       "      <th>MoSold</th>\n",
       "      <th>YrSold</th>\n",
       "      <th>SaleType</th>\n",
       "      <th>SaleCondition</th>\n",
       "      <th>SalePrice</th>\n",
       "    </tr>\n",
       "  </thead>\n",
       "  <tbody>\n",
       "    <tr>\n",
       "      <th>0</th>\n",
       "      <td>1</td>\n",
       "      <td>60</td>\n",
       "      <td>RL</td>\n",
       "      <td>65.0</td>\n",
       "      <td>8450</td>\n",
       "      <td>Pave</td>\n",
       "      <td>NA</td>\n",
       "      <td>Reg</td>\n",
       "      <td>Lvl</td>\n",
       "      <td>AllPub</td>\n",
       "      <td>...</td>\n",
       "      <td>0</td>\n",
       "      <td>NA</td>\n",
       "      <td>NA</td>\n",
       "      <td>NA</td>\n",
       "      <td>0</td>\n",
       "      <td>2</td>\n",
       "      <td>2008</td>\n",
       "      <td>WD</td>\n",
       "      <td>Normal</td>\n",
       "      <td>208500</td>\n",
       "    </tr>\n",
       "    <tr>\n",
       "      <th>1</th>\n",
       "      <td>2</td>\n",
       "      <td>20</td>\n",
       "      <td>RL</td>\n",
       "      <td>80.0</td>\n",
       "      <td>9600</td>\n",
       "      <td>Pave</td>\n",
       "      <td>NA</td>\n",
       "      <td>Reg</td>\n",
       "      <td>Lvl</td>\n",
       "      <td>AllPub</td>\n",
       "      <td>...</td>\n",
       "      <td>0</td>\n",
       "      <td>NA</td>\n",
       "      <td>NA</td>\n",
       "      <td>NA</td>\n",
       "      <td>0</td>\n",
       "      <td>5</td>\n",
       "      <td>2007</td>\n",
       "      <td>WD</td>\n",
       "      <td>Normal</td>\n",
       "      <td>181500</td>\n",
       "    </tr>\n",
       "    <tr>\n",
       "      <th>2</th>\n",
       "      <td>3</td>\n",
       "      <td>60</td>\n",
       "      <td>RL</td>\n",
       "      <td>68.0</td>\n",
       "      <td>11250</td>\n",
       "      <td>Pave</td>\n",
       "      <td>NA</td>\n",
       "      <td>IR1</td>\n",
       "      <td>Lvl</td>\n",
       "      <td>AllPub</td>\n",
       "      <td>...</td>\n",
       "      <td>0</td>\n",
       "      <td>NA</td>\n",
       "      <td>NA</td>\n",
       "      <td>NA</td>\n",
       "      <td>0</td>\n",
       "      <td>9</td>\n",
       "      <td>2008</td>\n",
       "      <td>WD</td>\n",
       "      <td>Normal</td>\n",
       "      <td>223500</td>\n",
       "    </tr>\n",
       "    <tr>\n",
       "      <th>3</th>\n",
       "      <td>4</td>\n",
       "      <td>70</td>\n",
       "      <td>RL</td>\n",
       "      <td>60.0</td>\n",
       "      <td>9550</td>\n",
       "      <td>Pave</td>\n",
       "      <td>NA</td>\n",
       "      <td>IR1</td>\n",
       "      <td>Lvl</td>\n",
       "      <td>AllPub</td>\n",
       "      <td>...</td>\n",
       "      <td>0</td>\n",
       "      <td>NA</td>\n",
       "      <td>NA</td>\n",
       "      <td>NA</td>\n",
       "      <td>0</td>\n",
       "      <td>2</td>\n",
       "      <td>2006</td>\n",
       "      <td>WD</td>\n",
       "      <td>Abnorml</td>\n",
       "      <td>140000</td>\n",
       "    </tr>\n",
       "    <tr>\n",
       "      <th>4</th>\n",
       "      <td>5</td>\n",
       "      <td>60</td>\n",
       "      <td>RL</td>\n",
       "      <td>84.0</td>\n",
       "      <td>14260</td>\n",
       "      <td>Pave</td>\n",
       "      <td>NA</td>\n",
       "      <td>IR1</td>\n",
       "      <td>Lvl</td>\n",
       "      <td>AllPub</td>\n",
       "      <td>...</td>\n",
       "      <td>0</td>\n",
       "      <td>NA</td>\n",
       "      <td>NA</td>\n",
       "      <td>NA</td>\n",
       "      <td>0</td>\n",
       "      <td>12</td>\n",
       "      <td>2008</td>\n",
       "      <td>WD</td>\n",
       "      <td>Normal</td>\n",
       "      <td>250000</td>\n",
       "    </tr>\n",
       "    <tr>\n",
       "      <th>...</th>\n",
       "      <td>...</td>\n",
       "      <td>...</td>\n",
       "      <td>...</td>\n",
       "      <td>...</td>\n",
       "      <td>...</td>\n",
       "      <td>...</td>\n",
       "      <td>...</td>\n",
       "      <td>...</td>\n",
       "      <td>...</td>\n",
       "      <td>...</td>\n",
       "      <td>...</td>\n",
       "      <td>...</td>\n",
       "      <td>...</td>\n",
       "      <td>...</td>\n",
       "      <td>...</td>\n",
       "      <td>...</td>\n",
       "      <td>...</td>\n",
       "      <td>...</td>\n",
       "      <td>...</td>\n",
       "      <td>...</td>\n",
       "      <td>...</td>\n",
       "    </tr>\n",
       "    <tr>\n",
       "      <th>1455</th>\n",
       "      <td>1456</td>\n",
       "      <td>60</td>\n",
       "      <td>RL</td>\n",
       "      <td>62.0</td>\n",
       "      <td>7917</td>\n",
       "      <td>Pave</td>\n",
       "      <td>NA</td>\n",
       "      <td>Reg</td>\n",
       "      <td>Lvl</td>\n",
       "      <td>AllPub</td>\n",
       "      <td>...</td>\n",
       "      <td>0</td>\n",
       "      <td>NA</td>\n",
       "      <td>NA</td>\n",
       "      <td>NA</td>\n",
       "      <td>0</td>\n",
       "      <td>8</td>\n",
       "      <td>2007</td>\n",
       "      <td>WD</td>\n",
       "      <td>Normal</td>\n",
       "      <td>175000</td>\n",
       "    </tr>\n",
       "    <tr>\n",
       "      <th>1456</th>\n",
       "      <td>1457</td>\n",
       "      <td>20</td>\n",
       "      <td>RL</td>\n",
       "      <td>85.0</td>\n",
       "      <td>13175</td>\n",
       "      <td>Pave</td>\n",
       "      <td>NA</td>\n",
       "      <td>Reg</td>\n",
       "      <td>Lvl</td>\n",
       "      <td>AllPub</td>\n",
       "      <td>...</td>\n",
       "      <td>0</td>\n",
       "      <td>NA</td>\n",
       "      <td>MnPrv</td>\n",
       "      <td>NA</td>\n",
       "      <td>0</td>\n",
       "      <td>2</td>\n",
       "      <td>2010</td>\n",
       "      <td>WD</td>\n",
       "      <td>Normal</td>\n",
       "      <td>210000</td>\n",
       "    </tr>\n",
       "    <tr>\n",
       "      <th>1457</th>\n",
       "      <td>1458</td>\n",
       "      <td>70</td>\n",
       "      <td>RL</td>\n",
       "      <td>66.0</td>\n",
       "      <td>9042</td>\n",
       "      <td>Pave</td>\n",
       "      <td>NA</td>\n",
       "      <td>Reg</td>\n",
       "      <td>Lvl</td>\n",
       "      <td>AllPub</td>\n",
       "      <td>...</td>\n",
       "      <td>0</td>\n",
       "      <td>NA</td>\n",
       "      <td>GdPrv</td>\n",
       "      <td>Shed</td>\n",
       "      <td>2500</td>\n",
       "      <td>5</td>\n",
       "      <td>2010</td>\n",
       "      <td>WD</td>\n",
       "      <td>Normal</td>\n",
       "      <td>266500</td>\n",
       "    </tr>\n",
       "    <tr>\n",
       "      <th>1458</th>\n",
       "      <td>1459</td>\n",
       "      <td>20</td>\n",
       "      <td>RL</td>\n",
       "      <td>68.0</td>\n",
       "      <td>9717</td>\n",
       "      <td>Pave</td>\n",
       "      <td>NA</td>\n",
       "      <td>Reg</td>\n",
       "      <td>Lvl</td>\n",
       "      <td>AllPub</td>\n",
       "      <td>...</td>\n",
       "      <td>0</td>\n",
       "      <td>NA</td>\n",
       "      <td>NA</td>\n",
       "      <td>NA</td>\n",
       "      <td>0</td>\n",
       "      <td>4</td>\n",
       "      <td>2010</td>\n",
       "      <td>WD</td>\n",
       "      <td>Normal</td>\n",
       "      <td>142125</td>\n",
       "    </tr>\n",
       "    <tr>\n",
       "      <th>1459</th>\n",
       "      <td>1460</td>\n",
       "      <td>20</td>\n",
       "      <td>RL</td>\n",
       "      <td>75.0</td>\n",
       "      <td>9937</td>\n",
       "      <td>Pave</td>\n",
       "      <td>NA</td>\n",
       "      <td>Reg</td>\n",
       "      <td>Lvl</td>\n",
       "      <td>AllPub</td>\n",
       "      <td>...</td>\n",
       "      <td>0</td>\n",
       "      <td>NA</td>\n",
       "      <td>NA</td>\n",
       "      <td>NA</td>\n",
       "      <td>0</td>\n",
       "      <td>6</td>\n",
       "      <td>2008</td>\n",
       "      <td>WD</td>\n",
       "      <td>Normal</td>\n",
       "      <td>147500</td>\n",
       "    </tr>\n",
       "  </tbody>\n",
       "</table>\n",
       "<p>1390 rows × 81 columns</p>\n",
       "</div>"
      ],
      "text/plain": [
       "        Id  MSSubClass MSZoning  LotFrontage  LotArea Street Alley LotShape  \\\n",
       "0        1          60       RL         65.0     8450   Pave    NA      Reg   \n",
       "1        2          20       RL         80.0     9600   Pave    NA      Reg   \n",
       "2        3          60       RL         68.0    11250   Pave    NA      IR1   \n",
       "3        4          70       RL         60.0     9550   Pave    NA      IR1   \n",
       "4        5          60       RL         84.0    14260   Pave    NA      IR1   \n",
       "...    ...         ...      ...          ...      ...    ...   ...      ...   \n",
       "1455  1456          60       RL         62.0     7917   Pave    NA      Reg   \n",
       "1456  1457          20       RL         85.0    13175   Pave    NA      Reg   \n",
       "1457  1458          70       RL         66.0     9042   Pave    NA      Reg   \n",
       "1458  1459          20       RL         68.0     9717   Pave    NA      Reg   \n",
       "1459  1460          20       RL         75.0     9937   Pave    NA      Reg   \n",
       "\n",
       "     LandContour Utilities  ... PoolArea PoolQC  Fence MiscFeature MiscVal  \\\n",
       "0            Lvl    AllPub  ...        0     NA     NA          NA       0   \n",
       "1            Lvl    AllPub  ...        0     NA     NA          NA       0   \n",
       "2            Lvl    AllPub  ...        0     NA     NA          NA       0   \n",
       "3            Lvl    AllPub  ...        0     NA     NA          NA       0   \n",
       "4            Lvl    AllPub  ...        0     NA     NA          NA       0   \n",
       "...          ...       ...  ...      ...    ...    ...         ...     ...   \n",
       "1455         Lvl    AllPub  ...        0     NA     NA          NA       0   \n",
       "1456         Lvl    AllPub  ...        0     NA  MnPrv          NA       0   \n",
       "1457         Lvl    AllPub  ...        0     NA  GdPrv        Shed    2500   \n",
       "1458         Lvl    AllPub  ...        0     NA     NA          NA       0   \n",
       "1459         Lvl    AllPub  ...        0     NA     NA          NA       0   \n",
       "\n",
       "     MoSold YrSold  SaleType  SaleCondition  SalePrice  \n",
       "0         2   2008        WD         Normal     208500  \n",
       "1         5   2007        WD         Normal     181500  \n",
       "2         9   2008        WD         Normal     223500  \n",
       "3         2   2006        WD        Abnorml     140000  \n",
       "4        12   2008        WD         Normal     250000  \n",
       "...     ...    ...       ...            ...        ...  \n",
       "1455      8   2007        WD         Normal     175000  \n",
       "1456      2   2010        WD         Normal     210000  \n",
       "1457      5   2010        WD         Normal     266500  \n",
       "1458      4   2010        WD         Normal     142125  \n",
       "1459      6   2008        WD         Normal     147500  \n",
       "\n",
       "[1390 rows x 81 columns]"
      ]
     },
     "execution_count": 140,
     "metadata": {},
     "output_type": "execute_result"
    }
   ],
   "source": [
    "houseall"
   ]
  },
  {
   "cell_type": "code",
   "execution_count": 141,
   "metadata": {},
   "outputs": [
    {
     "data": {
      "text/html": [
       "<div>\n",
       "<style scoped>\n",
       "    .dataframe tbody tr th:only-of-type {\n",
       "        vertical-align: middle;\n",
       "    }\n",
       "\n",
       "    .dataframe tbody tr th {\n",
       "        vertical-align: top;\n",
       "    }\n",
       "\n",
       "    .dataframe thead th {\n",
       "        text-align: right;\n",
       "    }\n",
       "</style>\n",
       "<table border=\"1\" class=\"dataframe\">\n",
       "  <thead>\n",
       "    <tr style=\"text-align: right;\">\n",
       "      <th></th>\n",
       "      <th>Id</th>\n",
       "      <th>MSSubClass</th>\n",
       "      <th>MSZoning</th>\n",
       "      <th>LotFrontage</th>\n",
       "      <th>LotArea</th>\n",
       "      <th>Street</th>\n",
       "      <th>Alley</th>\n",
       "      <th>LotShape</th>\n",
       "      <th>LandContour</th>\n",
       "      <th>Utilities</th>\n",
       "      <th>...</th>\n",
       "      <th>PoolArea</th>\n",
       "      <th>PoolQC</th>\n",
       "      <th>Fence</th>\n",
       "      <th>MiscFeature</th>\n",
       "      <th>MiscVal</th>\n",
       "      <th>MoSold</th>\n",
       "      <th>YrSold</th>\n",
       "      <th>SaleType</th>\n",
       "      <th>SaleCondition</th>\n",
       "      <th>SalePrice</th>\n",
       "    </tr>\n",
       "  </thead>\n",
       "  <tbody>\n",
       "    <tr>\n",
       "      <th>0</th>\n",
       "      <td>1</td>\n",
       "      <td>60</td>\n",
       "      <td>RL</td>\n",
       "      <td>65.0</td>\n",
       "      <td>8450</td>\n",
       "      <td>Pave</td>\n",
       "      <td>NA</td>\n",
       "      <td>Reg</td>\n",
       "      <td>Lvl</td>\n",
       "      <td>AllPub</td>\n",
       "      <td>...</td>\n",
       "      <td>0</td>\n",
       "      <td>NA</td>\n",
       "      <td>NA</td>\n",
       "      <td>NA</td>\n",
       "      <td>0</td>\n",
       "      <td>2</td>\n",
       "      <td>2008</td>\n",
       "      <td>WD</td>\n",
       "      <td>Normal</td>\n",
       "      <td>208500</td>\n",
       "    </tr>\n",
       "    <tr>\n",
       "      <th>1</th>\n",
       "      <td>2</td>\n",
       "      <td>20</td>\n",
       "      <td>RL</td>\n",
       "      <td>80.0</td>\n",
       "      <td>9600</td>\n",
       "      <td>Pave</td>\n",
       "      <td>NA</td>\n",
       "      <td>Reg</td>\n",
       "      <td>Lvl</td>\n",
       "      <td>AllPub</td>\n",
       "      <td>...</td>\n",
       "      <td>0</td>\n",
       "      <td>NA</td>\n",
       "      <td>NA</td>\n",
       "      <td>NA</td>\n",
       "      <td>0</td>\n",
       "      <td>5</td>\n",
       "      <td>2007</td>\n",
       "      <td>WD</td>\n",
       "      <td>Normal</td>\n",
       "      <td>181500</td>\n",
       "    </tr>\n",
       "    <tr>\n",
       "      <th>2</th>\n",
       "      <td>3</td>\n",
       "      <td>60</td>\n",
       "      <td>RL</td>\n",
       "      <td>68.0</td>\n",
       "      <td>11250</td>\n",
       "      <td>Pave</td>\n",
       "      <td>NA</td>\n",
       "      <td>IR1</td>\n",
       "      <td>Lvl</td>\n",
       "      <td>AllPub</td>\n",
       "      <td>...</td>\n",
       "      <td>0</td>\n",
       "      <td>NA</td>\n",
       "      <td>NA</td>\n",
       "      <td>NA</td>\n",
       "      <td>0</td>\n",
       "      <td>9</td>\n",
       "      <td>2008</td>\n",
       "      <td>WD</td>\n",
       "      <td>Normal</td>\n",
       "      <td>223500</td>\n",
       "    </tr>\n",
       "    <tr>\n",
       "      <th>3</th>\n",
       "      <td>4</td>\n",
       "      <td>70</td>\n",
       "      <td>RL</td>\n",
       "      <td>60.0</td>\n",
       "      <td>9550</td>\n",
       "      <td>Pave</td>\n",
       "      <td>NA</td>\n",
       "      <td>IR1</td>\n",
       "      <td>Lvl</td>\n",
       "      <td>AllPub</td>\n",
       "      <td>...</td>\n",
       "      <td>0</td>\n",
       "      <td>NA</td>\n",
       "      <td>NA</td>\n",
       "      <td>NA</td>\n",
       "      <td>0</td>\n",
       "      <td>2</td>\n",
       "      <td>2006</td>\n",
       "      <td>WD</td>\n",
       "      <td>Abnorml</td>\n",
       "      <td>140000</td>\n",
       "    </tr>\n",
       "    <tr>\n",
       "      <th>4</th>\n",
       "      <td>5</td>\n",
       "      <td>60</td>\n",
       "      <td>RL</td>\n",
       "      <td>84.0</td>\n",
       "      <td>14260</td>\n",
       "      <td>Pave</td>\n",
       "      <td>NA</td>\n",
       "      <td>IR1</td>\n",
       "      <td>Lvl</td>\n",
       "      <td>AllPub</td>\n",
       "      <td>...</td>\n",
       "      <td>0</td>\n",
       "      <td>NA</td>\n",
       "      <td>NA</td>\n",
       "      <td>NA</td>\n",
       "      <td>0</td>\n",
       "      <td>12</td>\n",
       "      <td>2008</td>\n",
       "      <td>WD</td>\n",
       "      <td>Normal</td>\n",
       "      <td>250000</td>\n",
       "    </tr>\n",
       "    <tr>\n",
       "      <th>...</th>\n",
       "      <td>...</td>\n",
       "      <td>...</td>\n",
       "      <td>...</td>\n",
       "      <td>...</td>\n",
       "      <td>...</td>\n",
       "      <td>...</td>\n",
       "      <td>...</td>\n",
       "      <td>...</td>\n",
       "      <td>...</td>\n",
       "      <td>...</td>\n",
       "      <td>...</td>\n",
       "      <td>...</td>\n",
       "      <td>...</td>\n",
       "      <td>...</td>\n",
       "      <td>...</td>\n",
       "      <td>...</td>\n",
       "      <td>...</td>\n",
       "      <td>...</td>\n",
       "      <td>...</td>\n",
       "      <td>...</td>\n",
       "      <td>...</td>\n",
       "    </tr>\n",
       "    <tr>\n",
       "      <th>1455</th>\n",
       "      <td>1456</td>\n",
       "      <td>60</td>\n",
       "      <td>RL</td>\n",
       "      <td>62.0</td>\n",
       "      <td>7917</td>\n",
       "      <td>Pave</td>\n",
       "      <td>NA</td>\n",
       "      <td>Reg</td>\n",
       "      <td>Lvl</td>\n",
       "      <td>AllPub</td>\n",
       "      <td>...</td>\n",
       "      <td>0</td>\n",
       "      <td>NA</td>\n",
       "      <td>NA</td>\n",
       "      <td>NA</td>\n",
       "      <td>0</td>\n",
       "      <td>8</td>\n",
       "      <td>2007</td>\n",
       "      <td>WD</td>\n",
       "      <td>Normal</td>\n",
       "      <td>175000</td>\n",
       "    </tr>\n",
       "    <tr>\n",
       "      <th>1456</th>\n",
       "      <td>1457</td>\n",
       "      <td>20</td>\n",
       "      <td>RL</td>\n",
       "      <td>85.0</td>\n",
       "      <td>13175</td>\n",
       "      <td>Pave</td>\n",
       "      <td>NA</td>\n",
       "      <td>Reg</td>\n",
       "      <td>Lvl</td>\n",
       "      <td>AllPub</td>\n",
       "      <td>...</td>\n",
       "      <td>0</td>\n",
       "      <td>NA</td>\n",
       "      <td>MnPrv</td>\n",
       "      <td>NA</td>\n",
       "      <td>0</td>\n",
       "      <td>2</td>\n",
       "      <td>2010</td>\n",
       "      <td>WD</td>\n",
       "      <td>Normal</td>\n",
       "      <td>210000</td>\n",
       "    </tr>\n",
       "    <tr>\n",
       "      <th>1457</th>\n",
       "      <td>1458</td>\n",
       "      <td>70</td>\n",
       "      <td>RL</td>\n",
       "      <td>66.0</td>\n",
       "      <td>9042</td>\n",
       "      <td>Pave</td>\n",
       "      <td>NA</td>\n",
       "      <td>Reg</td>\n",
       "      <td>Lvl</td>\n",
       "      <td>AllPub</td>\n",
       "      <td>...</td>\n",
       "      <td>0</td>\n",
       "      <td>NA</td>\n",
       "      <td>GdPrv</td>\n",
       "      <td>Shed</td>\n",
       "      <td>2500</td>\n",
       "      <td>5</td>\n",
       "      <td>2010</td>\n",
       "      <td>WD</td>\n",
       "      <td>Normal</td>\n",
       "      <td>266500</td>\n",
       "    </tr>\n",
       "    <tr>\n",
       "      <th>1458</th>\n",
       "      <td>1459</td>\n",
       "      <td>20</td>\n",
       "      <td>RL</td>\n",
       "      <td>68.0</td>\n",
       "      <td>9717</td>\n",
       "      <td>Pave</td>\n",
       "      <td>NA</td>\n",
       "      <td>Reg</td>\n",
       "      <td>Lvl</td>\n",
       "      <td>AllPub</td>\n",
       "      <td>...</td>\n",
       "      <td>0</td>\n",
       "      <td>NA</td>\n",
       "      <td>NA</td>\n",
       "      <td>NA</td>\n",
       "      <td>0</td>\n",
       "      <td>4</td>\n",
       "      <td>2010</td>\n",
       "      <td>WD</td>\n",
       "      <td>Normal</td>\n",
       "      <td>142125</td>\n",
       "    </tr>\n",
       "    <tr>\n",
       "      <th>1459</th>\n",
       "      <td>1460</td>\n",
       "      <td>20</td>\n",
       "      <td>RL</td>\n",
       "      <td>75.0</td>\n",
       "      <td>9937</td>\n",
       "      <td>Pave</td>\n",
       "      <td>NA</td>\n",
       "      <td>Reg</td>\n",
       "      <td>Lvl</td>\n",
       "      <td>AllPub</td>\n",
       "      <td>...</td>\n",
       "      <td>0</td>\n",
       "      <td>NA</td>\n",
       "      <td>NA</td>\n",
       "      <td>NA</td>\n",
       "      <td>0</td>\n",
       "      <td>6</td>\n",
       "      <td>2008</td>\n",
       "      <td>WD</td>\n",
       "      <td>Normal</td>\n",
       "      <td>147500</td>\n",
       "    </tr>\n",
       "  </tbody>\n",
       "</table>\n",
       "<p>1390 rows × 81 columns</p>\n",
       "</div>"
      ],
      "text/plain": [
       "        Id  MSSubClass MSZoning  LotFrontage  LotArea Street Alley LotShape  \\\n",
       "0        1          60       RL         65.0     8450   Pave    NA      Reg   \n",
       "1        2          20       RL         80.0     9600   Pave    NA      Reg   \n",
       "2        3          60       RL         68.0    11250   Pave    NA      IR1   \n",
       "3        4          70       RL         60.0     9550   Pave    NA      IR1   \n",
       "4        5          60       RL         84.0    14260   Pave    NA      IR1   \n",
       "...    ...         ...      ...          ...      ...    ...   ...      ...   \n",
       "1455  1456          60       RL         62.0     7917   Pave    NA      Reg   \n",
       "1456  1457          20       RL         85.0    13175   Pave    NA      Reg   \n",
       "1457  1458          70       RL         66.0     9042   Pave    NA      Reg   \n",
       "1458  1459          20       RL         68.0     9717   Pave    NA      Reg   \n",
       "1459  1460          20       RL         75.0     9937   Pave    NA      Reg   \n",
       "\n",
       "     LandContour Utilities  ... PoolArea PoolQC  Fence MiscFeature MiscVal  \\\n",
       "0            Lvl    AllPub  ...        0     NA     NA          NA       0   \n",
       "1            Lvl    AllPub  ...        0     NA     NA          NA       0   \n",
       "2            Lvl    AllPub  ...        0     NA     NA          NA       0   \n",
       "3            Lvl    AllPub  ...        0     NA     NA          NA       0   \n",
       "4            Lvl    AllPub  ...        0     NA     NA          NA       0   \n",
       "...          ...       ...  ...      ...    ...    ...         ...     ...   \n",
       "1455         Lvl    AllPub  ...        0     NA     NA          NA       0   \n",
       "1456         Lvl    AllPub  ...        0     NA  MnPrv          NA       0   \n",
       "1457         Lvl    AllPub  ...        0     NA  GdPrv        Shed    2500   \n",
       "1458         Lvl    AllPub  ...        0     NA     NA          NA       0   \n",
       "1459         Lvl    AllPub  ...        0     NA     NA          NA       0   \n",
       "\n",
       "     MoSold YrSold  SaleType  SaleCondition  SalePrice  \n",
       "0         2   2008        WD         Normal     208500  \n",
       "1         5   2007        WD         Normal     181500  \n",
       "2         9   2008        WD         Normal     223500  \n",
       "3         2   2006        WD        Abnorml     140000  \n",
       "4        12   2008        WD         Normal     250000  \n",
       "...     ...    ...       ...            ...        ...  \n",
       "1455      8   2007        WD         Normal     175000  \n",
       "1456      2   2010        WD         Normal     210000  \n",
       "1457      5   2010        WD         Normal     266500  \n",
       "1458      4   2010        WD         Normal     142125  \n",
       "1459      6   2008        WD         Normal     147500  \n",
       "\n",
       "[1390 rows x 81 columns]"
      ]
     },
     "execution_count": 141,
     "metadata": {},
     "output_type": "execute_result"
    }
   ],
   "source": [
    "houseall"
   ]
  },
  {
   "cell_type": "code",
   "execution_count": 142,
   "metadata": {},
   "outputs": [],
   "source": [
    "houseall2 = houseall.copy()"
   ]
  },
  {
   "cell_type": "code",
   "execution_count": 143,
   "metadata": {},
   "outputs": [],
   "source": [
    "#lets make a renovateable exclusive dataset"
   ]
  },
  {
   "cell_type": "code",
   "execution_count": 144,
   "metadata": {},
   "outputs": [],
   "source": [
    "renovate = houseall2.drop([\"LotFrontage\",\"MasVnrArea\",'MoSold','SaleType', 'SaleCondition','BsmtUnfSF', 'TotalBsmtSF','YearRemodAdd',\"LotArea\",\"GarageArea\", \"PoolArea\",\"GarageYrBlt\",\"YearBuilt\",\"Fireplaces\",\"GrLivArea\",\"1stFlrSF\",\"2ndFlrSF\",\"LowQualFinSF\",\"Street\",\"LotShape\",\"LandContour\",\"LotConfig\",\"Neighborhood\",\"Condition1\",\"Condition2\",\"BldgType\",\"HouseStyle\",\n",
    "          \"RoofStyle\",\"Exterior1st\",\"Exterior2nd\",\"MasVnrType\",\"Foundation\",\"BsmtExposure\",\"BsmtFinType2\",\n",
    "          \"KitchenQual\",\"GarageType\",\"PavedDrive\",\"MSSubClass\",\"BsmtFinSF2\"\n",
    ",\"BsmtFullBath\",\"BsmtHalfBath\",\"FullBath\",\"HalfBath\",\"BedroomAbvGr\",\"KitchenAbvGr\",\"TotRmsAbvGrd\",\"GarageCars\"\n",
    "  ,\"WoodDeckSF\",\"OpenPorchSF\",\"EnclosedPorch\",\"3SsnPorch\",\"ScreenPorch\",\"MiscVal\",\"Id\"], axis = 1 )"
   ]
  },
  {
   "cell_type": "code",
   "execution_count": 145,
   "metadata": {},
   "outputs": [
    {
     "data": {
      "text/plain": [
       "Index(['MSZoning', 'Alley', 'Utilities', 'LandSlope', 'OverallQual',\n",
       "       'OverallCond', 'RoofMatl', 'ExterQual', 'ExterCond', 'BsmtQual',\n",
       "       'BsmtCond', 'BsmtFinType1', 'BsmtFinSF1', 'Heating', 'HeatingQC',\n",
       "       'CentralAir', 'Electrical', 'Functional', 'FireplaceQu', 'GarageFinish',\n",
       "       'GarageQual', 'GarageCond', 'PoolQC', 'Fence', 'MiscFeature', 'YrSold',\n",
       "       'SalePrice'],\n",
       "      dtype='object')"
      ]
     },
     "execution_count": 145,
     "metadata": {},
     "output_type": "execute_result"
    }
   ],
   "source": [
    "renovate.columns "
   ]
  },
  {
   "cell_type": "code",
   "execution_count": 146,
   "metadata": {},
   "outputs": [
    {
     "data": {
      "text/plain": [
       "(1390, 27)"
      ]
     },
     "execution_count": 146,
     "metadata": {},
     "output_type": "execute_result"
    }
   ],
   "source": [
    "renovate.shape\n"
   ]
  },
  {
   "cell_type": "code",
   "execution_count": 147,
   "metadata": {},
   "outputs": [],
   "source": [
    "rentrain = renovate.loc[renovate.YrSold < 2010]\n",
    "rentest = renovate.loc[renovate.YrSold >= 2010]"
   ]
  },
  {
   "cell_type": "code",
   "execution_count": 148,
   "metadata": {},
   "outputs": [],
   "source": [
    "#now to make dummies \n"
   ]
  },
  {
   "cell_type": "code",
   "execution_count": 149,
   "metadata": {},
   "outputs": [
    {
     "data": {
      "text/plain": [
       "Index(['MSZoning', 'Alley', 'Utilities', 'LandSlope', 'OverallQual',\n",
       "       'OverallCond', 'RoofMatl', 'ExterQual', 'ExterCond', 'BsmtQual',\n",
       "       'BsmtCond', 'BsmtFinType1', 'BsmtFinSF1', 'Heating', 'HeatingQC',\n",
       "       'CentralAir', 'Electrical', 'Functional', 'FireplaceQu', 'GarageFinish',\n",
       "       'GarageQual', 'GarageCond', 'PoolQC', 'Fence', 'MiscFeature', 'YrSold',\n",
       "       'SalePrice'],\n",
       "      dtype='object')"
      ]
     },
     "execution_count": 149,
     "metadata": {},
     "output_type": "execute_result"
    }
   ],
   "source": [
    "rentrain.columns"
   ]
  },
  {
   "cell_type": "code",
   "execution_count": 150,
   "metadata": {},
   "outputs": [],
   "source": [
    "To_rendummytrain = rentrain[[\"SalePrice\",'Utilities', \n",
    "       'OverallQual', 'OverallCond', \n",
    "       'ExterQual', 'ExterCond', 'BsmtQual', 'BsmtCond', 'BsmtFinType1',\n",
    "         'HeatingQC',\n",
    "       'Electrical', 'Functional', 'FireplaceQu', 'GarageFinish',\n",
    "       'GarageQual', 'GarageCond', 'PoolQC', 'Fence', ]]\n",
    "\n",
    "To_rendummytest = rentest[[\"SalePrice\",'Utilities', \n",
    "       'OverallQual', 'OverallCond', \n",
    "       'ExterQual', 'ExterCond', 'BsmtQual', 'BsmtCond', 'BsmtFinType1',\n",
    "        'HeatingQC',\n",
    "       'Electrical', 'Functional', 'FireplaceQu', 'GarageFinish',\n",
    "       'GarageQual', 'GarageCond', 'PoolQC', 'Fence', ]]\n"
   ]
  },
  {
   "cell_type": "code",
   "execution_count": 151,
   "metadata": {},
   "outputs": [],
   "source": [
    "X_trainr2 = pd.get_dummies(data = To_rendummytrain, drop_first = True)\n",
    "X_testr2 = pd.get_dummies(data = To_rendummytest,drop_first = True)"
   ]
  },
  {
   "cell_type": "code",
   "execution_count": 152,
   "metadata": {},
   "outputs": [],
   "source": [
    "#Drop saleprice again !\n",
    "X_trainr = X_trainr2.drop([\"SalePrice\"], axis = 1)\n",
    "X_testr = X_testr2.drop([\"SalePrice\"], axis = 1)"
   ]
  },
  {
   "cell_type": "code",
   "execution_count": 153,
   "metadata": {},
   "outputs": [],
   "source": [
    "#make sure same features \n",
    "X_trainr, X_testr = X_trainr.align(X_testr, fill_value=0, axis=1)"
   ]
  },
  {
   "cell_type": "code",
   "execution_count": 154,
   "metadata": {},
   "outputs": [],
   "source": [
    "#scaling time \n",
    "ss = StandardScaler().fit(X_trainr)\n",
    "\n",
    "X_trainrss = ss.transform(X_trainr)\n",
    "X_testrss = ss.transform(X_testr)"
   ]
  },
  {
   "cell_type": "code",
   "execution_count": 155,
   "metadata": {},
   "outputs": [
    {
     "data": {
      "text/plain": [
       "array([[-0.22100495, -0.16384638, -0.04045567, ..., -0.04956816,\n",
       "         0.07584094, -0.02859478],\n",
       "       [-0.22100495, -0.16384638, -0.04045567, ..., -0.04956816,\n",
       "         0.07584094, -0.02859478],\n",
       "       [-0.22100495, -0.16384638, -0.04045567, ..., -0.04956816,\n",
       "         0.07584094, -0.02859478],\n",
       "       ...,\n",
       "       [-0.22100495, -0.16384638, -0.04045567, ..., -0.04956816,\n",
       "         0.07584094, -0.02859478],\n",
       "       [-0.22100495, -0.16384638, -0.04045567, ..., -0.04956816,\n",
       "         0.07584094, -0.02859478],\n",
       "       [-0.22100495, -0.16384638, -0.04045567, ..., -0.04956816,\n",
       "         0.07584094, -0.02859478]])"
      ]
     },
     "execution_count": 155,
     "metadata": {},
     "output_type": "execute_result"
    }
   ],
   "source": [
    "X_trainrss"
   ]
  },
  {
   "cell_type": "code",
   "execution_count": 156,
   "metadata": {},
   "outputs": [
    {
     "data": {
      "text/plain": [
       "(1224, 57)"
      ]
     },
     "execution_count": 156,
     "metadata": {},
     "output_type": "execute_result"
    }
   ],
   "source": [
    "X_trainr.shape"
   ]
  },
  {
   "cell_type": "code",
   "execution_count": 157,
   "metadata": {},
   "outputs": [],
   "source": [
    "y_trainr = residualstrain\n",
    "y_testr = residualstest "
   ]
  },
  {
   "cell_type": "code",
   "execution_count": 158,
   "metadata": {},
   "outputs": [
    {
     "name": "stdout",
     "output_type": "stream",
     "text": [
      "(1224, 57) (1224,)\n",
      "(166, 57) (166,)\n"
     ]
    }
   ],
   "source": [
    "print(X_trainrss.shape, y_trainr.shape)\n",
    "print(X_testrss.shape, y_testr.shape)"
   ]
  },
  {
   "cell_type": "code",
   "execution_count": 159,
   "metadata": {},
   "outputs": [],
   "source": [
    "#Lets try some models "
   ]
  },
  {
   "cell_type": "code",
   "execution_count": 160,
   "metadata": {},
   "outputs": [
    {
     "name": "stdout",
     "output_type": "stream",
     "text": [
      "410.26581058271944\n"
     ]
    }
   ],
   "source": [
    "ridge_alphasr = np.logspace(0, 5, 200)\n",
    "\n",
    "optimal_ridger = RidgeCV(alphas=ridge_alphasr, cv=10)\n",
    "optimal_ridger.fit(X_trainrss, y_trainr)\n",
    "\n",
    "print(optimal_ridger.alpha_)"
   ]
  },
  {
   "cell_type": "code",
   "execution_count": 161,
   "metadata": {},
   "outputs": [
    {
     "name": "stdout",
     "output_type": "stream",
     "text": [
      "[ 0.25278215  0.31683932  0.3731882   0.11320114  0.24358595  0.3020698\n",
      "  0.16904647  0.24232817  0.04051338 -0.15808599]\n",
      "0.18954685851098493\n"
     ]
    }
   ],
   "source": [
    "\n",
    "ridger = Ridge(alpha=488.02515)\n",
    "\n",
    "ridge_scoresr = cross_val_score(ridge, X_trainrss, y_trainr, cv=10)\n",
    "\n",
    "print(ridge_scoresr)\n",
    "print(np.mean(ridge_scoresr))"
   ]
  },
  {
   "cell_type": "code",
   "execution_count": 162,
   "metadata": {},
   "outputs": [
    {
     "name": "stdout",
     "output_type": "stream",
     "text": [
      "410.26581058271944\n",
      "[ 0.25278215  0.31683932  0.3731882   0.11320114  0.24358595  0.3020698\n",
      "  0.16904647  0.24232817  0.04051338 -0.15808599]\n",
      "0.18954685851098493\n"
     ]
    }
   ],
   "source": [
    "ridge_alphasr = np.logspace(0, 5, 200)\n",
    "\n",
    "optimal_ridger = RidgeCV(alphas=ridge_alphasr, cv=10)\n",
    "optimal_ridger.fit(X_trainrss, y_trainr)\n",
    "\n",
    "print(optimal_ridger.alpha_)\n",
    "\n",
    "ridger = Ridge(alpha=488.02515)\n",
    "\n",
    "ridge_scoresr = cross_val_score(ridge, X_trainrss, y_trainr, cv=10)\n",
    "\n",
    "print(ridge_scoresr)\n",
    "print(np.mean(ridge_scoresr))"
   ]
  },
  {
   "cell_type": "code",
   "execution_count": 163,
   "metadata": {},
   "outputs": [],
   "source": [
    "#DO this for lasso and ridge"
   ]
  },
  {
   "cell_type": "code",
   "execution_count": 164,
   "metadata": {},
   "outputs": [
    {
     "name": "stdout",
     "output_type": "stream",
     "text": [
      "410.26581058271944\n",
      "[ 0.25278215  0.31683932  0.3731882   0.11320114  0.24358595  0.3020698\n",
      "  0.16904647  0.24232817  0.04051338 -0.15808599]\n",
      "0.18954685851098493\n"
     ]
    }
   ],
   "source": [
    "ridge_alphasr = np.logspace(0, 5, 200)\n",
    "\n",
    "optimal_ridger = RidgeCV(alphas=ridge_alphasr, cv=10)\n",
    "optimal_ridger.fit(X_trainrss, y_trainr)\n",
    "\n",
    "print(optimal_ridger.alpha_)\n",
    "\n",
    "ridger = Ridge(alpha=488.02515)\n",
    "\n",
    "ridge_scoresr = cross_val_score(ridge, X_trainrss, y_trainr, cv=10)\n",
    "\n",
    "print(ridge_scoresr)\n",
    "print(np.mean(ridge_scoresr))"
   ]
  },
  {
   "cell_type": "code",
   "execution_count": 167,
   "metadata": {},
   "outputs": [
    {
     "name": "stdout",
     "output_type": "stream",
     "text": [
      "410.26581058271944\n"
     ]
    }
   ],
   "source": [
    "print(optimal_ridger.alpha_)"
   ]
  },
  {
   "cell_type": "code",
   "execution_count": 168,
   "metadata": {},
   "outputs": [
    {
     "name": "stderr",
     "output_type": "stream",
     "text": [
      "[Parallel(n_jobs=1)]: Using backend SequentialBackend with 1 concurrent workers.\n",
      "....................................................................................................................................................................................................................................................................................................................................................................................................................................................................................................................................................................................................................................................................................................................................................................................................................................................................................................................................................................................................................................................................................................................................................................................................................................................................................................................................................................................................................................................................................................................................................................................................................................................................................................................................................................................................................................................................................................................................................................................................................................................................................................................................................................................................................................................................................................................................................................................................................................................................................................................................................................................................................................................................................................................................................................................................................................................................................................................................................................................................................................................................................................................................................................................................................................................................................................................................................................................................................................................................................................................................................................................................................................................................................................................................................................................................................................................................................................................................................................................................................................................................................................................................................................................................................................................................................................................................................................................................................................................................................................................................................................................................................................................................................................................................................................................................................................................................................................................................................................................................................................."
     ]
    },
    {
     "name": "stdout",
     "output_type": "stream",
     "text": [
      "112.79259028682182\n"
     ]
    },
    {
     "name": "stderr",
     "output_type": "stream",
     "text": [
      "...................................................................................................................................................................[Parallel(n_jobs=1)]: Done  10 out of  10 | elapsed:    0.9s finished\n"
     ]
    }
   ],
   "source": [
    "optimal_lasso = LassoCV(n_alphas=500, cv=10, verbose=1)\n",
    "optimal_lasso.fit(X_testrss, y_testr)\n",
    "\n",
    "print(optimal_lasso.alpha_)\n"
   ]
  },
  {
   "cell_type": "code",
   "execution_count": 172,
   "metadata": {},
   "outputs": [
    {
     "name": "stdout",
     "output_type": "stream",
     "text": [
      "The train predicted mean = 0.18966813260831505\n",
      "The RSME for training  is; 36279.5822639618\n",
      "The R^square for training is: 0.12143856404047604\n",
      "The test predicted mean = 0.020909631803202287\n",
      "The RSME for our test dataset is; 28654.766505326035\n",
      "The R^square for our test dataset is: 0.2088580013189133\n"
     ]
    }
   ],
   "source": [
    "rres = Ridge(alpha=optimal_ridger.alpha_)\n",
    "ridger = Ridge(alpha=410.26581058271944)\n",
    "\n",
    "rres.fit(X_trainrss, y_trainr)\n",
    "rres.fit(X_testrss, y_testr)\n",
    "\n",
    "ridger_trainscores = cross_val_score(ridger, X_trainrss, y_trainr, cv=10)\n",
    "\n",
    "ridger_testscores = cross_val_score(ridger, X_testrss, y_testr, cv=10)\n",
    "\n",
    "ridge_pred_train_rres= rres.predict(X_trainrss)\n",
    "print(\"The train predicted mean =\", np.mean(ridger_trainscores))\n",
    "print(\"The RSME for training  is;\", np.sqrt(mean_squared_error(y_trainr,ridge_pred_train_rres)))\n",
    "print(\"The R^square for training is:\", r2_score(y_trainr, ridge_pred_train_rres))\n",
    "\n",
    "ridge_pred_test_rres= rres.predict(X_testrss)\n",
    "print(\"The test predicted mean =\", np.mean(ridger_testscores))\n",
    "print(\"The RSME for our test dataset is;\", np.sqrt(mean_squared_error(y_testr,ridge_pred_test_rres))) \n",
    "print(\"The R^square for our test dataset is:\", r2_score(y_testr, ridge_pred_test_rres))"
   ]
  },
  {
   "cell_type": "code",
   "execution_count": 168,
   "metadata": {},
   "outputs": [],
   "source": [
    "#Not great results, but Lets try with lasso "
   ]
  },
  {
   "cell_type": "code",
   "execution_count": 173,
   "metadata": {},
   "outputs": [
    {
     "name": "stdout",
     "output_type": "stream",
     "text": [
      "The train predicted mean = 0.0862311030728858\n",
      "The RSME for training  is; 36312.55486870967\n",
      "The R^square for training is: 0.11984088175635543\n",
      "The test predicted mean = 0.17572824864692013\n",
      "The RSME for our test dataset is; 19003.13404539512\n",
      "The R^square for our test dataset is: 0.6520545546517912\n"
     ]
    }
   ],
   "source": [
    "lasso = Lasso(alpha=optimal_lasso.alpha_)\n",
    "lasso.fit(X_trainrss, y_trainr)\n",
    "lasso.fit(X_testrss, y_testr)\n",
    "\n",
    "lasso_trainscores = cross_val_score(lasso, X_trainrss, y_trainr, cv=10)\n",
    "\n",
    "lasso_testscores = cross_val_score(lasso, X_testrss, y_testr, cv=10)\n",
    "\n",
    "lasso_pred_train_rres= lasso.predict(X_trainrss)\n",
    "print(\"The train predicted mean =\", np.mean(lasso_trainscores))\n",
    "print(\"The RSME for training  is;\", np.sqrt(mean_squared_error(y_trainr,lasso_pred_train_rres)))\n",
    "print(\"The R^square for training is:\", r2_score(y_trainr, lasso_pred_train_rres))\n",
    "\n",
    "\n",
    "\n",
    "\n",
    "\n",
    "lasso_pred_test_rres= lasso.predict(X_testrss)\n",
    "print(\"The test predicted mean =\", np.mean(lasso_testscores))\n",
    "print(\"The RSME for our test dataset is;\", np.sqrt(mean_squared_error(y_testr,lasso_pred_test_rres))) \n",
    "print(\"The R^square for our test dataset is:\", r2_score(y_testr, lasso_pred_test_rres))"
   ]
  },
  {
   "cell_type": "code",
   "execution_count": 170,
   "metadata": {},
   "outputs": [],
   "source": [
    "#Test doesnt'y perform very well - with the mean differning greatly for test and train whilst the r^2 for lasso\n",
    "#looking odd as well! - due to the size of the disparity of the r^2, will use ridge"
   ]
  },
  {
   "cell_type": "code",
   "execution_count": null,
   "metadata": {},
   "outputs": [],
   "source": [
    "#lets try with lasso"
   ]
  },
  {
   "cell_type": "code",
   "execution_count": 174,
   "metadata": {},
   "outputs": [],
   "source": [
    "LRRTESTR = lasso.fit(X_testrss, y_testr)\n",
    "LRRTRAINR = lasso.fit(X_trainrss, y_trainr)\n",
    "\n",
    "columnsr = X_trainr.columns \n",
    "\n",
    "columnsr = pd.DataFrame(columnsr)\n",
    "\n",
    "coeffsr = pd.DataFrame(LRRTESTR.coef_)\n",
    "\n",
    "coefficientsr = pd.concat([columnsr, coeffsr], axis = 1 )\n",
    "\n",
    "coefficientsr = pd.DataFrame.transpose(coefficientsr)\n",
    "\n",
    "coefficientsr.columns = coefficientsr.iloc[0]\n",
    "\n",
    "coefficientsr = coefficientsr.iloc[1:, :]"
   ]
  },
  {
   "cell_type": "code",
   "execution_count": 175,
   "metadata": {},
   "outputs": [
    {
     "data": {
      "text/html": [
       "<div>\n",
       "<style scoped>\n",
       "    .dataframe tbody tr th:only-of-type {\n",
       "        vertical-align: middle;\n",
       "    }\n",
       "\n",
       "    .dataframe tbody tr th {\n",
       "        vertical-align: top;\n",
       "    }\n",
       "\n",
       "    .dataframe thead th {\n",
       "        text-align: right;\n",
       "    }\n",
       "</style>\n",
       "<table border=\"1\" class=\"dataframe\">\n",
       "  <thead>\n",
       "    <tr style=\"text-align: right;\">\n",
       "      <th></th>\n",
       "      <th>BsmtCond_Gd</th>\n",
       "      <th>BsmtCond_NA</th>\n",
       "      <th>BsmtCond_Po</th>\n",
       "      <th>BsmtCond_TA</th>\n",
       "      <th>BsmtFinType1_Gd</th>\n",
       "      <th>BsmtFinType1_NA</th>\n",
       "      <th>BsmtFinType1_Po</th>\n",
       "      <th>BsmtFinType1_TA</th>\n",
       "      <th>BsmtQual_Fa</th>\n",
       "      <th>BsmtQual_Gd</th>\n",
       "      <th>...</th>\n",
       "      <th>HeatingQC_Fa</th>\n",
       "      <th>HeatingQC_Gd</th>\n",
       "      <th>HeatingQC_Po</th>\n",
       "      <th>HeatingQC_TA</th>\n",
       "      <th>OverallCond</th>\n",
       "      <th>OverallQual</th>\n",
       "      <th>PoolQC_Fa</th>\n",
       "      <th>PoolQC_Gd</th>\n",
       "      <th>PoolQC_NA</th>\n",
       "      <th>Utilities_NoSeWa</th>\n",
       "    </tr>\n",
       "  </thead>\n",
       "  <tbody>\n",
       "    <tr>\n",
       "      <th>0</th>\n",
       "      <td>32.208119</td>\n",
       "      <td>0.0</td>\n",
       "      <td>825.69818</td>\n",
       "      <td>620.607504</td>\n",
       "      <td>6.908252</td>\n",
       "      <td>26.961002</td>\n",
       "      <td>4.293719</td>\n",
       "      <td>17.522286</td>\n",
       "      <td>-3286.413962</td>\n",
       "      <td>-11258.870334</td>\n",
       "      <td>...</td>\n",
       "      <td>-283.038609</td>\n",
       "      <td>-646.393105</td>\n",
       "      <td>116.448004</td>\n",
       "      <td>525.39916</td>\n",
       "      <td>8461.449961</td>\n",
       "      <td>14207.259685</td>\n",
       "      <td>-6208.296176</td>\n",
       "      <td>-14095.46443</td>\n",
       "      <td>-12082.282899</td>\n",
       "      <td>-668.852855</td>\n",
       "    </tr>\n",
       "  </tbody>\n",
       "</table>\n",
       "<p>1 rows × 57 columns</p>\n",
       "</div>"
      ],
      "text/plain": [
       "0 BsmtCond_Gd BsmtCond_NA BsmtCond_Po BsmtCond_TA BsmtFinType1_Gd  \\\n",
       "0   32.208119         0.0   825.69818  620.607504        6.908252   \n",
       "\n",
       "0 BsmtFinType1_NA BsmtFinType1_Po BsmtFinType1_TA  BsmtQual_Fa   BsmtQual_Gd  \\\n",
       "0       26.961002        4.293719       17.522286 -3286.413962 -11258.870334   \n",
       "\n",
       "0  ... HeatingQC_Fa HeatingQC_Gd HeatingQC_Po HeatingQC_TA  OverallCond  \\\n",
       "0  ...  -283.038609  -646.393105   116.448004    525.39916  8461.449961   \n",
       "\n",
       "0   OverallQual    PoolQC_Fa    PoolQC_Gd     PoolQC_NA Utilities_NoSeWa  \n",
       "0  14207.259685 -6208.296176 -14095.46443 -12082.282899      -668.852855  \n",
       "\n",
       "[1 rows x 57 columns]"
      ]
     },
     "execution_count": 175,
     "metadata": {},
     "output_type": "execute_result"
    }
   ],
   "source": [
    "coefficientsr"
   ]
  },
  {
   "cell_type": "code",
   "execution_count": 176,
   "metadata": {},
   "outputs": [
    {
     "data": {
      "text/html": [
       "<div>\n",
       "<style scoped>\n",
       "    .dataframe tbody tr th:only-of-type {\n",
       "        vertical-align: middle;\n",
       "    }\n",
       "\n",
       "    .dataframe tbody tr th {\n",
       "        vertical-align: top;\n",
       "    }\n",
       "\n",
       "    .dataframe thead th {\n",
       "        text-align: right;\n",
       "    }\n",
       "</style>\n",
       "<table border=\"1\" class=\"dataframe\">\n",
       "  <thead>\n",
       "    <tr style=\"text-align: right;\">\n",
       "      <th></th>\n",
       "      <th>Ridge_Coeff</th>\n",
       "    </tr>\n",
       "    <tr>\n",
       "      <th>0</th>\n",
       "      <th></th>\n",
       "    </tr>\n",
       "  </thead>\n",
       "  <tbody>\n",
       "    <tr>\n",
       "      <th>OverallQual</th>\n",
       "      <td>14207.259685</td>\n",
       "    </tr>\n",
       "    <tr>\n",
       "      <th>PoolQC_Gd</th>\n",
       "      <td>14095.46443</td>\n",
       "    </tr>\n",
       "    <tr>\n",
       "      <th>PoolQC_NA</th>\n",
       "      <td>12082.282899</td>\n",
       "    </tr>\n",
       "    <tr>\n",
       "      <th>BsmtQual_Gd</th>\n",
       "      <td>11258.870334</td>\n",
       "    </tr>\n",
       "    <tr>\n",
       "      <th>BsmtQual_TA</th>\n",
       "      <td>9387.648159</td>\n",
       "    </tr>\n",
       "    <tr>\n",
       "      <th>OverallCond</th>\n",
       "      <td>8461.449961</td>\n",
       "    </tr>\n",
       "    <tr>\n",
       "      <th>ExterQual_TA</th>\n",
       "      <td>8443.988841</td>\n",
       "    </tr>\n",
       "    <tr>\n",
       "      <th>ExterQual_Gd</th>\n",
       "      <td>6883.675738</td>\n",
       "    </tr>\n",
       "    <tr>\n",
       "      <th>GarageQual_TA</th>\n",
       "      <td>6692.366083</td>\n",
       "    </tr>\n",
       "    <tr>\n",
       "      <th>PoolQC_Fa</th>\n",
       "      <td>6208.296176</td>\n",
       "    </tr>\n",
       "    <tr>\n",
       "      <th>FireplaceQu_NA</th>\n",
       "      <td>5367.717448</td>\n",
       "    </tr>\n",
       "    <tr>\n",
       "      <th>FireplaceQu_Gd</th>\n",
       "      <td>4351.833666</td>\n",
       "    </tr>\n",
       "    <tr>\n",
       "      <th>GarageQual_Fa</th>\n",
       "      <td>3896.357338</td>\n",
       "    </tr>\n",
       "    <tr>\n",
       "      <th>BsmtQual_Fa</th>\n",
       "      <td>3286.413962</td>\n",
       "    </tr>\n",
       "    <tr>\n",
       "      <th>FireplaceQu_TA</th>\n",
       "      <td>2843.633066</td>\n",
       "    </tr>\n",
       "    <tr>\n",
       "      <th>Functional_Typ</th>\n",
       "      <td>1992.203088</td>\n",
       "    </tr>\n",
       "    <tr>\n",
       "      <th>GarageFinish_Unf</th>\n",
       "      <td>1817.51162</td>\n",
       "    </tr>\n",
       "    <tr>\n",
       "      <th>FireplaceQu_Fa</th>\n",
       "      <td>1758.66792</td>\n",
       "    </tr>\n",
       "    <tr>\n",
       "      <th>GarageCond_NA</th>\n",
       "      <td>1564.287125</td>\n",
       "    </tr>\n",
       "    <tr>\n",
       "      <th>Functional_Sev</th>\n",
       "      <td>1188.643952</td>\n",
       "    </tr>\n",
       "    <tr>\n",
       "      <th>GarageQual_Po</th>\n",
       "      <td>966.682386</td>\n",
       "    </tr>\n",
       "    <tr>\n",
       "      <th>BsmtCond_Po</th>\n",
       "      <td>825.69818</td>\n",
       "    </tr>\n",
       "    <tr>\n",
       "      <th>GarageFinish_RFn</th>\n",
       "      <td>698.545842</td>\n",
       "    </tr>\n",
       "    <tr>\n",
       "      <th>Utilities_NoSeWa</th>\n",
       "      <td>668.852855</td>\n",
       "    </tr>\n",
       "    <tr>\n",
       "      <th>HeatingQC_Gd</th>\n",
       "      <td>646.393105</td>\n",
       "    </tr>\n",
       "    <tr>\n",
       "      <th>BsmtCond_TA</th>\n",
       "      <td>620.607504</td>\n",
       "    </tr>\n",
       "    <tr>\n",
       "      <th>Fence_MnPrv</th>\n",
       "      <td>608.760826</td>\n",
       "    </tr>\n",
       "    <tr>\n",
       "      <th>HeatingQC_TA</th>\n",
       "      <td>525.39916</td>\n",
       "    </tr>\n",
       "    <tr>\n",
       "      <th>Functional_Min2</th>\n",
       "      <td>489.558776</td>\n",
       "    </tr>\n",
       "    <tr>\n",
       "      <th>Functional_Mod</th>\n",
       "      <td>476.197002</td>\n",
       "    </tr>\n",
       "    <tr>\n",
       "      <th>ExterCond_Gd</th>\n",
       "      <td>384.768275</td>\n",
       "    </tr>\n",
       "    <tr>\n",
       "      <th>Fence_GdWo</th>\n",
       "      <td>355.017861</td>\n",
       "    </tr>\n",
       "    <tr>\n",
       "      <th>Fence_NA</th>\n",
       "      <td>323.279681</td>\n",
       "    </tr>\n",
       "    <tr>\n",
       "      <th>HeatingQC_Fa</th>\n",
       "      <td>283.038609</td>\n",
       "    </tr>\n",
       "    <tr>\n",
       "      <th>GarageCond_Po</th>\n",
       "      <td>282.264937</td>\n",
       "    </tr>\n",
       "    <tr>\n",
       "      <th>Functional_Maj2</th>\n",
       "      <td>260.617564</td>\n",
       "    </tr>\n",
       "    <tr>\n",
       "      <th>Fence_MnWw</th>\n",
       "      <td>167.091386</td>\n",
       "    </tr>\n",
       "    <tr>\n",
       "      <th>ExterCond_TA</th>\n",
       "      <td>160.558737</td>\n",
       "    </tr>\n",
       "    <tr>\n",
       "      <th>Functional_Min1</th>\n",
       "      <td>142.826414</td>\n",
       "    </tr>\n",
       "    <tr>\n",
       "      <th>HeatingQC_Po</th>\n",
       "      <td>116.448004</td>\n",
       "    </tr>\n",
       "    <tr>\n",
       "      <th>GarageCond_Gd</th>\n",
       "      <td>113.635604</td>\n",
       "    </tr>\n",
       "    <tr>\n",
       "      <th>GarageCond_TA</th>\n",
       "      <td>83.310604</td>\n",
       "    </tr>\n",
       "    <tr>\n",
       "      <th>BsmtCond_Gd</th>\n",
       "      <td>32.208119</td>\n",
       "    </tr>\n",
       "    <tr>\n",
       "      <th>BsmtFinType1_NA</th>\n",
       "      <td>26.961002</td>\n",
       "    </tr>\n",
       "    <tr>\n",
       "      <th>BsmtFinType1_TA</th>\n",
       "      <td>17.522286</td>\n",
       "    </tr>\n",
       "    <tr>\n",
       "      <th>GarageQual_NA</th>\n",
       "      <td>16.319869</td>\n",
       "    </tr>\n",
       "    <tr>\n",
       "      <th>BsmtFinType1_Gd</th>\n",
       "      <td>6.908252</td>\n",
       "    </tr>\n",
       "    <tr>\n",
       "      <th>GarageFinish_NA</th>\n",
       "      <td>6.189402</td>\n",
       "    </tr>\n",
       "    <tr>\n",
       "      <th>BsmtFinType1_Po</th>\n",
       "      <td>4.293719</td>\n",
       "    </tr>\n",
       "    <tr>\n",
       "      <th>BsmtQual_NA</th>\n",
       "      <td>0.003658</td>\n",
       "    </tr>\n",
       "    <tr>\n",
       "      <th>GarageQual_Gd</th>\n",
       "      <td>0.0</td>\n",
       "    </tr>\n",
       "    <tr>\n",
       "      <th>FireplaceQu_Po</th>\n",
       "      <td>0.0</td>\n",
       "    </tr>\n",
       "    <tr>\n",
       "      <th>GarageCond_Fa</th>\n",
       "      <td>0.0</td>\n",
       "    </tr>\n",
       "    <tr>\n",
       "      <th>BsmtCond_NA</th>\n",
       "      <td>0.0</td>\n",
       "    </tr>\n",
       "    <tr>\n",
       "      <th>ExterCond_Po</th>\n",
       "      <td>0.0</td>\n",
       "    </tr>\n",
       "    <tr>\n",
       "      <th>ExterCond_Fa</th>\n",
       "      <td>0.0</td>\n",
       "    </tr>\n",
       "    <tr>\n",
       "      <th>ExterQual_Fa</th>\n",
       "      <td>0.0</td>\n",
       "    </tr>\n",
       "  </tbody>\n",
       "</table>\n",
       "</div>"
      ],
      "text/plain": [
       "                   Ridge_Coeff\n",
       "0                             \n",
       "OverallQual       14207.259685\n",
       "PoolQC_Gd          14095.46443\n",
       "PoolQC_NA         12082.282899\n",
       "BsmtQual_Gd       11258.870334\n",
       "BsmtQual_TA        9387.648159\n",
       "OverallCond        8461.449961\n",
       "ExterQual_TA       8443.988841\n",
       "ExterQual_Gd       6883.675738\n",
       "GarageQual_TA      6692.366083\n",
       "PoolQC_Fa          6208.296176\n",
       "FireplaceQu_NA     5367.717448\n",
       "FireplaceQu_Gd     4351.833666\n",
       "GarageQual_Fa      3896.357338\n",
       "BsmtQual_Fa        3286.413962\n",
       "FireplaceQu_TA     2843.633066\n",
       "Functional_Typ     1992.203088\n",
       "GarageFinish_Unf    1817.51162\n",
       "FireplaceQu_Fa      1758.66792\n",
       "GarageCond_NA      1564.287125\n",
       "Functional_Sev     1188.643952\n",
       "GarageQual_Po       966.682386\n",
       "BsmtCond_Po          825.69818\n",
       "GarageFinish_RFn    698.545842\n",
       "Utilities_NoSeWa    668.852855\n",
       "HeatingQC_Gd        646.393105\n",
       "BsmtCond_TA         620.607504\n",
       "Fence_MnPrv         608.760826\n",
       "HeatingQC_TA         525.39916\n",
       "Functional_Min2     489.558776\n",
       "Functional_Mod      476.197002\n",
       "ExterCond_Gd        384.768275\n",
       "Fence_GdWo          355.017861\n",
       "Fence_NA            323.279681\n",
       "HeatingQC_Fa        283.038609\n",
       "GarageCond_Po       282.264937\n",
       "Functional_Maj2     260.617564\n",
       "Fence_MnWw          167.091386\n",
       "ExterCond_TA        160.558737\n",
       "Functional_Min1     142.826414\n",
       "HeatingQC_Po        116.448004\n",
       "GarageCond_Gd       113.635604\n",
       "GarageCond_TA        83.310604\n",
       "BsmtCond_Gd          32.208119\n",
       "BsmtFinType1_NA      26.961002\n",
       "BsmtFinType1_TA      17.522286\n",
       "GarageQual_NA        16.319869\n",
       "BsmtFinType1_Gd       6.908252\n",
       "GarageFinish_NA       6.189402\n",
       "BsmtFinType1_Po       4.293719\n",
       "BsmtQual_NA           0.003658\n",
       "GarageQual_Gd              0.0\n",
       "FireplaceQu_Po             0.0\n",
       "GarageCond_Fa              0.0\n",
       "BsmtCond_NA                0.0\n",
       "ExterCond_Po               0.0\n",
       "ExterCond_Fa               0.0\n",
       "ExterQual_Fa               0.0"
      ]
     },
     "execution_count": 176,
     "metadata": {},
     "output_type": "execute_result"
    }
   ],
   "source": [
    "coeffsr_t = coefficientsr.transpose()\n",
    "coeffsr_t.columns = ['Ridge_Coeff']\n",
    "coeffsr_abs = coeffsr_t.abs().sort_values('Ridge_Coeff', ascending=False)\n",
    "coeffsr_abs"
   ]
  },
  {
   "cell_type": "code",
   "execution_count": 177,
   "metadata": {},
   "outputs": [],
   "source": [
    "#Lets find the 10 most"
   ]
  },
  {
   "cell_type": "code",
   "execution_count": 178,
   "metadata": {},
   "outputs": [],
   "source": [
    "bestren = coeffsr_abs.iloc[0:20]"
   ]
  },
  {
   "cell_type": "code",
   "execution_count": 179,
   "metadata": {},
   "outputs": [
    {
     "data": {
      "text/html": [
       "<div>\n",
       "<style scoped>\n",
       "    .dataframe tbody tr th:only-of-type {\n",
       "        vertical-align: middle;\n",
       "    }\n",
       "\n",
       "    .dataframe tbody tr th {\n",
       "        vertical-align: top;\n",
       "    }\n",
       "\n",
       "    .dataframe thead th {\n",
       "        text-align: right;\n",
       "    }\n",
       "</style>\n",
       "<table border=\"1\" class=\"dataframe\">\n",
       "  <thead>\n",
       "    <tr style=\"text-align: right;\">\n",
       "      <th></th>\n",
       "      <th>Ridge_Coeff</th>\n",
       "    </tr>\n",
       "    <tr>\n",
       "      <th>0</th>\n",
       "      <th></th>\n",
       "    </tr>\n",
       "  </thead>\n",
       "  <tbody>\n",
       "    <tr>\n",
       "      <th>OverallQual</th>\n",
       "      <td>14207.259685</td>\n",
       "    </tr>\n",
       "    <tr>\n",
       "      <th>PoolQC_Gd</th>\n",
       "      <td>14095.46443</td>\n",
       "    </tr>\n",
       "    <tr>\n",
       "      <th>PoolQC_NA</th>\n",
       "      <td>12082.282899</td>\n",
       "    </tr>\n",
       "    <tr>\n",
       "      <th>BsmtQual_Gd</th>\n",
       "      <td>11258.870334</td>\n",
       "    </tr>\n",
       "    <tr>\n",
       "      <th>BsmtQual_TA</th>\n",
       "      <td>9387.648159</td>\n",
       "    </tr>\n",
       "    <tr>\n",
       "      <th>OverallCond</th>\n",
       "      <td>8461.449961</td>\n",
       "    </tr>\n",
       "    <tr>\n",
       "      <th>ExterQual_TA</th>\n",
       "      <td>8443.988841</td>\n",
       "    </tr>\n",
       "    <tr>\n",
       "      <th>ExterQual_Gd</th>\n",
       "      <td>6883.675738</td>\n",
       "    </tr>\n",
       "    <tr>\n",
       "      <th>GarageQual_TA</th>\n",
       "      <td>6692.366083</td>\n",
       "    </tr>\n",
       "    <tr>\n",
       "      <th>PoolQC_Fa</th>\n",
       "      <td>6208.296176</td>\n",
       "    </tr>\n",
       "    <tr>\n",
       "      <th>FireplaceQu_NA</th>\n",
       "      <td>5367.717448</td>\n",
       "    </tr>\n",
       "    <tr>\n",
       "      <th>FireplaceQu_Gd</th>\n",
       "      <td>4351.833666</td>\n",
       "    </tr>\n",
       "    <tr>\n",
       "      <th>GarageQual_Fa</th>\n",
       "      <td>3896.357338</td>\n",
       "    </tr>\n",
       "    <tr>\n",
       "      <th>BsmtQual_Fa</th>\n",
       "      <td>3286.413962</td>\n",
       "    </tr>\n",
       "    <tr>\n",
       "      <th>FireplaceQu_TA</th>\n",
       "      <td>2843.633066</td>\n",
       "    </tr>\n",
       "    <tr>\n",
       "      <th>Functional_Typ</th>\n",
       "      <td>1992.203088</td>\n",
       "    </tr>\n",
       "    <tr>\n",
       "      <th>GarageFinish_Unf</th>\n",
       "      <td>1817.51162</td>\n",
       "    </tr>\n",
       "    <tr>\n",
       "      <th>FireplaceQu_Fa</th>\n",
       "      <td>1758.66792</td>\n",
       "    </tr>\n",
       "    <tr>\n",
       "      <th>GarageCond_NA</th>\n",
       "      <td>1564.287125</td>\n",
       "    </tr>\n",
       "    <tr>\n",
       "      <th>Functional_Sev</th>\n",
       "      <td>1188.643952</td>\n",
       "    </tr>\n",
       "  </tbody>\n",
       "</table>\n",
       "</div>"
      ],
      "text/plain": [
       "                   Ridge_Coeff\n",
       "0                             \n",
       "OverallQual       14207.259685\n",
       "PoolQC_Gd          14095.46443\n",
       "PoolQC_NA         12082.282899\n",
       "BsmtQual_Gd       11258.870334\n",
       "BsmtQual_TA        9387.648159\n",
       "OverallCond        8461.449961\n",
       "ExterQual_TA       8443.988841\n",
       "ExterQual_Gd       6883.675738\n",
       "GarageQual_TA      6692.366083\n",
       "PoolQC_Fa          6208.296176\n",
       "FireplaceQu_NA     5367.717448\n",
       "FireplaceQu_Gd     4351.833666\n",
       "GarageQual_Fa      3896.357338\n",
       "BsmtQual_Fa        3286.413962\n",
       "FireplaceQu_TA     2843.633066\n",
       "Functional_Typ     1992.203088\n",
       "GarageFinish_Unf    1817.51162\n",
       "FireplaceQu_Fa      1758.66792\n",
       "GarageCond_NA      1564.287125\n",
       "Functional_Sev     1188.643952"
      ]
     },
     "execution_count": 179,
     "metadata": {},
     "output_type": "execute_result"
    }
   ],
   "source": [
    "bestren"
   ]
  },
  {
   "cell_type": "code",
   "execution_count": 180,
   "metadata": {},
   "outputs": [
    {
     "data": {
      "text/html": [
       "<div>\n",
       "<style scoped>\n",
       "    .dataframe tbody tr th:only-of-type {\n",
       "        vertical-align: middle;\n",
       "    }\n",
       "\n",
       "    .dataframe tbody tr th {\n",
       "        vertical-align: top;\n",
       "    }\n",
       "\n",
       "    .dataframe thead th {\n",
       "        text-align: right;\n",
       "    }\n",
       "</style>\n",
       "<table border=\"1\" class=\"dataframe\">\n",
       "  <thead>\n",
       "    <tr style=\"text-align: right;\">\n",
       "      <th></th>\n",
       "      <th>Ridge_Coeff</th>\n",
       "    </tr>\n",
       "    <tr>\n",
       "      <th>0</th>\n",
       "      <th></th>\n",
       "    </tr>\n",
       "  </thead>\n",
       "  <tbody>\n",
       "    <tr>\n",
       "      <th>OverallQual</th>\n",
       "      <td>14207.259685</td>\n",
       "    </tr>\n",
       "    <tr>\n",
       "      <th>PoolQC_Gd</th>\n",
       "      <td>14095.46443</td>\n",
       "    </tr>\n",
       "    <tr>\n",
       "      <th>PoolQC_NA</th>\n",
       "      <td>12082.282899</td>\n",
       "    </tr>\n",
       "    <tr>\n",
       "      <th>BsmtQual_Gd</th>\n",
       "      <td>11258.870334</td>\n",
       "    </tr>\n",
       "    <tr>\n",
       "      <th>BsmtQual_TA</th>\n",
       "      <td>9387.648159</td>\n",
       "    </tr>\n",
       "    <tr>\n",
       "      <th>OverallCond</th>\n",
       "      <td>8461.449961</td>\n",
       "    </tr>\n",
       "    <tr>\n",
       "      <th>ExterQual_TA</th>\n",
       "      <td>8443.988841</td>\n",
       "    </tr>\n",
       "    <tr>\n",
       "      <th>ExterQual_Gd</th>\n",
       "      <td>6883.675738</td>\n",
       "    </tr>\n",
       "    <tr>\n",
       "      <th>GarageQual_TA</th>\n",
       "      <td>6692.366083</td>\n",
       "    </tr>\n",
       "    <tr>\n",
       "      <th>PoolQC_Fa</th>\n",
       "      <td>6208.296176</td>\n",
       "    </tr>\n",
       "    <tr>\n",
       "      <th>FireplaceQu_NA</th>\n",
       "      <td>5367.717448</td>\n",
       "    </tr>\n",
       "    <tr>\n",
       "      <th>FireplaceQu_Gd</th>\n",
       "      <td>4351.833666</td>\n",
       "    </tr>\n",
       "    <tr>\n",
       "      <th>GarageQual_Fa</th>\n",
       "      <td>3896.357338</td>\n",
       "    </tr>\n",
       "    <tr>\n",
       "      <th>BsmtQual_Fa</th>\n",
       "      <td>3286.413962</td>\n",
       "    </tr>\n",
       "    <tr>\n",
       "      <th>FireplaceQu_TA</th>\n",
       "      <td>2843.633066</td>\n",
       "    </tr>\n",
       "    <tr>\n",
       "      <th>Functional_Typ</th>\n",
       "      <td>1992.203088</td>\n",
       "    </tr>\n",
       "    <tr>\n",
       "      <th>GarageFinish_Unf</th>\n",
       "      <td>1817.51162</td>\n",
       "    </tr>\n",
       "    <tr>\n",
       "      <th>FireplaceQu_Fa</th>\n",
       "      <td>1758.66792</td>\n",
       "    </tr>\n",
       "    <tr>\n",
       "      <th>GarageCond_NA</th>\n",
       "      <td>1564.287125</td>\n",
       "    </tr>\n",
       "    <tr>\n",
       "      <th>Functional_Sev</th>\n",
       "      <td>1188.643952</td>\n",
       "    </tr>\n",
       "  </tbody>\n",
       "</table>\n",
       "</div>"
      ],
      "text/plain": [
       "                   Ridge_Coeff\n",
       "0                             \n",
       "OverallQual       14207.259685\n",
       "PoolQC_Gd          14095.46443\n",
       "PoolQC_NA         12082.282899\n",
       "BsmtQual_Gd       11258.870334\n",
       "BsmtQual_TA        9387.648159\n",
       "OverallCond        8461.449961\n",
       "ExterQual_TA       8443.988841\n",
       "ExterQual_Gd       6883.675738\n",
       "GarageQual_TA      6692.366083\n",
       "PoolQC_Fa          6208.296176\n",
       "FireplaceQu_NA     5367.717448\n",
       "FireplaceQu_Gd     4351.833666\n",
       "GarageQual_Fa      3896.357338\n",
       "BsmtQual_Fa        3286.413962\n",
       "FireplaceQu_TA     2843.633066\n",
       "Functional_Typ     1992.203088\n",
       "GarageFinish_Unf    1817.51162\n",
       "FireplaceQu_Fa      1758.66792\n",
       "GarageCond_NA      1564.287125\n",
       "Functional_Sev     1188.643952"
      ]
     },
     "execution_count": 180,
     "metadata": {},
     "output_type": "execute_result"
    }
   ],
   "source": [
    "bestren"
   ]
  },
  {
   "cell_type": "code",
   "execution_count": 181,
   "metadata": {},
   "outputs": [
    {
     "data": {
      "text/plain": [
       "Text(0.5, 1.0, 'Renovation features corr.')"
      ]
     },
     "execution_count": 181,
     "metadata": {},
     "output_type": "execute_result"
    },
    {
     "data": {
      "image/png": "[encoded data removed]",
      "text/plain": [
       "<Figure size 432x288 with 1 Axes>"
      ]
     },
     "metadata": {
      "image/png": {
       "height": 260,
       "width": 490
      },
      "needs_background": "light"
     },
     "output_type": "display_data"
    },
    {
     "name": "stdout",
     "output_type": "stream",
     "text": [
      "Executing shutdown due to inactivity...\n"
     ]
    },
    {
     "name": "stderr",
     "output_type": "stream",
     "text": [
      "2021-06-05 19:36:59,171 - INFO     - Executing shutdown due to inactivity...\n"
     ]
    },
    {
     "name": "stdout",
     "output_type": "stream",
     "text": [
      "Executing shutdown...\n"
     ]
    },
    {
     "name": "stderr",
     "output_type": "stream",
     "text": [
      "2021-06-05 19:36:59,340 - INFO     - Executing shutdown...\n"
     ]
    }
   ],
   "source": [
    "bestren.plot(kind=\"barh\", linewidth = 1,)\n",
    "plt.title(\"Renovation features corr.\")"
   ]
  },
  {
   "cell_type": "markdown",
   "metadata": {},
   "source": [
    "<img src=\"http://imgur.com/GCAf1UX.png\" style=\"float: left; margin: 25px 15px 0px 0px; height: 25px\">\n",
    "\n",
    "## 3. What property characteristics predict an \"abnormal\" sale?\n",
    "\n",
    "---\n",
    "\n",
    "The `SaleCondition` feature indicates the circumstances of the house sale. From the data file, we can see that the possibilities are:\n",
    "\n",
    "       Normal\tNormal Sale\n",
    "       Abnorml\tAbnormal Sale -  trade, foreclosure, short sale\n",
    "       AdjLand\tAdjoining Land Purchase\n",
    "       Alloca\tAllocation - two linked properties with separate deeds, typically condo with a garage unit\t\n",
    "       Family\tSale between family members\n",
    "       Partial\tHome was not completed when last assessed (associated with New Homes)\n",
    "       \n",
    "One of the executives at your company has an \"in\" with higher-ups at the major regional bank. His friends at the bank have made him a proposal: if he can reliably indicate what features, if any, predict \"abnormal\" sales (foreclosures, short sales, etc.), then in return the bank will give him first dibs on the pre-auction purchase of those properties (at a dirt-cheap price).\n",
    "\n",
    "He has tasked you with determining (and adequately validating) which features of a property predict this type of sale. \n",
    "\n",
    "---\n",
    "\n",
    "**Your task:**\n",
    "1. Determine which features predict the `Abnorml` category in the `SaleCondition` feature.\n",
    "- Justify your results.\n",
    "\n",
    "This is a challenging task that tests your ability to perform classification analysis in the face of severe class imbalance. You may find that simply running a classifier on the full dataset to predict the category ends up useless: when there is bad class imbalance classifiers often tend to simply guess the majority class.\n",
    "\n",
    "It is up to you to determine how you will tackle this problem. I recommend doing some research to find out how others have dealt with the problem in the past. Make sure to justify your solution. Don't worry about it being \"the best\" solution, but be rigorous.\n",
    "\n",
    "Be sure to indicate which features are predictive (if any) and whether they are positive or negative predictors of abnormal sales.\n",
    "\n",
    "\n",
    " \n"
   ]
  },
  {
   "cell_type": "code",
   "execution_count": null,
   "metadata": {},
   "outputs": [],
   "source": []
  },
  {
   "cell_type": "code",
   "execution_count": null,
   "metadata": {},
   "outputs": [],
   "source": []
  },
  {
   "cell_type": "code",
   "execution_count": null,
   "metadata": {},
   "outputs": [],
   "source": []
  },
  {
   "cell_type": "code",
   "execution_count": null,
   "metadata": {},
   "outputs": [],
   "source": []
  },
  {
   "cell_type": "code",
   "execution_count": null,
   "metadata": {},
   "outputs": [],
   "source": []
  },
  {
   "cell_type": "code",
   "execution_count": null,
   "metadata": {},
   "outputs": [],
   "source": []
  },
  {
   "cell_type": "code",
   "execution_count": null,
   "metadata": {},
   "outputs": [],
   "source": [
    "# A:"
   ]
  }
 ],
 "metadata": {
  "kernelspec": {
   "display_name": "Python 3",
   "language": "python",
   "name": "python3"
  },
  "language_info": {
   "codemirror_mode": {
    "name": "ipython",
    "version": 3
   },
   "file_extension": ".py",
   "mimetype": "text/x-python",
   "name": "python",
   "nbconvert_exporter": "python",
   "pygments_lexer": "ipython3",
   "version": "3.8.5"
  },
  "latex_envs": {
   "LaTeX_envs_menu_present": true,
   "autoclose": false,
   "autocomplete": true,
   "bibliofile": "biblio.bib",
   "cite_by": "apalike",
   "current_citInitial": 1,
   "eqLabelWithNumbers": true,
   "eqNumInitial": 1,
   "hotkeys": {
    "equation": "Ctrl-E",
    "itemize": "Ctrl-I"
   },
   "labels_anchors": false,
   "latex_user_defs": false,
   "report_style_numbering": false,
   "user_envs_cfg": false
  },
  "varInspector": {
   "cols": {
    "lenName": 16,
    "lenType": 16,
    "lenVar": 40
   },
   "kernels_config": {
    "python": {
     "delete_cmd_postfix": "",
     "delete_cmd_prefix": "del ",
     "library": "var_list.py",
     "varRefreshCmd": "print(var_dic_list())"
    },
    "r": {
     "delete_cmd_postfix": ") ",
     "delete_cmd_prefix": "rm(",
     "library": "var_list.r",
     "varRefreshCmd": "cat(var_dic_list()) "
    }
   },
   "types_to_exclude": [
    "module",
    "function",
    "builtin_function_or_method",
    "instance",
    "_Feature"
   ],
   "window_display": false
  }
 },
 "nbformat": 4,
 "nbformat_minor": 2
}
